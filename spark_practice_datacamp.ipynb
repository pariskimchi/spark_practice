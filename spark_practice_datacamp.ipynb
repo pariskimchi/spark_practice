{
 "cells": [
  {
   "cell_type": "code",
   "execution_count": 1,
   "id": "871b8273",
   "metadata": {},
   "outputs": [],
   "source": [
    "import findspark\n",
    "findspark.init()"
   ]
  },
  {
   "cell_type": "code",
   "execution_count": 2,
   "id": "f5200044",
   "metadata": {},
   "outputs": [],
   "source": [
    "# import Spark Session from pyspark.sql\n",
    "from pyspark.sql import SparkSession"
   ]
  },
  {
   "cell_type": "code",
   "execution_count": 3,
   "id": "9ad6945a",
   "metadata": {},
   "outputs": [],
   "source": [
    "# create my_spark sparkSession \n",
    "# SparkSession.builder.getOrCreate()\n",
    "my_spark = SparkSession.builder.getOrCreate()"
   ]
  },
  {
   "cell_type": "code",
   "execution_count": 4,
   "id": "67ef192f",
   "metadata": {},
   "outputs": [
    {
     "name": "stdout",
     "output_type": "stream",
     "text": [
      "<pyspark.sql.session.SparkSession object at 0x00000277FD595580>\n"
     ]
    }
   ],
   "source": [
    "# print my_spark \n",
    "print(my_spark)"
   ]
  },
  {
   "cell_type": "markdown",
   "id": "3b777c80",
   "metadata": {},
   "source": [
    "### Viewing tables\n",
    "SparkSession은 catalog를 가지고 있다 \\\n",
    "catalog 란?\\\n",
    "=> 클러스터 내부 모든 데이터 리스트\\\n",
    "=> .listTables() => 모든 테이블 이름 리스트 출력 \\\n",
    "=> spark.catalog.listTables()"
   ]
  },
  {
   "cell_type": "code",
   "execution_count": 7,
   "id": "05f579ce",
   "metadata": {},
   "outputs": [
    {
     "name": "stdout",
     "output_type": "stream",
     "text": [
      "[]\n"
     ]
    }
   ],
   "source": [
    "# print the tables in the catalog \n",
    "print(my_spark.catalog.listTables())"
   ]
  },
  {
   "cell_type": "code",
   "execution_count": 8,
   "id": "0c53723e",
   "metadata": {},
   "outputs": [],
   "source": [
    "spark = SparkSession.builder()\\\n",
    "    .appName(\"\")"
   ]
  },
  {
   "cell_type": "code",
   "execution_count": 9,
   "id": "165e4375",
   "metadata": {},
   "outputs": [],
   "source": [
    "# load data \n",
    "path = \"data/sparkify_log_small.json\"\n",
    "user_log = spark.read.json(path)"
   ]
  },
  {
   "cell_type": "code",
   "execution_count": 10,
   "id": "efcbed82",
   "metadata": {},
   "outputs": [
    {
     "name": "stdout",
     "output_type": "stream",
     "text": [
      "root\n",
      " |-- artist: string (nullable = true)\n",
      " |-- auth: string (nullable = true)\n",
      " |-- firstName: string (nullable = true)\n",
      " |-- gender: string (nullable = true)\n",
      " |-- itemInSession: long (nullable = true)\n",
      " |-- lastName: string (nullable = true)\n",
      " |-- length: double (nullable = true)\n",
      " |-- level: string (nullable = true)\n",
      " |-- location: string (nullable = true)\n",
      " |-- method: string (nullable = true)\n",
      " |-- page: string (nullable = true)\n",
      " |-- registration: long (nullable = true)\n",
      " |-- sessionId: long (nullable = true)\n",
      " |-- song: string (nullable = true)\n",
      " |-- status: long (nullable = true)\n",
      " |-- ts: long (nullable = true)\n",
      " |-- userAgent: string (nullable = true)\n",
      " |-- userId: string (nullable = true)\n",
      "\n"
     ]
    }
   ],
   "source": [
    "user_log.printSchema()"
   ]
  },
  {
   "cell_type": "code",
   "execution_count": 11,
   "id": "3e9119fc",
   "metadata": {},
   "outputs": [],
   "source": [
    "# Create table \n",
    "user_log.createOrReplaceTempView(\"user_log_table\")"
   ]
  },
  {
   "cell_type": "code",
   "execution_count": 12,
   "id": "06cac454",
   "metadata": {},
   "outputs": [],
   "source": [
    "# apply query\n",
    "query = '''\n",
    "    SELECT *\n",
    "    FROM user_log_table\n",
    "    LIMIT 10;\n",
    "'''"
   ]
  },
  {
   "cell_type": "code",
   "execution_count": 17,
   "id": "9ee68eae",
   "metadata": {},
   "outputs": [],
   "source": [
    "user_log_10 = spark.sql(query)"
   ]
  },
  {
   "cell_type": "code",
   "execution_count": 18,
   "id": "f9e48dcd",
   "metadata": {},
   "outputs": [
    {
     "name": "stdout",
     "output_type": "stream",
     "text": [
      "+--------------------+---------+---------+------+-------------+---------+---------+-----+--------------------+------+--------+-------------+---------+--------------------+------+-------------+--------------------+------+\n",
      "|              artist|     auth|firstName|gender|itemInSession| lastName|   length|level|            location|method|    page| registration|sessionId|                song|status|           ts|           userAgent|userId|\n",
      "+--------------------+---------+---------+------+-------------+---------+---------+-----+--------------------+------+--------+-------------+---------+--------------------+------+-------------+--------------------+------+\n",
      "|       Showaddywaddy|Logged In|  Kenneth|     M|          112| Matthews|232.93342| paid|Charlotte-Concord...|   PUT|NextSong|1509380319284|     5132|Christmas Tears W...|   200|1513720872284|\"Mozilla/5.0 (Win...|  1046|\n",
      "|          Lily Allen|Logged In|Elizabeth|     F|            7|    Chase|195.23873| free|Shreveport-Bossie...|   PUT|NextSong|1512718541284|     5027|       Cheryl Tweedy|   200|1513720878284|\"Mozilla/5.0 (Win...|  1000|\n",
      "|Cobra Starship Fe...|Logged In|     Vera|     F|            6|Blackwell|196.20526| paid|          Racine, WI|   PUT|NextSong|1499855749284|     5516|Good Girls Go Bad...|   200|1513720881284|\"Mozilla/5.0 (Mac...|  2219|\n",
      "|          Alex Smoke|Logged In|   Sophee|     F|            8|   Barker|405.99465| paid|San Luis Obispo-P...|   PUT|NextSong|1513009647284|     2372| Don't See The Point|   200|1513720905284|\"Mozilla/5.0 (Win...|  2373|\n",
      "|                null|Logged In|   Jordyn|     F|            0|    Jones|     null| free|        Syracuse, NY|   GET|    Home|1513648531284|     1746|                null|   200|1513720913284|\"Mozilla/5.0 (Mac...|  1747|\n",
      "|                null|Logged In|   Jordyn|     F|            1|    Jones|     null| free|        Syracuse, NY|   GET|Settings|1513648531284|     1746|                null|   200|1513720932284|\"Mozilla/5.0 (Mac...|  1747|\n",
      "|              Redman|Logged In|    Paige|     F|            0|   Hunter|154.53995| free|       Brownwood, TX|   PUT|NextSong|1498414068284|     4406|        Smoke Buddah|   200|1513720955284|\"Mozilla/5.0 (Mac...|  1162|\n",
      "|     Ulrich Schnauss|Logged In|  Gabriel|     M|            2|     Koch|402.93832| paid|     Panama City, FL|   PUT|NextSong|1505820418284|     1060|           On My Own|   200|1513720959284|Mozilla/5.0 (Wind...|  1061|\n",
      "|                null|Logged In|    Mason|     M|            2|   Thomas|     null| paid|Indianapolis-Carm...|   GET|    Home|1487015656284|     5661|                null|   200|1513720959284|Mozilla/5.0 (comp...|   748|\n",
      "|                null|Logged In|Alexander|     M|            0|    Short|     null| free|       Green Bay, WI|   GET|    Home|1513594398284|     3689|                null|   200|1513720980284|\"Mozilla/5.0 (Win...|   597|\n",
      "+--------------------+---------+---------+------+-------------+---------+---------+-----+--------------------+------+--------+-------------+---------+--------------------+------+-------------+--------------------+------+\n",
      "\n"
     ]
    }
   ],
   "source": [
    "user_log_10.show(10)"
   ]
  },
  {
   "cell_type": "markdown",
   "id": "1c15aee1",
   "metadata": {},
   "source": [
    "### Pandafy a spark dataframe\n",
    "\n",
    "    => spark.toPandas()"
   ]
  },
  {
   "cell_type": "code",
   "execution_count": 23,
   "id": "65a5c67d",
   "metadata": {},
   "outputs": [],
   "source": [
    "query = '''\n",
    "    SELECT artist, COUNT(*) as artist_count\n",
    "    FROM user_log_table \n",
    "    GROUP BY artist\n",
    "    ORDER BY artist_count desc;\n",
    "'''"
   ]
  },
  {
   "cell_type": "code",
   "execution_count": 24,
   "id": "bfc975f0",
   "metadata": {},
   "outputs": [],
   "source": [
    "# run the query \n",
    "artist_counts = spark.sql(query)"
   ]
  },
  {
   "cell_type": "code",
   "execution_count": 25,
   "id": "bc3be380",
   "metadata": {},
   "outputs": [],
   "source": [
    "# convert the results to a pandas dataframe \n",
    "artist_counts_pd = artist_counts.toPandas()"
   ]
  },
  {
   "cell_type": "code",
   "execution_count": 26,
   "id": "c2ca163a",
   "metadata": {},
   "outputs": [
    {
     "data": {
      "text/html": [
       "<div>\n",
       "<style scoped>\n",
       "    .dataframe tbody tr th:only-of-type {\n",
       "        vertical-align: middle;\n",
       "    }\n",
       "\n",
       "    .dataframe tbody tr th {\n",
       "        vertical-align: top;\n",
       "    }\n",
       "\n",
       "    .dataframe thead th {\n",
       "        text-align: right;\n",
       "    }\n",
       "</style>\n",
       "<table border=\"1\" class=\"dataframe\">\n",
       "  <thead>\n",
       "    <tr style=\"text-align: right;\">\n",
       "      <th></th>\n",
       "      <th>artist</th>\n",
       "      <th>artist_count</th>\n",
       "    </tr>\n",
       "  </thead>\n",
       "  <tbody>\n",
       "    <tr>\n",
       "      <th>0</th>\n",
       "      <td>None</td>\n",
       "      <td>1653</td>\n",
       "    </tr>\n",
       "    <tr>\n",
       "      <th>1</th>\n",
       "      <td>Coldplay</td>\n",
       "      <td>83</td>\n",
       "    </tr>\n",
       "    <tr>\n",
       "      <th>2</th>\n",
       "      <td>Kings Of Leon</td>\n",
       "      <td>69</td>\n",
       "    </tr>\n",
       "    <tr>\n",
       "      <th>3</th>\n",
       "      <td>Florence + The Machine</td>\n",
       "      <td>52</td>\n",
       "    </tr>\n",
       "    <tr>\n",
       "      <th>4</th>\n",
       "      <td>BjÃÂ¶rk</td>\n",
       "      <td>46</td>\n",
       "    </tr>\n",
       "  </tbody>\n",
       "</table>\n",
       "</div>"
      ],
      "text/plain": [
       "                   artist  artist_count\n",
       "0                    None          1653\n",
       "1                Coldplay            83\n",
       "2           Kings Of Leon            69\n",
       "3  Florence + The Machine            52\n",
       "4                BjÃÂ¶rk            46"
      ]
     },
     "execution_count": 26,
     "metadata": {},
     "output_type": "execute_result"
    }
   ],
   "source": [
    "# print the head \n",
    "artist_counts_pd.head()"
   ]
  },
  {
   "cell_type": "markdown",
   "id": "a78cec05",
   "metadata": {},
   "source": [
    "### Put some Spark in your data"
   ]
  },
  {
   "cell_type": "code",
   "execution_count": 29,
   "id": "5f5bb257",
   "metadata": {},
   "outputs": [],
   "source": [
    "import pandas as pd\n",
    "import numpy as np\n"
   ]
  },
  {
   "cell_type": "code",
   "execution_count": 30,
   "id": "c8717b30",
   "metadata": {},
   "outputs": [],
   "source": [
    "# create random pd_temp \n",
    "pd_temp = pd.DataFrame(np.random.random(10))"
   ]
  },
  {
   "cell_type": "code",
   "execution_count": 31,
   "id": "995dcad4",
   "metadata": {},
   "outputs": [
    {
     "data": {
      "text/html": [
       "<div>\n",
       "<style scoped>\n",
       "    .dataframe tbody tr th:only-of-type {\n",
       "        vertical-align: middle;\n",
       "    }\n",
       "\n",
       "    .dataframe tbody tr th {\n",
       "        vertical-align: top;\n",
       "    }\n",
       "\n",
       "    .dataframe thead th {\n",
       "        text-align: right;\n",
       "    }\n",
       "</style>\n",
       "<table border=\"1\" class=\"dataframe\">\n",
       "  <thead>\n",
       "    <tr style=\"text-align: right;\">\n",
       "      <th></th>\n",
       "      <th>0</th>\n",
       "    </tr>\n",
       "  </thead>\n",
       "  <tbody>\n",
       "    <tr>\n",
       "      <th>0</th>\n",
       "      <td>0.820515</td>\n",
       "    </tr>\n",
       "    <tr>\n",
       "      <th>1</th>\n",
       "      <td>0.975538</td>\n",
       "    </tr>\n",
       "    <tr>\n",
       "      <th>2</th>\n",
       "      <td>0.752919</td>\n",
       "    </tr>\n",
       "    <tr>\n",
       "      <th>3</th>\n",
       "      <td>0.768485</td>\n",
       "    </tr>\n",
       "    <tr>\n",
       "      <th>4</th>\n",
       "      <td>0.253651</td>\n",
       "    </tr>\n",
       "    <tr>\n",
       "      <th>5</th>\n",
       "      <td>0.115129</td>\n",
       "    </tr>\n",
       "    <tr>\n",
       "      <th>6</th>\n",
       "      <td>0.108374</td>\n",
       "    </tr>\n",
       "    <tr>\n",
       "      <th>7</th>\n",
       "      <td>0.754835</td>\n",
       "    </tr>\n",
       "    <tr>\n",
       "      <th>8</th>\n",
       "      <td>0.831849</td>\n",
       "    </tr>\n",
       "    <tr>\n",
       "      <th>9</th>\n",
       "      <td>0.687697</td>\n",
       "    </tr>\n",
       "  </tbody>\n",
       "</table>\n",
       "</div>"
      ],
      "text/plain": [
       "          0\n",
       "0  0.820515\n",
       "1  0.975538\n",
       "2  0.752919\n",
       "3  0.768485\n",
       "4  0.253651\n",
       "5  0.115129\n",
       "6  0.108374\n",
       "7  0.754835\n",
       "8  0.831849\n",
       "9  0.687697"
      ]
     },
     "execution_count": 31,
     "metadata": {},
     "output_type": "execute_result"
    }
   ],
   "source": [
    "pd_temp"
   ]
  },
  {
   "cell_type": "code",
   "execution_count": 32,
   "id": "20a81755",
   "metadata": {},
   "outputs": [],
   "source": [
    "# create spark_temp from pd_temp \n",
    "# spark.createDataFrame(pd_temp)\n",
    "spark_temp = spark.createDataFrame(pd_temp)"
   ]
  },
  {
   "cell_type": "code",
   "execution_count": 34,
   "id": "f71b2107",
   "metadata": {},
   "outputs": [
    {
     "name": "stdout",
     "output_type": "stream",
     "text": [
      "+-------------------+\n",
      "|                  0|\n",
      "+-------------------+\n",
      "| 0.8205150631920037|\n",
      "|  0.975538043384088|\n",
      "| 0.7529192819001671|\n",
      "| 0.7684850592578836|\n",
      "| 0.2536512519605756|\n",
      "|0.11512944719954976|\n",
      "|0.10837405093038888|\n",
      "| 0.7548351246169582|\n",
      "| 0.8318492889791586|\n",
      "| 0.6876968869449681|\n",
      "+-------------------+\n",
      "\n"
     ]
    }
   ],
   "source": [
    "spark_temp.show()"
   ]
  },
  {
   "cell_type": "code",
   "execution_count": 35,
   "id": "10598994",
   "metadata": {},
   "outputs": [
    {
     "data": {
      "text/plain": [
       "[Table(name='user_log_table', database=None, description=None, tableType='TEMPORARY', isTemporary=True)]"
      ]
     },
     "execution_count": 35,
     "metadata": {},
     "output_type": "execute_result"
    }
   ],
   "source": [
    "spark.catalog.listTables()"
   ]
  },
  {
   "cell_type": "code",
   "execution_count": 36,
   "id": "174fbc1e",
   "metadata": {},
   "outputs": [],
   "source": [
    "# add spark_temp to the catalog \n",
    "spark_temp.createOrReplaceTempView(\"temp\")"
   ]
  },
  {
   "cell_type": "code",
   "execution_count": 37,
   "id": "5cd6865c",
   "metadata": {},
   "outputs": [
    {
     "data": {
      "text/plain": [
       "[Table(name='temp', database=None, description=None, tableType='TEMPORARY', isTemporary=True),\n",
       " Table(name='user_log_table', database=None, description=None, tableType='TEMPORARY', isTemporary=True)]"
      ]
     },
     "execution_count": 37,
     "metadata": {},
     "output_type": "execute_result"
    }
   ],
   "source": [
    "# checking catalog \n",
    "spark.catalog.listTables()"
   ]
  },
  {
   "cell_type": "markdown",
   "id": "994218dc",
   "metadata": {},
   "source": [
    "### Creating Columns\n",
    "    df = df.withColumn(\"newcol\", df.oldCol+1)"
   ]
  },
  {
   "cell_type": "code",
   "execution_count": 38,
   "id": "5323a1b6",
   "metadata": {},
   "outputs": [],
   "source": [
    "# create the dataframe temp \n",
    "df_temp = spark.table(\"temp\")"
   ]
  },
  {
   "cell_type": "code",
   "execution_count": 41,
   "id": "67680ad8",
   "metadata": {},
   "outputs": [
    {
     "name": "stdout",
     "output_type": "stream",
     "text": [
      "+-------------------+\n",
      "|                  0|\n",
      "+-------------------+\n",
      "| 0.8205150631920037|\n",
      "|  0.975538043384088|\n",
      "| 0.7529192819001671|\n",
      "| 0.7684850592578836|\n",
      "| 0.2536512519605756|\n",
      "|0.11512944719954976|\n",
      "|0.10837405093038888|\n",
      "| 0.7548351246169582|\n",
      "| 0.8318492889791586|\n",
      "| 0.6876968869449681|\n",
      "+-------------------+\n",
      "\n"
     ]
    }
   ],
   "source": [
    "df_temp.show()"
   ]
  },
  {
   "cell_type": "code",
   "execution_count": 44,
   "id": "f9cf790c",
   "metadata": {},
   "outputs": [],
   "source": [
    "# add new column \n",
    "df_temp = df_temp.withColumn(\"new col1\",df_temp[\"0\"]+1)"
   ]
  },
  {
   "cell_type": "code",
   "execution_count": 45,
   "id": "66d217c7",
   "metadata": {},
   "outputs": [
    {
     "name": "stdout",
     "output_type": "stream",
     "text": [
      "+-------------------+------------------+\n",
      "|                  0|          new col1|\n",
      "+-------------------+------------------+\n",
      "| 0.8205150631920037|1.8205150631920037|\n",
      "|  0.975538043384088|1.9755380433840881|\n",
      "| 0.7529192819001671| 1.752919281900167|\n",
      "| 0.7684850592578836|1.7684850592578836|\n",
      "| 0.2536512519605756|1.2536512519605756|\n",
      "|0.11512944719954976|1.1151294471995499|\n",
      "|0.10837405093038888|1.1083740509303888|\n",
      "| 0.7548351246169582|1.7548351246169582|\n",
      "| 0.8318492889791586|1.8318492889791584|\n",
      "| 0.6876968869449681| 1.687696886944968|\n",
      "+-------------------+------------------+\n",
      "\n"
     ]
    }
   ],
   "source": [
    "df_temp.show()"
   ]
  },
  {
   "cell_type": "markdown",
   "id": "3d7f2a0d",
   "metadata": {},
   "source": [
    "## filtering"
   ]
  },
  {
   "cell_type": "code",
   "execution_count": 46,
   "id": "0c0c9a2f",
   "metadata": {},
   "outputs": [
    {
     "name": "stdout",
     "output_type": "stream",
     "text": [
      "+--------------------+---------+---------+------+-------------+---------+---------+-----+--------------------+------+--------+-------------+---------+--------------------+------+-------------+--------------------+------+\n",
      "|              artist|     auth|firstName|gender|itemInSession| lastName|   length|level|            location|method|    page| registration|sessionId|                song|status|           ts|           userAgent|userId|\n",
      "+--------------------+---------+---------+------+-------------+---------+---------+-----+--------------------+------+--------+-------------+---------+--------------------+------+-------------+--------------------+------+\n",
      "|       Showaddywaddy|Logged In|  Kenneth|     M|          112| Matthews|232.93342| paid|Charlotte-Concord...|   PUT|NextSong|1509380319284|     5132|Christmas Tears W...|   200|1513720872284|\"Mozilla/5.0 (Win...|  1046|\n",
      "|          Lily Allen|Logged In|Elizabeth|     F|            7|    Chase|195.23873| free|Shreveport-Bossie...|   PUT|NextSong|1512718541284|     5027|       Cheryl Tweedy|   200|1513720878284|\"Mozilla/5.0 (Win...|  1000|\n",
      "|Cobra Starship Fe...|Logged In|     Vera|     F|            6|Blackwell|196.20526| paid|          Racine, WI|   PUT|NextSong|1499855749284|     5516|Good Girls Go Bad...|   200|1513720881284|\"Mozilla/5.0 (Mac...|  2219|\n",
      "|          Alex Smoke|Logged In|   Sophee|     F|            8|   Barker|405.99465| paid|San Luis Obispo-P...|   PUT|NextSong|1513009647284|     2372| Don't See The Point|   200|1513720905284|\"Mozilla/5.0 (Win...|  2373|\n",
      "|                null|Logged In|   Jordyn|     F|            0|    Jones|     null| free|        Syracuse, NY|   GET|    Home|1513648531284|     1746|                null|   200|1513720913284|\"Mozilla/5.0 (Mac...|  1747|\n",
      "|                null|Logged In|   Jordyn|     F|            1|    Jones|     null| free|        Syracuse, NY|   GET|Settings|1513648531284|     1746|                null|   200|1513720932284|\"Mozilla/5.0 (Mac...|  1747|\n",
      "|              Redman|Logged In|    Paige|     F|            0|   Hunter|154.53995| free|       Brownwood, TX|   PUT|NextSong|1498414068284|     4406|        Smoke Buddah|   200|1513720955284|\"Mozilla/5.0 (Mac...|  1162|\n",
      "|     Ulrich Schnauss|Logged In|  Gabriel|     M|            2|     Koch|402.93832| paid|     Panama City, FL|   PUT|NextSong|1505820418284|     1060|           On My Own|   200|1513720959284|Mozilla/5.0 (Wind...|  1061|\n",
      "|                null|Logged In|    Mason|     M|            2|   Thomas|     null| paid|Indianapolis-Carm...|   GET|    Home|1487015656284|     5661|                null|   200|1513720959284|Mozilla/5.0 (comp...|   748|\n",
      "|                null|Logged In|Alexander|     M|            0|    Short|     null| free|       Green Bay, WI|   GET|    Home|1513594398284|     3689|                null|   200|1513720980284|\"Mozilla/5.0 (Win...|   597|\n",
      "|               Jay-Z|Logged In|  Micheal|     M|           23|   Morgan|223.26812| paid|        Sterling, CO|   PUT|NextSong|1485051492284|     5175|Heart Of The City...|   200|1513720983284|\"Mozilla/5.0 (Win...|  1806|\n",
      "|         Evanescence|Logged In|    Mason|     M|            3|   Thomas|237.11302| paid|Indianapolis-Carm...|   PUT|NextSong|1487015656284|     5661|    Bring Me To Life|   200|1513720993284|Mozilla/5.0 (comp...|   748|\n",
      "|     Scissor Sisters|Logged In|   Justin|     M|           82|    Jones|218.01751| paid|          Dayton, TN|   PUT|NextSong|1504706730284|     1175|               Laura|   200|1513721031284|\"Mozilla/5.0 (Win...|  1176|\n",
      "|        3 Doors Down|Logged In|     Zoie|     F|           28|   Wright|237.13914| paid|Chicago-Napervill...|   PUT|NextSong|1512172030284|     2163|    Here Without You|   200|1513721045284|\"Mozilla/5.0 (Mac...|  2164|\n",
      "|       George Younce|Logged In|  Malachi|     M|            3|     Lane|191.68608| free|     Sioux Falls, SD|   PUT|NextSong|1510109243284|     5272|This Old House w/...|   200|1513721058284|Mozilla/5.0 (Wind...|  2146|\n",
      "|              Aly-Us|Logged In|     Vera|     F|            7|Blackwell|383.58159| paid|          Racine, WI|   PUT|NextSong|1499855749284|     5516|Follow Me (Club Mix)|   200|1513721077284|\"Mozilla/5.0 (Mac...|  2219|\n",
      "|                null|Logged In|   Justin|     M|           83|    Jones|     null| paid|          Dayton, TN|   GET|    Home|1504706730284|     1175|                null|   200|1513721088284|\"Mozilla/5.0 (Win...|  1176|\n",
      "|            BjÃÂ¶rk|Logged In|    Elena|     F|            0|   Newman|348.57751| free|Boston-Cambridge-...|   PUT|NextSong|1513494341284|     2903|                Undo|   200|1513721095284|Mozilla/5.0 (Wind...|  2904|\n",
      "|      David Bromberg|Logged In|Alexander|     M|            1|    Short|146.36363| free|       Green Bay, WI|   PUT|NextSong|1513594398284|     3689|Sheebeg And Sheemore|   200|1513721097284|\"Mozilla/5.0 (Win...|   597|\n",
      "|          Nickelback|Logged In|  Abigail|     F|            4| Davidson|238.18404| paid|Lansing-East Lans...|   PUT|NextSong|1513173389284|     4591|Far Away (Album V...|   200|1513721104284|\"Mozilla/5.0 (Mac...|   226|\n",
      "+--------------------+---------+---------+------+-------------+---------+---------+-----+--------------------+------+--------+-------------+---------+--------------------+------+-------------+--------------------+------+\n",
      "only showing top 20 rows\n",
      "\n"
     ]
    }
   ],
   "source": [
    "user_log.show()"
   ]
  },
  {
   "cell_type": "code",
   "execution_count": 47,
   "id": "982ec9b2",
   "metadata": {},
   "outputs": [],
   "source": [
    "df = user_log.toPandas()"
   ]
  },
  {
   "cell_type": "code",
   "execution_count": 48,
   "id": "81100613",
   "metadata": {},
   "outputs": [
    {
     "data": {
      "text/html": [
       "<div>\n",
       "<style scoped>\n",
       "    .dataframe tbody tr th:only-of-type {\n",
       "        vertical-align: middle;\n",
       "    }\n",
       "\n",
       "    .dataframe tbody tr th {\n",
       "        vertical-align: top;\n",
       "    }\n",
       "\n",
       "    .dataframe thead th {\n",
       "        text-align: right;\n",
       "    }\n",
       "</style>\n",
       "<table border=\"1\" class=\"dataframe\">\n",
       "  <thead>\n",
       "    <tr style=\"text-align: right;\">\n",
       "      <th></th>\n",
       "      <th>artist</th>\n",
       "      <th>auth</th>\n",
       "      <th>firstName</th>\n",
       "      <th>gender</th>\n",
       "      <th>itemInSession</th>\n",
       "      <th>lastName</th>\n",
       "      <th>length</th>\n",
       "      <th>level</th>\n",
       "      <th>location</th>\n",
       "      <th>method</th>\n",
       "      <th>page</th>\n",
       "      <th>registration</th>\n",
       "      <th>sessionId</th>\n",
       "      <th>song</th>\n",
       "      <th>status</th>\n",
       "      <th>ts</th>\n",
       "      <th>userAgent</th>\n",
       "      <th>userId</th>\n",
       "    </tr>\n",
       "  </thead>\n",
       "  <tbody>\n",
       "    <tr>\n",
       "      <th>0</th>\n",
       "      <td>Showaddywaddy</td>\n",
       "      <td>Logged In</td>\n",
       "      <td>Kenneth</td>\n",
       "      <td>M</td>\n",
       "      <td>112</td>\n",
       "      <td>Matthews</td>\n",
       "      <td>232.93342</td>\n",
       "      <td>paid</td>\n",
       "      <td>Charlotte-Concord-Gastonia, NC-SC</td>\n",
       "      <td>PUT</td>\n",
       "      <td>NextSong</td>\n",
       "      <td>1.509380e+12</td>\n",
       "      <td>5132</td>\n",
       "      <td>Christmas Tears Will Fall</td>\n",
       "      <td>200</td>\n",
       "      <td>1513720872284</td>\n",
       "      <td>\"Mozilla/5.0 (Windows NT 6.1) AppleWebKit/537....</td>\n",
       "      <td>1046</td>\n",
       "    </tr>\n",
       "    <tr>\n",
       "      <th>1</th>\n",
       "      <td>Lily Allen</td>\n",
       "      <td>Logged In</td>\n",
       "      <td>Elizabeth</td>\n",
       "      <td>F</td>\n",
       "      <td>7</td>\n",
       "      <td>Chase</td>\n",
       "      <td>195.23873</td>\n",
       "      <td>free</td>\n",
       "      <td>Shreveport-Bossier City, LA</td>\n",
       "      <td>PUT</td>\n",
       "      <td>NextSong</td>\n",
       "      <td>1.512719e+12</td>\n",
       "      <td>5027</td>\n",
       "      <td>Cheryl Tweedy</td>\n",
       "      <td>200</td>\n",
       "      <td>1513720878284</td>\n",
       "      <td>\"Mozilla/5.0 (Windows NT 6.1) AppleWebKit/537....</td>\n",
       "      <td>1000</td>\n",
       "    </tr>\n",
       "    <tr>\n",
       "      <th>2</th>\n",
       "      <td>Cobra Starship Featuring Leighton Meester</td>\n",
       "      <td>Logged In</td>\n",
       "      <td>Vera</td>\n",
       "      <td>F</td>\n",
       "      <td>6</td>\n",
       "      <td>Blackwell</td>\n",
       "      <td>196.20526</td>\n",
       "      <td>paid</td>\n",
       "      <td>Racine, WI</td>\n",
       "      <td>PUT</td>\n",
       "      <td>NextSong</td>\n",
       "      <td>1.499856e+12</td>\n",
       "      <td>5516</td>\n",
       "      <td>Good Girls Go Bad (Feat.Leighton Meester) (Alb...</td>\n",
       "      <td>200</td>\n",
       "      <td>1513720881284</td>\n",
       "      <td>\"Mozilla/5.0 (Macintosh; Intel Mac OS X 10_9_4...</td>\n",
       "      <td>2219</td>\n",
       "    </tr>\n",
       "    <tr>\n",
       "      <th>3</th>\n",
       "      <td>Alex Smoke</td>\n",
       "      <td>Logged In</td>\n",
       "      <td>Sophee</td>\n",
       "      <td>F</td>\n",
       "      <td>8</td>\n",
       "      <td>Barker</td>\n",
       "      <td>405.99465</td>\n",
       "      <td>paid</td>\n",
       "      <td>San Luis Obispo-Paso Robles-Arroyo Grande, CA</td>\n",
       "      <td>PUT</td>\n",
       "      <td>NextSong</td>\n",
       "      <td>1.513010e+12</td>\n",
       "      <td>2372</td>\n",
       "      <td>Don't See The Point</td>\n",
       "      <td>200</td>\n",
       "      <td>1513720905284</td>\n",
       "      <td>\"Mozilla/5.0 (Windows NT 6.1; WOW64) AppleWebK...</td>\n",
       "      <td>2373</td>\n",
       "    </tr>\n",
       "    <tr>\n",
       "      <th>4</th>\n",
       "      <td>None</td>\n",
       "      <td>Logged In</td>\n",
       "      <td>Jordyn</td>\n",
       "      <td>F</td>\n",
       "      <td>0</td>\n",
       "      <td>Jones</td>\n",
       "      <td>NaN</td>\n",
       "      <td>free</td>\n",
       "      <td>Syracuse, NY</td>\n",
       "      <td>GET</td>\n",
       "      <td>Home</td>\n",
       "      <td>1.513649e+12</td>\n",
       "      <td>1746</td>\n",
       "      <td>None</td>\n",
       "      <td>200</td>\n",
       "      <td>1513720913284</td>\n",
       "      <td>\"Mozilla/5.0 (Macintosh; Intel Mac OS X 10_9_4...</td>\n",
       "      <td>1747</td>\n",
       "    </tr>\n",
       "  </tbody>\n",
       "</table>\n",
       "</div>"
      ],
      "text/plain": [
       "                                      artist       auth  firstName gender  \\\n",
       "0                              Showaddywaddy  Logged In    Kenneth      M   \n",
       "1                                 Lily Allen  Logged In  Elizabeth      F   \n",
       "2  Cobra Starship Featuring Leighton Meester  Logged In       Vera      F   \n",
       "3                                 Alex Smoke  Logged In     Sophee      F   \n",
       "4                                       None  Logged In     Jordyn      F   \n",
       "\n",
       "   itemInSession   lastName     length level  \\\n",
       "0            112   Matthews  232.93342  paid   \n",
       "1              7      Chase  195.23873  free   \n",
       "2              6  Blackwell  196.20526  paid   \n",
       "3              8     Barker  405.99465  paid   \n",
       "4              0      Jones        NaN  free   \n",
       "\n",
       "                                        location method      page  \\\n",
       "0              Charlotte-Concord-Gastonia, NC-SC    PUT  NextSong   \n",
       "1                    Shreveport-Bossier City, LA    PUT  NextSong   \n",
       "2                                     Racine, WI    PUT  NextSong   \n",
       "3  San Luis Obispo-Paso Robles-Arroyo Grande, CA    PUT  NextSong   \n",
       "4                                   Syracuse, NY    GET      Home   \n",
       "\n",
       "   registration  sessionId                                               song  \\\n",
       "0  1.509380e+12       5132                          Christmas Tears Will Fall   \n",
       "1  1.512719e+12       5027                                      Cheryl Tweedy   \n",
       "2  1.499856e+12       5516  Good Girls Go Bad (Feat.Leighton Meester) (Alb...   \n",
       "3  1.513010e+12       2372                                Don't See The Point   \n",
       "4  1.513649e+12       1746                                               None   \n",
       "\n",
       "   status             ts                                          userAgent  \\\n",
       "0     200  1513720872284  \"Mozilla/5.0 (Windows NT 6.1) AppleWebKit/537....   \n",
       "1     200  1513720878284  \"Mozilla/5.0 (Windows NT 6.1) AppleWebKit/537....   \n",
       "2     200  1513720881284  \"Mozilla/5.0 (Macintosh; Intel Mac OS X 10_9_4...   \n",
       "3     200  1513720905284  \"Mozilla/5.0 (Windows NT 6.1; WOW64) AppleWebK...   \n",
       "4     200  1513720913284  \"Mozilla/5.0 (Macintosh; Intel Mac OS X 10_9_4...   \n",
       "\n",
       "  userId  \n",
       "0   1046  \n",
       "1   1000  \n",
       "2   2219  \n",
       "3   2373  \n",
       "4   1747  "
      ]
     },
     "execution_count": 48,
     "metadata": {},
     "output_type": "execute_result"
    }
   ],
   "source": [
    "df.head()"
   ]
  },
  {
   "cell_type": "code",
   "execution_count": 49,
   "id": "1dbf704e",
   "metadata": {},
   "outputs": [
    {
     "name": "stdout",
     "output_type": "stream",
     "text": [
      "root\n",
      " |-- artist: string (nullable = true)\n",
      " |-- auth: string (nullable = true)\n",
      " |-- firstName: string (nullable = true)\n",
      " |-- gender: string (nullable = true)\n",
      " |-- itemInSession: long (nullable = true)\n",
      " |-- lastName: string (nullable = true)\n",
      " |-- length: double (nullable = true)\n",
      " |-- level: string (nullable = true)\n",
      " |-- location: string (nullable = true)\n",
      " |-- method: string (nullable = true)\n",
      " |-- page: string (nullable = true)\n",
      " |-- registration: long (nullable = true)\n",
      " |-- sessionId: long (nullable = true)\n",
      " |-- song: string (nullable = true)\n",
      " |-- status: long (nullable = true)\n",
      " |-- ts: long (nullable = true)\n",
      " |-- userAgent: string (nullable = true)\n",
      " |-- userId: string (nullable = true)\n",
      "\n"
     ]
    }
   ],
   "source": [
    "user_log.printSchema()"
   ]
  },
  {
   "cell_type": "markdown",
   "id": "d3cab604",
   "metadata": {},
   "source": [
    "### Filtering data \n",
    "    .filter(\"length > 200\")\\\n",
    "    .filter(user_log.length > 200)\n"
   ]
  },
  {
   "cell_type": "code",
   "execution_count": 50,
   "id": "1149c481",
   "metadata": {},
   "outputs": [],
   "source": [
    "# filter user_log length by passing a string \n",
    "length_1 = user_log.filter(\"length > 200\")"
   ]
  },
  {
   "cell_type": "code",
   "execution_count": 51,
   "id": "2e537354",
   "metadata": {},
   "outputs": [],
   "source": [
    "# filter by passing column \n",
    "length_2 = user_log.filter(user_log.length > 200)"
   ]
  },
  {
   "cell_type": "code",
   "execution_count": 52,
   "id": "19220227",
   "metadata": {},
   "outputs": [
    {
     "name": "stdout",
     "output_type": "stream",
     "text": [
      "+----------------+---------+---------+------+-------------+---------+---------+-----+--------------------+------+--------+-------------+---------+--------------------+------+-------------+--------------------+------+\n",
      "|          artist|     auth|firstName|gender|itemInSession| lastName|   length|level|            location|method|    page| registration|sessionId|                song|status|           ts|           userAgent|userId|\n",
      "+----------------+---------+---------+------+-------------+---------+---------+-----+--------------------+------+--------+-------------+---------+--------------------+------+-------------+--------------------+------+\n",
      "|   Showaddywaddy|Logged In|  Kenneth|     M|          112| Matthews|232.93342| paid|Charlotte-Concord...|   PUT|NextSong|1509380319284|     5132|Christmas Tears W...|   200|1513720872284|\"Mozilla/5.0 (Win...|  1046|\n",
      "|      Alex Smoke|Logged In|   Sophee|     F|            8|   Barker|405.99465| paid|San Luis Obispo-P...|   PUT|NextSong|1513009647284|     2372| Don't See The Point|   200|1513720905284|\"Mozilla/5.0 (Win...|  2373|\n",
      "| Ulrich Schnauss|Logged In|  Gabriel|     M|            2|     Koch|402.93832| paid|     Panama City, FL|   PUT|NextSong|1505820418284|     1060|           On My Own|   200|1513720959284|Mozilla/5.0 (Wind...|  1061|\n",
      "|           Jay-Z|Logged In|  Micheal|     M|           23|   Morgan|223.26812| paid|        Sterling, CO|   PUT|NextSong|1485051492284|     5175|Heart Of The City...|   200|1513720983284|\"Mozilla/5.0 (Win...|  1806|\n",
      "|     Evanescence|Logged In|    Mason|     M|            3|   Thomas|237.11302| paid|Indianapolis-Carm...|   PUT|NextSong|1487015656284|     5661|    Bring Me To Life|   200|1513720993284|Mozilla/5.0 (comp...|   748|\n",
      "| Scissor Sisters|Logged In|   Justin|     M|           82|    Jones|218.01751| paid|          Dayton, TN|   PUT|NextSong|1504706730284|     1175|               Laura|   200|1513721031284|\"Mozilla/5.0 (Win...|  1176|\n",
      "|    3 Doors Down|Logged In|     Zoie|     F|           28|   Wright|237.13914| paid|Chicago-Napervill...|   PUT|NextSong|1512172030284|     2163|    Here Without You|   200|1513721045284|\"Mozilla/5.0 (Mac...|  2164|\n",
      "|          Aly-Us|Logged In|     Vera|     F|            7|Blackwell|383.58159| paid|          Racine, WI|   PUT|NextSong|1499855749284|     5516|Follow Me (Club Mix)|   200|1513721077284|\"Mozilla/5.0 (Mac...|  2219|\n",
      "|        BjÃÂ¶rk|Logged In|    Elena|     F|            0|   Newman|348.57751| free|Boston-Cambridge-...|   PUT|NextSong|1513494341284|     2903|                Undo|   200|1513721095284|Mozilla/5.0 (Wind...|  2904|\n",
      "|      Nickelback|Logged In|  Abigail|     F|            4| Davidson|238.18404| paid|Lansing-East Lans...|   PUT|NextSong|1513173389284|     4591|Far Away (Album V...|   200|1513721104284|\"Mozilla/5.0 (Mac...|   226|\n",
      "|   Darius Rucker|Logged In|  Kenneth|     M|          113| Matthews|206.00118| paid|Charlotte-Concord...|   PUT|NextSong|1509380319284|     5132|  Be Wary Of A Woman|   200|1513721104284|\"Mozilla/5.0 (Win...|  1046|\n",
      "|   Mayday Parade|Logged In|    Paige|     F|            1|   Hunter|241.42322| free|       Brownwood, TX|   PUT|NextSong|1498414068284|     4406|I'd Hate To Be Yo...|   200|1513721109284|\"Mozilla/5.0 (Mac...|  1162|\n",
      "|    Simple Minds|Logged In|    Ryder|     M|            1|Rodriguez|401.78893| free|        Freeport, IL|   PUT|NextSong|1513668346284|     2941|       Oh Jungleland|   200|1513721127284|\"Mozilla/5.0 (Mac...|  2942|\n",
      "| Milczenie Owiec|Logged In|  Micheal|     M|           24|   Morgan|219.29751| paid|        Sterling, CO|   PUT|NextSong|1485051492284|     5175|             CIEÃÂ|   200|1513721206284|\"Mozilla/5.0 (Win...|  1806|\n",
      "|      Jonny Lang|Logged In|  Lillian|     F|            2|     Ryan| 226.2722| free|Charlotte-Concord...|   PUT|NextSong|1510762899284|     4641|           Red Light|   200|1513721207284|\"Mozilla/5.0 (Mac...|  2887|\n",
      "|Nicole C. Mullen|Logged In|   Connor|     M|           18|Gillespie|282.90567| paid|Santa Cruz-Watson...|   PUT|NextSong|1506639389284|     5698|Without You (LP V...|   200|1513721214284|\"Mozilla/5.0 (Win...|  1035|\n",
      "|      The Police|Logged In|    Mason|     M|            4|   Thomas| 289.2273| paid|Indianapolis-Carm...|   PUT|NextSong|1487015656284|     5661| Message In A Bottle|   200|1513721230284|Mozilla/5.0 (comp...|   748|\n",
      "|     Biffy Clyro|Logged In|   Justin|     M|           85|    Jones|301.08689| paid|          Dayton, TN|   PUT|NextSong|1504706730284|     1175|             Bubbles|   200|1513721249284|\"Mozilla/5.0 (Win...|  1176|\n",
      "|     Labi Siffre|Logged In|    Cesar|     M|           24|  Johnson|244.81914| paid|San Antonio-New B...|   PUT|NextSong|1513431505284|      428|Entertainment Val...|   200|1513721266284|\"Mozilla/5.0 (Win...|   429|\n",
      "|             Poe|Logged In|   Sophee|     F|            9|   Barker|320.05179| paid|San Luis Obispo-P...|   PUT|NextSong|1513009647284|     2372|             Haunted|   200|1513721310284|\"Mozilla/5.0 (Win...|  2373|\n",
      "+----------------+---------+---------+------+-------------+---------+---------+-----+--------------------+------+--------+-------------+---------+--------------------+------+-------------+--------------------+------+\n",
      "only showing top 20 rows\n",
      "\n"
     ]
    }
   ],
   "source": [
    "length_1.show()"
   ]
  },
  {
   "cell_type": "code",
   "execution_count": 53,
   "id": "ddb16156",
   "metadata": {},
   "outputs": [
    {
     "name": "stdout",
     "output_type": "stream",
     "text": [
      "+----------------+---------+---------+------+-------------+---------+---------+-----+--------------------+------+--------+-------------+---------+--------------------+------+-------------+--------------------+------+\n",
      "|          artist|     auth|firstName|gender|itemInSession| lastName|   length|level|            location|method|    page| registration|sessionId|                song|status|           ts|           userAgent|userId|\n",
      "+----------------+---------+---------+------+-------------+---------+---------+-----+--------------------+------+--------+-------------+---------+--------------------+------+-------------+--------------------+------+\n",
      "|   Showaddywaddy|Logged In|  Kenneth|     M|          112| Matthews|232.93342| paid|Charlotte-Concord...|   PUT|NextSong|1509380319284|     5132|Christmas Tears W...|   200|1513720872284|\"Mozilla/5.0 (Win...|  1046|\n",
      "|      Alex Smoke|Logged In|   Sophee|     F|            8|   Barker|405.99465| paid|San Luis Obispo-P...|   PUT|NextSong|1513009647284|     2372| Don't See The Point|   200|1513720905284|\"Mozilla/5.0 (Win...|  2373|\n",
      "| Ulrich Schnauss|Logged In|  Gabriel|     M|            2|     Koch|402.93832| paid|     Panama City, FL|   PUT|NextSong|1505820418284|     1060|           On My Own|   200|1513720959284|Mozilla/5.0 (Wind...|  1061|\n",
      "|           Jay-Z|Logged In|  Micheal|     M|           23|   Morgan|223.26812| paid|        Sterling, CO|   PUT|NextSong|1485051492284|     5175|Heart Of The City...|   200|1513720983284|\"Mozilla/5.0 (Win...|  1806|\n",
      "|     Evanescence|Logged In|    Mason|     M|            3|   Thomas|237.11302| paid|Indianapolis-Carm...|   PUT|NextSong|1487015656284|     5661|    Bring Me To Life|   200|1513720993284|Mozilla/5.0 (comp...|   748|\n",
      "| Scissor Sisters|Logged In|   Justin|     M|           82|    Jones|218.01751| paid|          Dayton, TN|   PUT|NextSong|1504706730284|     1175|               Laura|   200|1513721031284|\"Mozilla/5.0 (Win...|  1176|\n",
      "|    3 Doors Down|Logged In|     Zoie|     F|           28|   Wright|237.13914| paid|Chicago-Napervill...|   PUT|NextSong|1512172030284|     2163|    Here Without You|   200|1513721045284|\"Mozilla/5.0 (Mac...|  2164|\n",
      "|          Aly-Us|Logged In|     Vera|     F|            7|Blackwell|383.58159| paid|          Racine, WI|   PUT|NextSong|1499855749284|     5516|Follow Me (Club Mix)|   200|1513721077284|\"Mozilla/5.0 (Mac...|  2219|\n",
      "|        BjÃÂ¶rk|Logged In|    Elena|     F|            0|   Newman|348.57751| free|Boston-Cambridge-...|   PUT|NextSong|1513494341284|     2903|                Undo|   200|1513721095284|Mozilla/5.0 (Wind...|  2904|\n",
      "|      Nickelback|Logged In|  Abigail|     F|            4| Davidson|238.18404| paid|Lansing-East Lans...|   PUT|NextSong|1513173389284|     4591|Far Away (Album V...|   200|1513721104284|\"Mozilla/5.0 (Mac...|   226|\n",
      "|   Darius Rucker|Logged In|  Kenneth|     M|          113| Matthews|206.00118| paid|Charlotte-Concord...|   PUT|NextSong|1509380319284|     5132|  Be Wary Of A Woman|   200|1513721104284|\"Mozilla/5.0 (Win...|  1046|\n",
      "|   Mayday Parade|Logged In|    Paige|     F|            1|   Hunter|241.42322| free|       Brownwood, TX|   PUT|NextSong|1498414068284|     4406|I'd Hate To Be Yo...|   200|1513721109284|\"Mozilla/5.0 (Mac...|  1162|\n",
      "|    Simple Minds|Logged In|    Ryder|     M|            1|Rodriguez|401.78893| free|        Freeport, IL|   PUT|NextSong|1513668346284|     2941|       Oh Jungleland|   200|1513721127284|\"Mozilla/5.0 (Mac...|  2942|\n",
      "| Milczenie Owiec|Logged In|  Micheal|     M|           24|   Morgan|219.29751| paid|        Sterling, CO|   PUT|NextSong|1485051492284|     5175|             CIEÃÂ|   200|1513721206284|\"Mozilla/5.0 (Win...|  1806|\n",
      "|      Jonny Lang|Logged In|  Lillian|     F|            2|     Ryan| 226.2722| free|Charlotte-Concord...|   PUT|NextSong|1510762899284|     4641|           Red Light|   200|1513721207284|\"Mozilla/5.0 (Mac...|  2887|\n",
      "|Nicole C. Mullen|Logged In|   Connor|     M|           18|Gillespie|282.90567| paid|Santa Cruz-Watson...|   PUT|NextSong|1506639389284|     5698|Without You (LP V...|   200|1513721214284|\"Mozilla/5.0 (Win...|  1035|\n",
      "|      The Police|Logged In|    Mason|     M|            4|   Thomas| 289.2273| paid|Indianapolis-Carm...|   PUT|NextSong|1487015656284|     5661| Message In A Bottle|   200|1513721230284|Mozilla/5.0 (comp...|   748|\n",
      "|     Biffy Clyro|Logged In|   Justin|     M|           85|    Jones|301.08689| paid|          Dayton, TN|   PUT|NextSong|1504706730284|     1175|             Bubbles|   200|1513721249284|\"Mozilla/5.0 (Win...|  1176|\n",
      "|     Labi Siffre|Logged In|    Cesar|     M|           24|  Johnson|244.81914| paid|San Antonio-New B...|   PUT|NextSong|1513431505284|      428|Entertainment Val...|   200|1513721266284|\"Mozilla/5.0 (Win...|   429|\n",
      "|             Poe|Logged In|   Sophee|     F|            9|   Barker|320.05179| paid|San Luis Obispo-P...|   PUT|NextSong|1513009647284|     2372|             Haunted|   200|1513721310284|\"Mozilla/5.0 (Win...|  2373|\n",
      "+----------------+---------+---------+------+-------------+---------+---------+-----+--------------------+------+--------+-------------+---------+--------------------+------+-------------+--------------------+------+\n",
      "only showing top 20 rows\n",
      "\n"
     ]
    }
   ],
   "source": [
    "length_2.show()"
   ]
  },
  {
   "cell_type": "markdown",
   "id": "b25a31c8",
   "metadata": {},
   "source": [
    "### Selecting Data\n",
    "    .select()\n",
    "    .withColumn()"
   ]
  },
  {
   "cell_type": "code",
   "execution_count": 54,
   "id": "a08575b8",
   "metadata": {},
   "outputs": [],
   "source": [
    "# artist, song, userId\n",
    "# select the columns \n",
    "\n",
    "selected1 = user_log.select(\"artist\",\"song\",\"userId\")"
   ]
  },
  {
   "cell_type": "code",
   "execution_count": 55,
   "id": "ac52efb8",
   "metadata": {},
   "outputs": [
    {
     "name": "stdout",
     "output_type": "stream",
     "text": [
      "+--------------------+--------------------+------+\n",
      "|              artist|                song|userId|\n",
      "+--------------------+--------------------+------+\n",
      "|       Showaddywaddy|Christmas Tears W...|  1046|\n",
      "|          Lily Allen|       Cheryl Tweedy|  1000|\n",
      "|Cobra Starship Fe...|Good Girls Go Bad...|  2219|\n",
      "|          Alex Smoke| Don't See The Point|  2373|\n",
      "|                null|                null|  1747|\n",
      "|                null|                null|  1747|\n",
      "|              Redman|        Smoke Buddah|  1162|\n",
      "|     Ulrich Schnauss|           On My Own|  1061|\n",
      "|                null|                null|   748|\n",
      "|                null|                null|   597|\n",
      "|               Jay-Z|Heart Of The City...|  1806|\n",
      "|         Evanescence|    Bring Me To Life|   748|\n",
      "|     Scissor Sisters|               Laura|  1176|\n",
      "|        3 Doors Down|    Here Without You|  2164|\n",
      "|       George Younce|This Old House w/...|  2146|\n",
      "|              Aly-Us|Follow Me (Club Mix)|  2219|\n",
      "|                null|                null|  1176|\n",
      "|            BjÃÂ¶rk|                Undo|  2904|\n",
      "|      David Bromberg|Sheebeg And Sheemore|   597|\n",
      "|          Nickelback|Far Away (Album V...|   226|\n",
      "+--------------------+--------------------+------+\n",
      "only showing top 20 rows\n",
      "\n"
     ]
    }
   ],
   "source": [
    "selected1.show()"
   ]
  },
  {
   "cell_type": "code",
   "execution_count": 75,
   "id": "85ea4aea",
   "metadata": {},
   "outputs": [],
   "source": [
    "# select , df.Colname \n",
    "temp = user_log.select(user_log.artist, user_log.song, user_log.userId)"
   ]
  },
  {
   "cell_type": "code",
   "execution_count": 76,
   "id": "cb09f844",
   "metadata": {},
   "outputs": [
    {
     "name": "stdout",
     "output_type": "stream",
     "text": [
      "+--------------------+--------------------+------+\n",
      "|              artist|                song|userId|\n",
      "+--------------------+--------------------+------+\n",
      "|       Showaddywaddy|Christmas Tears W...|  1046|\n",
      "|          Lily Allen|       Cheryl Tweedy|  1000|\n",
      "|Cobra Starship Fe...|Good Girls Go Bad...|  2219|\n",
      "|          Alex Smoke| Don't See The Point|  2373|\n",
      "|                null|                null|  1747|\n",
      "|                null|                null|  1747|\n",
      "|              Redman|        Smoke Buddah|  1162|\n",
      "|     Ulrich Schnauss|           On My Own|  1061|\n",
      "|                null|                null|   748|\n",
      "|                null|                null|   597|\n",
      "|               Jay-Z|Heart Of The City...|  1806|\n",
      "|         Evanescence|    Bring Me To Life|   748|\n",
      "|     Scissor Sisters|               Laura|  1176|\n",
      "|        3 Doors Down|    Here Without You|  2164|\n",
      "|       George Younce|This Old House w/...|  2146|\n",
      "|              Aly-Us|Follow Me (Club Mix)|  2219|\n",
      "|                null|                null|  1176|\n",
      "|            BjÃÂ¶rk|                Undo|  2904|\n",
      "|      David Bromberg|Sheebeg And Sheemore|   597|\n",
      "|          Nickelback|Far Away (Album V...|   226|\n",
      "+--------------------+--------------------+------+\n",
      "only showing top 20 rows\n",
      "\n"
     ]
    }
   ],
   "source": [
    "temp.show()"
   ]
  },
  {
   "cell_type": "code",
   "execution_count": 72,
   "id": "f46a19a4",
   "metadata": {},
   "outputs": [],
   "source": [
    "# filtering userID== 1046\n",
    "filter1 = user_log.userId == \"1046\""
   ]
  },
  {
   "cell_type": "code",
   "execution_count": 71,
   "id": "e99aac39",
   "metadata": {},
   "outputs": [],
   "source": [
    "filter2 = user_log.artist == \"Showaddywaddy\""
   ]
  },
  {
   "cell_type": "code",
   "execution_count": 77,
   "id": "50b785f1",
   "metadata": {},
   "outputs": [],
   "source": [
    "# filter the data \n",
    "selected3 = temp.filter(filter1).filter(filter2)"
   ]
  },
  {
   "cell_type": "code",
   "execution_count": 78,
   "id": "d3cececa",
   "metadata": {},
   "outputs": [
    {
     "name": "stdout",
     "output_type": "stream",
     "text": [
      "+-------------+--------------------+------+\n",
      "|       artist|                song|userId|\n",
      "+-------------+--------------------+------+\n",
      "|Showaddywaddy|Christmas Tears W...|  1046|\n",
      "+-------------+--------------------+------+\n",
      "\n"
     ]
    }
   ],
   "source": [
    "selected3.show()"
   ]
  },
  {
   "cell_type": "markdown",
   "id": "3c3f2ab1",
   "metadata": {},
   "source": [
    "### Selecting 2 \n",
    "    df.select(df.colName.alias())\n",
    "    df.selectExpr(df.colName + 1 as newcolname)"
   ]
  },
  {
   "cell_type": "code",
   "execution_count": 80,
   "id": "9a73988d",
   "metadata": {},
   "outputs": [],
   "source": [
    "temp = user_log.select(user_log.artist, user_log.song, user_log.length, user_log.userId)"
   ]
  },
  {
   "cell_type": "code",
   "execution_count": 81,
   "id": "fc7c6ad4",
   "metadata": {},
   "outputs": [
    {
     "name": "stdout",
     "output_type": "stream",
     "text": [
      "+--------------------+--------------------+---------+------+\n",
      "|              artist|                song|   length|userId|\n",
      "+--------------------+--------------------+---------+------+\n",
      "|       Showaddywaddy|Christmas Tears W...|232.93342|  1046|\n",
      "|          Lily Allen|       Cheryl Tweedy|195.23873|  1000|\n",
      "|Cobra Starship Fe...|Good Girls Go Bad...|196.20526|  2219|\n",
      "|          Alex Smoke| Don't See The Point|405.99465|  2373|\n",
      "|                null|                null|     null|  1747|\n",
      "|                null|                null|     null|  1747|\n",
      "|              Redman|        Smoke Buddah|154.53995|  1162|\n",
      "|     Ulrich Schnauss|           On My Own|402.93832|  1061|\n",
      "|                null|                null|     null|   748|\n",
      "|                null|                null|     null|   597|\n",
      "|               Jay-Z|Heart Of The City...|223.26812|  1806|\n",
      "|         Evanescence|    Bring Me To Life|237.11302|   748|\n",
      "|     Scissor Sisters|               Laura|218.01751|  1176|\n",
      "|        3 Doors Down|    Here Without You|237.13914|  2164|\n",
      "|       George Younce|This Old House w/...|191.68608|  2146|\n",
      "|              Aly-Us|Follow Me (Club Mix)|383.58159|  2219|\n",
      "|                null|                null|     null|  1176|\n",
      "|            BjÃÂ¶rk|                Undo|348.57751|  2904|\n",
      "|      David Bromberg|Sheebeg And Sheemore|146.36363|   597|\n",
      "|          Nickelback|Far Away (Album V...|238.18404|   226|\n",
      "+--------------------+--------------------+---------+------+\n",
      "only showing top 20 rows\n",
      "\n"
     ]
    }
   ],
   "source": [
    "temp.show()"
   ]
  },
  {
   "cell_type": "code",
   "execution_count": 82,
   "id": "986d75b7",
   "metadata": {},
   "outputs": [],
   "source": [
    "# define length_min \n",
    "length_min = (temp.length/60).alias(\"min\")"
   ]
  },
  {
   "cell_type": "code",
   "execution_count": 84,
   "id": "c47c7d1e",
   "metadata": {},
   "outputs": [],
   "source": [
    "# select with new column min \n",
    "temp = user_log.select(\"artist\",\"song\",\"length\",\"userId\",length_min)"
   ]
  },
  {
   "cell_type": "code",
   "execution_count": 85,
   "id": "c72c6146",
   "metadata": {},
   "outputs": [
    {
     "name": "stdout",
     "output_type": "stream",
     "text": [
      "+--------------------+--------------------+---------+------+------------------+\n",
      "|              artist|                song|   length|userId|               min|\n",
      "+--------------------+--------------------+---------+------+------------------+\n",
      "|       Showaddywaddy|Christmas Tears W...|232.93342|  1046| 3.882223666666667|\n",
      "|          Lily Allen|       Cheryl Tweedy|195.23873|  1000|3.2539788333333335|\n",
      "|Cobra Starship Fe...|Good Girls Go Bad...|196.20526|  2219| 3.270087666666667|\n",
      "|          Alex Smoke| Don't See The Point|405.99465|  2373|6.7665774999999995|\n",
      "|                null|                null|     null|  1747|              null|\n",
      "|                null|                null|     null|  1747|              null|\n",
      "|              Redman|        Smoke Buddah|154.53995|  1162|2.5756658333333333|\n",
      "|     Ulrich Schnauss|           On My Own|402.93832|  1061| 6.715638666666666|\n",
      "|                null|                null|     null|   748|              null|\n",
      "|                null|                null|     null|   597|              null|\n",
      "|               Jay-Z|Heart Of The City...|223.26812|  1806|3.7211353333333337|\n",
      "|         Evanescence|    Bring Me To Life|237.11302|   748| 3.951883666666667|\n",
      "|     Scissor Sisters|               Laura|218.01751|  1176|3.6336251666666666|\n",
      "|        3 Doors Down|    Here Without You|237.13914|  2164|          3.952319|\n",
      "|       George Younce|This Old House w/...|191.68608|  2146|3.1947680000000003|\n",
      "|              Aly-Us|Follow Me (Club Mix)|383.58159|  2219|         6.3930265|\n",
      "|                null|                null|     null|  1176|              null|\n",
      "|            BjÃÂ¶rk|                Undo|348.57751|  2904| 5.809625166666667|\n",
      "|      David Bromberg|Sheebeg And Sheemore|146.36363|   597|2.4393938333333334|\n",
      "|          Nickelback|Far Away (Album V...|238.18404|   226|3.9697340000000003|\n",
      "+--------------------+--------------------+---------+------+------------------+\n",
      "only showing top 20 rows\n",
      "\n"
     ]
    }
   ],
   "source": [
    "temp.show()"
   ]
  },
  {
   "cell_type": "code",
   "execution_count": 86,
   "id": "4746bd5b",
   "metadata": {},
   "outputs": [],
   "source": [
    "# create the same table using a SQL expression \n",
    "temp2 = user_log.selectExpr(\"artist\",\"song\",\"length\",\"length/60 as min\")"
   ]
  },
  {
   "cell_type": "code",
   "execution_count": 87,
   "id": "d7401e5e",
   "metadata": {},
   "outputs": [
    {
     "name": "stdout",
     "output_type": "stream",
     "text": [
      "+--------------------+--------------------+---------+------------------+\n",
      "|              artist|                song|   length|               min|\n",
      "+--------------------+--------------------+---------+------------------+\n",
      "|       Showaddywaddy|Christmas Tears W...|232.93342| 3.882223666666667|\n",
      "|          Lily Allen|       Cheryl Tweedy|195.23873|3.2539788333333335|\n",
      "|Cobra Starship Fe...|Good Girls Go Bad...|196.20526| 3.270087666666667|\n",
      "|          Alex Smoke| Don't See The Point|405.99465|6.7665774999999995|\n",
      "|                null|                null|     null|              null|\n",
      "|                null|                null|     null|              null|\n",
      "|              Redman|        Smoke Buddah|154.53995|2.5756658333333333|\n",
      "|     Ulrich Schnauss|           On My Own|402.93832| 6.715638666666666|\n",
      "|                null|                null|     null|              null|\n",
      "|                null|                null|     null|              null|\n",
      "|               Jay-Z|Heart Of The City...|223.26812|3.7211353333333337|\n",
      "|         Evanescence|    Bring Me To Life|237.11302| 3.951883666666667|\n",
      "|     Scissor Sisters|               Laura|218.01751|3.6336251666666666|\n",
      "|        3 Doors Down|    Here Without You|237.13914|          3.952319|\n",
      "|       George Younce|This Old House w/...|191.68608|3.1947680000000003|\n",
      "|              Aly-Us|Follow Me (Club Mix)|383.58159|         6.3930265|\n",
      "|                null|                null|     null|              null|\n",
      "|            BjÃÂ¶rk|                Undo|348.57751| 5.809625166666667|\n",
      "|      David Bromberg|Sheebeg And Sheemore|146.36363|2.4393938333333334|\n",
      "|          Nickelback|Far Away (Album V...|238.18404|3.9697340000000003|\n",
      "+--------------------+--------------------+---------+------------------+\n",
      "only showing top 20 rows\n",
      "\n"
     ]
    }
   ],
   "source": [
    "temp2.show()"
   ]
  },
  {
   "cell_type": "markdown",
   "id": "de7e1a25",
   "metadata": {},
   "source": [
    "### Aggregating\n",
    "    .min(), max(), .count()"
   ]
  },
  {
   "cell_type": "code",
   "execution_count": 99,
   "id": "25add806",
   "metadata": {},
   "outputs": [],
   "source": [
    "temp = user_log.filter(user_log.length.isNotNull()).select(user_log.artist, user_log.song, user_log.length, user_log.userId)"
   ]
  },
  {
   "cell_type": "code",
   "execution_count": 100,
   "id": "b0835643",
   "metadata": {},
   "outputs": [
    {
     "name": "stdout",
     "output_type": "stream",
     "text": [
      "+--------------------+--------------------+---------+------+\n",
      "|              artist|                song|   length|userId|\n",
      "+--------------------+--------------------+---------+------+\n",
      "|       Showaddywaddy|Christmas Tears W...|232.93342|  1046|\n",
      "|          Lily Allen|       Cheryl Tweedy|195.23873|  1000|\n",
      "|Cobra Starship Fe...|Good Girls Go Bad...|196.20526|  2219|\n",
      "|          Alex Smoke| Don't See The Point|405.99465|  2373|\n",
      "|              Redman|        Smoke Buddah|154.53995|  1162|\n",
      "|     Ulrich Schnauss|           On My Own|402.93832|  1061|\n",
      "|               Jay-Z|Heart Of The City...|223.26812|  1806|\n",
      "|         Evanescence|    Bring Me To Life|237.11302|   748|\n",
      "|     Scissor Sisters|               Laura|218.01751|  1176|\n",
      "|        3 Doors Down|    Here Without You|237.13914|  2164|\n",
      "|       George Younce|This Old House w/...|191.68608|  2146|\n",
      "|              Aly-Us|Follow Me (Club Mix)|383.58159|  2219|\n",
      "|            BjÃÂ¶rk|                Undo|348.57751|  2904|\n",
      "|      David Bromberg|Sheebeg And Sheemore|146.36363|   597|\n",
      "|          Nickelback|Far Away (Album V...|238.18404|   226|\n",
      "|       Darius Rucker|  Be Wary Of A Woman|206.00118|  1046|\n",
      "|       Mayday Parade|I'd Hate To Be Yo...|241.42322|  1162|\n",
      "|        Simple Minds|       Oh Jungleland|401.78893|  2942|\n",
      "|    Dropkick Murphys|Captain Kelly's K...|159.76444|  2779|\n",
      "|     Milczenie Owiec|             CIEÃÂ|219.29751|  1806|\n",
      "+--------------------+--------------------+---------+------+\n",
      "only showing top 20 rows\n",
      "\n"
     ]
    }
   ],
   "source": [
    "temp.show()"
   ]
  },
  {
   "cell_type": "code",
   "execution_count": 107,
   "id": "3e6182f0",
   "metadata": {},
   "outputs": [],
   "source": [
    "filter_1 = user_log.length.isNotNull()"
   ]
  },
  {
   "cell_type": "code",
   "execution_count": 118,
   "id": "b9ae0934",
   "metadata": {},
   "outputs": [
    {
     "name": "stdout",
     "output_type": "stream",
     "text": [
      "+--------------------+---------+---------+------+-------------+---------+---------+-----+--------------------+------+--------+-------------+---------+--------------------+------+-------------+--------------------+------+\n",
      "|              artist|     auth|firstName|gender|itemInSession| lastName|   length|level|            location|method|    page| registration|sessionId|                song|status|           ts|           userAgent|userId|\n",
      "+--------------------+---------+---------+------+-------------+---------+---------+-----+--------------------+------+--------+-------------+---------+--------------------+------+-------------+--------------------+------+\n",
      "|       Showaddywaddy|Logged In|  Kenneth|     M|          112| Matthews|232.93342| paid|Charlotte-Concord...|   PUT|NextSong|1509380319284|     5132|Christmas Tears W...|   200|1513720872284|\"Mozilla/5.0 (Win...|  1046|\n",
      "|          Lily Allen|Logged In|Elizabeth|     F|            7|    Chase|195.23873| free|Shreveport-Bossie...|   PUT|NextSong|1512718541284|     5027|       Cheryl Tweedy|   200|1513720878284|\"Mozilla/5.0 (Win...|  1000|\n",
      "|Cobra Starship Fe...|Logged In|     Vera|     F|            6|Blackwell|196.20526| paid|          Racine, WI|   PUT|NextSong|1499855749284|     5516|Good Girls Go Bad...|   200|1513720881284|\"Mozilla/5.0 (Mac...|  2219|\n",
      "|          Alex Smoke|Logged In|   Sophee|     F|            8|   Barker|405.99465| paid|San Luis Obispo-P...|   PUT|NextSong|1513009647284|     2372| Don't See The Point|   200|1513720905284|\"Mozilla/5.0 (Win...|  2373|\n",
      "|              Redman|Logged In|    Paige|     F|            0|   Hunter|154.53995| free|       Brownwood, TX|   PUT|NextSong|1498414068284|     4406|        Smoke Buddah|   200|1513720955284|\"Mozilla/5.0 (Mac...|  1162|\n",
      "|     Ulrich Schnauss|Logged In|  Gabriel|     M|            2|     Koch|402.93832| paid|     Panama City, FL|   PUT|NextSong|1505820418284|     1060|           On My Own|   200|1513720959284|Mozilla/5.0 (Wind...|  1061|\n",
      "|               Jay-Z|Logged In|  Micheal|     M|           23|   Morgan|223.26812| paid|        Sterling, CO|   PUT|NextSong|1485051492284|     5175|Heart Of The City...|   200|1513720983284|\"Mozilla/5.0 (Win...|  1806|\n",
      "|         Evanescence|Logged In|    Mason|     M|            3|   Thomas|237.11302| paid|Indianapolis-Carm...|   PUT|NextSong|1487015656284|     5661|    Bring Me To Life|   200|1513720993284|Mozilla/5.0 (comp...|   748|\n",
      "|     Scissor Sisters|Logged In|   Justin|     M|           82|    Jones|218.01751| paid|          Dayton, TN|   PUT|NextSong|1504706730284|     1175|               Laura|   200|1513721031284|\"Mozilla/5.0 (Win...|  1176|\n",
      "|        3 Doors Down|Logged In|     Zoie|     F|           28|   Wright|237.13914| paid|Chicago-Napervill...|   PUT|NextSong|1512172030284|     2163|    Here Without You|   200|1513721045284|\"Mozilla/5.0 (Mac...|  2164|\n",
      "|       George Younce|Logged In|  Malachi|     M|            3|     Lane|191.68608| free|     Sioux Falls, SD|   PUT|NextSong|1510109243284|     5272|This Old House w/...|   200|1513721058284|Mozilla/5.0 (Wind...|  2146|\n",
      "|              Aly-Us|Logged In|     Vera|     F|            7|Blackwell|383.58159| paid|          Racine, WI|   PUT|NextSong|1499855749284|     5516|Follow Me (Club Mix)|   200|1513721077284|\"Mozilla/5.0 (Mac...|  2219|\n",
      "|            BjÃÂ¶rk|Logged In|    Elena|     F|            0|   Newman|348.57751| free|Boston-Cambridge-...|   PUT|NextSong|1513494341284|     2903|                Undo|   200|1513721095284|Mozilla/5.0 (Wind...|  2904|\n",
      "|      David Bromberg|Logged In|Alexander|     M|            1|    Short|146.36363| free|       Green Bay, WI|   PUT|NextSong|1513594398284|     3689|Sheebeg And Sheemore|   200|1513721097284|\"Mozilla/5.0 (Win...|   597|\n",
      "|          Nickelback|Logged In|  Abigail|     F|            4| Davidson|238.18404| paid|Lansing-East Lans...|   PUT|NextSong|1513173389284|     4591|Far Away (Album V...|   200|1513721104284|\"Mozilla/5.0 (Mac...|   226|\n",
      "|       Darius Rucker|Logged In|  Kenneth|     M|          113| Matthews|206.00118| paid|Charlotte-Concord...|   PUT|NextSong|1509380319284|     5132|  Be Wary Of A Woman|   200|1513721104284|\"Mozilla/5.0 (Win...|  1046|\n",
      "|       Mayday Parade|Logged In|    Paige|     F|            1|   Hunter|241.42322| free|       Brownwood, TX|   PUT|NextSong|1498414068284|     4406|I'd Hate To Be Yo...|   200|1513721109284|\"Mozilla/5.0 (Mac...|  1162|\n",
      "|        Simple Minds|Logged In|    Ryder|     M|            1|Rodriguez|401.78893| free|        Freeport, IL|   PUT|NextSong|1513668346284|     2941|       Oh Jungleland|   200|1513721127284|\"Mozilla/5.0 (Mac...|  2942|\n",
      "|    Dropkick Murphys|Logged In|   Eliana|     F|            1|   Thomas|159.76444| paid|       Knoxville, TN|   PUT|NextSong|1511496362284|     4686|Captain Kelly's K...|   200|1513721182284|\"Mozilla/5.0 (Win...|  2779|\n",
      "|     Milczenie Owiec|Logged In|  Micheal|     M|           24|   Morgan|219.29751| paid|        Sterling, CO|   PUT|NextSong|1485051492284|     5175|             CIEÃÂ|   200|1513721206284|\"Mozilla/5.0 (Win...|  1806|\n",
      "+--------------------+---------+---------+------+-------------+---------+---------+-----+--------------------+------+--------+-------------+---------+--------------------+------+-------------+--------------------+------+\n",
      "only showing top 20 rows\n",
      "\n"
     ]
    }
   ],
   "source": [
    "user_log.filter(filter_1).show()"
   ]
  },
  {
   "cell_type": "code",
   "execution_count": 119,
   "id": "fea4fcbb",
   "metadata": {},
   "outputs": [],
   "source": [
    "temp = user_log.filter(filter_1)"
   ]
  },
  {
   "cell_type": "code",
   "execution_count": 120,
   "id": "6e30c7a6",
   "metadata": {},
   "outputs": [
    {
     "name": "stdout",
     "output_type": "stream",
     "text": [
      "+--------------------+---------+---------+------+-------------+---------+---------+-----+--------------------+------+--------+-------------+---------+--------------------+------+-------------+--------------------+------+\n",
      "|              artist|     auth|firstName|gender|itemInSession| lastName|   length|level|            location|method|    page| registration|sessionId|                song|status|           ts|           userAgent|userId|\n",
      "+--------------------+---------+---------+------+-------------+---------+---------+-----+--------------------+------+--------+-------------+---------+--------------------+------+-------------+--------------------+------+\n",
      "|       Showaddywaddy|Logged In|  Kenneth|     M|          112| Matthews|232.93342| paid|Charlotte-Concord...|   PUT|NextSong|1509380319284|     5132|Christmas Tears W...|   200|1513720872284|\"Mozilla/5.0 (Win...|  1046|\n",
      "|          Lily Allen|Logged In|Elizabeth|     F|            7|    Chase|195.23873| free|Shreveport-Bossie...|   PUT|NextSong|1512718541284|     5027|       Cheryl Tweedy|   200|1513720878284|\"Mozilla/5.0 (Win...|  1000|\n",
      "|Cobra Starship Fe...|Logged In|     Vera|     F|            6|Blackwell|196.20526| paid|          Racine, WI|   PUT|NextSong|1499855749284|     5516|Good Girls Go Bad...|   200|1513720881284|\"Mozilla/5.0 (Mac...|  2219|\n",
      "|          Alex Smoke|Logged In|   Sophee|     F|            8|   Barker|405.99465| paid|San Luis Obispo-P...|   PUT|NextSong|1513009647284|     2372| Don't See The Point|   200|1513720905284|\"Mozilla/5.0 (Win...|  2373|\n",
      "|              Redman|Logged In|    Paige|     F|            0|   Hunter|154.53995| free|       Brownwood, TX|   PUT|NextSong|1498414068284|     4406|        Smoke Buddah|   200|1513720955284|\"Mozilla/5.0 (Mac...|  1162|\n",
      "|     Ulrich Schnauss|Logged In|  Gabriel|     M|            2|     Koch|402.93832| paid|     Panama City, FL|   PUT|NextSong|1505820418284|     1060|           On My Own|   200|1513720959284|Mozilla/5.0 (Wind...|  1061|\n",
      "|               Jay-Z|Logged In|  Micheal|     M|           23|   Morgan|223.26812| paid|        Sterling, CO|   PUT|NextSong|1485051492284|     5175|Heart Of The City...|   200|1513720983284|\"Mozilla/5.0 (Win...|  1806|\n",
      "|         Evanescence|Logged In|    Mason|     M|            3|   Thomas|237.11302| paid|Indianapolis-Carm...|   PUT|NextSong|1487015656284|     5661|    Bring Me To Life|   200|1513720993284|Mozilla/5.0 (comp...|   748|\n",
      "|     Scissor Sisters|Logged In|   Justin|     M|           82|    Jones|218.01751| paid|          Dayton, TN|   PUT|NextSong|1504706730284|     1175|               Laura|   200|1513721031284|\"Mozilla/5.0 (Win...|  1176|\n",
      "|        3 Doors Down|Logged In|     Zoie|     F|           28|   Wright|237.13914| paid|Chicago-Napervill...|   PUT|NextSong|1512172030284|     2163|    Here Without You|   200|1513721045284|\"Mozilla/5.0 (Mac...|  2164|\n",
      "|       George Younce|Logged In|  Malachi|     M|            3|     Lane|191.68608| free|     Sioux Falls, SD|   PUT|NextSong|1510109243284|     5272|This Old House w/...|   200|1513721058284|Mozilla/5.0 (Wind...|  2146|\n",
      "|              Aly-Us|Logged In|     Vera|     F|            7|Blackwell|383.58159| paid|          Racine, WI|   PUT|NextSong|1499855749284|     5516|Follow Me (Club Mix)|   200|1513721077284|\"Mozilla/5.0 (Mac...|  2219|\n",
      "|            BjÃÂ¶rk|Logged In|    Elena|     F|            0|   Newman|348.57751| free|Boston-Cambridge-...|   PUT|NextSong|1513494341284|     2903|                Undo|   200|1513721095284|Mozilla/5.0 (Wind...|  2904|\n",
      "|      David Bromberg|Logged In|Alexander|     M|            1|    Short|146.36363| free|       Green Bay, WI|   PUT|NextSong|1513594398284|     3689|Sheebeg And Sheemore|   200|1513721097284|\"Mozilla/5.0 (Win...|   597|\n",
      "|          Nickelback|Logged In|  Abigail|     F|            4| Davidson|238.18404| paid|Lansing-East Lans...|   PUT|NextSong|1513173389284|     4591|Far Away (Album V...|   200|1513721104284|\"Mozilla/5.0 (Mac...|   226|\n",
      "|       Darius Rucker|Logged In|  Kenneth|     M|          113| Matthews|206.00118| paid|Charlotte-Concord...|   PUT|NextSong|1509380319284|     5132|  Be Wary Of A Woman|   200|1513721104284|\"Mozilla/5.0 (Win...|  1046|\n",
      "|       Mayday Parade|Logged In|    Paige|     F|            1|   Hunter|241.42322| free|       Brownwood, TX|   PUT|NextSong|1498414068284|     4406|I'd Hate To Be Yo...|   200|1513721109284|\"Mozilla/5.0 (Mac...|  1162|\n",
      "|        Simple Minds|Logged In|    Ryder|     M|            1|Rodriguez|401.78893| free|        Freeport, IL|   PUT|NextSong|1513668346284|     2941|       Oh Jungleland|   200|1513721127284|\"Mozilla/5.0 (Mac...|  2942|\n",
      "|    Dropkick Murphys|Logged In|   Eliana|     F|            1|   Thomas|159.76444| paid|       Knoxville, TN|   PUT|NextSong|1511496362284|     4686|Captain Kelly's K...|   200|1513721182284|\"Mozilla/5.0 (Win...|  2779|\n",
      "|     Milczenie Owiec|Logged In|  Micheal|     M|           24|   Morgan|219.29751| paid|        Sterling, CO|   PUT|NextSong|1485051492284|     5175|             CIEÃÂ|   200|1513721206284|\"Mozilla/5.0 (Win...|  1806|\n",
      "+--------------------+---------+---------+------+-------------+---------+---------+-----+--------------------+------+--------+-------------+---------+--------------------+------+-------------+--------------------+------+\n",
      "only showing top 20 rows\n",
      "\n"
     ]
    }
   ],
   "source": [
    "temp.show()"
   ]
  },
  {
   "cell_type": "code",
   "execution_count": 124,
   "id": "92398f6b",
   "metadata": {},
   "outputs": [],
   "source": [
    "filter2 = temp.userId == 1046"
   ]
  },
  {
   "cell_type": "code",
   "execution_count": 135,
   "id": "d82e3275",
   "metadata": {},
   "outputs": [
    {
     "name": "stdout",
     "output_type": "stream",
     "text": [
      "+-----------+\n",
      "|min(length)|\n",
      "+-----------+\n",
      "|  153.59955|\n",
      "+-----------+\n",
      "\n"
     ]
    }
   ],
   "source": [
    "user_log.filter(filter_1).filter(user_log.userId == \"1046\").groupBy().min(\"length\").show()"
   ]
  },
  {
   "cell_type": "code",
   "execution_count": 132,
   "id": "7025a440",
   "metadata": {},
   "outputs": [
    {
     "name": "stdout",
     "output_type": "stream",
     "text": [
      "+-----------+\n",
      "|min(length)|\n",
      "+-----------+\n",
      "|  153.59955|\n",
      "+-----------+\n",
      "\n"
     ]
    }
   ],
   "source": [
    "user_log.filter(\"length is not null\").filter(\"userId == 1046\").groupBy().min(\"length\").show()"
   ]
  },
  {
   "cell_type": "code",
   "execution_count": 140,
   "id": "262adf43",
   "metadata": {},
   "outputs": [
    {
     "ename": "TypeError",
     "evalue": "'Column' object is not callable",
     "output_type": "error",
     "traceback": [
      "\u001b[1;31m---------------------------------------------------------------------------\u001b[0m",
      "\u001b[1;31mTypeError\u001b[0m                                 Traceback (most recent call last)",
      "\u001b[1;32m<ipython-input-140-df4aa5ffb291>\u001b[0m in \u001b[0;36m<module>\u001b[1;34m\u001b[0m\n\u001b[1;32m----> 1\u001b[1;33m \u001b[0muser_log\u001b[0m\u001b[1;33m.\u001b[0m\u001b[0martist\u001b[0m\u001b[1;33m.\u001b[0m\u001b[0mcount\u001b[0m\u001b[1;33m(\u001b[0m\u001b[1;33m)\u001b[0m\u001b[1;33m\u001b[0m\u001b[1;33m\u001b[0m\u001b[0m\n\u001b[0m",
      "\u001b[1;31mTypeError\u001b[0m: 'Column' object is not callable"
     ]
    }
   ],
   "source": []
  },
  {
   "cell_type": "code",
   "execution_count": 137,
   "id": "8a4eb7c1",
   "metadata": {
    "scrolled": true
   },
   "outputs": [
    {
     "name": "stdout",
     "output_type": "stream",
     "text": [
      "+-------------+---------+---------+------+-------------+--------+---------+-----+--------------------+------+--------+-------------+---------+--------------------+------+-------------+--------------------+------+\n",
      "|       artist|     auth|firstName|gender|itemInSession|lastName|   length|level|            location|method|    page| registration|sessionId|                song|status|           ts|           userAgent|userId|\n",
      "+-------------+---------+---------+------+-------------+--------+---------+-----+--------------------+------+--------+-------------+---------+--------------------+------+-------------+--------------------+------+\n",
      "|Showaddywaddy|Logged In|  Kenneth|     M|          112|Matthews|232.93342| paid|Charlotte-Concord...|   PUT|NextSong|1509380319284|     5132|Christmas Tears W...|   200|1513720872284|\"Mozilla/5.0 (Win...|  1046|\n",
      "+-------------+---------+---------+------+-------------+--------+---------+-----+--------------------+------+--------+-------------+---------+--------------------+------+-------------+--------------------+------+\n",
      "\n"
     ]
    }
   ],
   "source": [
    "user_log.filter(user_log.artist == \"Showaddywaddy\").show()"
   ]
  },
  {
   "cell_type": "code",
   "execution_count": 141,
   "id": "97cd15b5",
   "metadata": {},
   "outputs": [],
   "source": [
    "# avg song length of userId == 1046 \n",
    "\n",
    "filter_1 = user_log.length.isNotNull()\n",
    "filter_2 = user_log.userId == \"1046\""
   ]
  },
  {
   "cell_type": "code",
   "execution_count": 143,
   "id": "8998e270",
   "metadata": {},
   "outputs": [
    {
     "name": "stdout",
     "output_type": "stream",
     "text": [
      "+------------------+\n",
      "|       avg(length)|\n",
      "+------------------+\n",
      "|237.65578222222223|\n",
      "+------------------+\n",
      "\n"
     ]
    }
   ],
   "source": [
    "user_log.filter(filter_1).filter(filter_2).groupBy().avg(\"length\").show()"
   ]
  },
  {
   "cell_type": "markdown",
   "id": "77aa7fba",
   "metadata": {},
   "source": [
    "### Grouping and Aggregating 1\n",
    "    => .groupBy()"
   ]
  },
  {
   "cell_type": "code",
   "execution_count": 144,
   "id": "9cbb14a8",
   "metadata": {},
   "outputs": [],
   "source": [
    "# group by userId\n",
    "by_user_id = user_log.groupBy(\"userId\")"
   ]
  },
  {
   "cell_type": "code",
   "execution_count": 147,
   "id": "12eb493a",
   "metadata": {},
   "outputs": [
    {
     "ename": "AttributeError",
     "evalue": "'GroupedData' object has no attribute 'show'",
     "output_type": "error",
     "traceback": [
      "\u001b[1;31m---------------------------------------------------------------------------\u001b[0m",
      "\u001b[1;31mAttributeError\u001b[0m                            Traceback (most recent call last)",
      "\u001b[1;32m<ipython-input-147-bd860fb2f722>\u001b[0m in \u001b[0;36m<module>\u001b[1;34m\u001b[0m\n\u001b[1;32m----> 1\u001b[1;33m \u001b[0mby_user_id\u001b[0m\u001b[1;33m.\u001b[0m\u001b[0mshow\u001b[0m\u001b[1;33m(\u001b[0m\u001b[1;33m)\u001b[0m\u001b[1;33m\u001b[0m\u001b[1;33m\u001b[0m\u001b[0m\n\u001b[0m",
      "\u001b[1;31mAttributeError\u001b[0m: 'GroupedData' object has no attribute 'show'"
     ]
    }
   ],
   "source": [
    "by_user_id.show()"
   ]
  },
  {
   "cell_type": "code",
   "execution_count": 146,
   "id": "59878464",
   "metadata": {},
   "outputs": [
    {
     "name": "stdout",
     "output_type": "stream",
     "text": [
      "+------+-----+\n",
      "|userId|count|\n",
      "+------+-----+\n",
      "|  2904|    1|\n",
      "|   691|    4|\n",
      "|  2294|   62|\n",
      "|  2162|   39|\n",
      "|  1436|    2|\n",
      "|  2088|   14|\n",
      "|  2275|    5|\n",
      "|  2756|    8|\n",
      "|   800|    3|\n",
      "|  1394|   28|\n",
      "|   926|    7|\n",
      "|  1746|    2|\n",
      "|  2696|    2|\n",
      "|  1280|    2|\n",
      "|   870|    2|\n",
      "|     7|    2|\n",
      "|  1903|    7|\n",
      "|   591|    1|\n",
      "|   613|    4|\n",
      "|   574|    7|\n",
      "+------+-----+\n",
      "only showing top 20 rows\n",
      "\n"
     ]
    }
   ],
   "source": [
    "by_user_id.count().show()"
   ]
  },
  {
   "cell_type": "code",
   "execution_count": 148,
   "id": "e8fa047a",
   "metadata": {},
   "outputs": [
    {
     "name": "stdout",
     "output_type": "stream",
     "text": [
      "+------+------------------+\n",
      "|userId|       avg(length)|\n",
      "+------+------------------+\n",
      "|  2904|         348.57751|\n",
      "|   691|269.66158666666666|\n",
      "|  2294| 253.2148934545454|\n",
      "|  2162|243.81803382352942|\n",
      "|  1436|        316.695055|\n",
      "|  2088|254.61907692307693|\n",
      "|  2275|390.73043333333334|\n",
      "|  2756|215.32689600000003|\n",
      "|   800|         258.58567|\n",
      "|  1394|230.37041076923074|\n",
      "|   926|271.96036000000004|\n",
      "|  1746|              null|\n",
      "|  2696|         200.95955|\n",
      "|  1280|              null|\n",
      "|   870|        231.757915|\n",
      "|     7|266.97097499999995|\n",
      "|  1903|211.76379000000003|\n",
      "|   591|         219.79383|\n",
      "|   613|        209.632195|\n",
      "|   574|       321.6387275|\n",
      "+------+------------------+\n",
      "only showing top 20 rows\n",
      "\n"
     ]
    }
   ],
   "source": [
    "# avg count, dd\n",
    "by_user_id.avg(\"length\").show()"
   ]
  },
  {
   "cell_type": "code",
   "execution_count": null,
   "id": "d5a4f278",
   "metadata": {},
   "outputs": [],
   "source": []
  },
  {
   "cell_type": "code",
   "execution_count": null,
   "id": "5c775240",
   "metadata": {},
   "outputs": [],
   "source": []
  },
  {
   "cell_type": "code",
   "execution_count": null,
   "id": "3105b84d",
   "metadata": {},
   "outputs": [],
   "source": []
  },
  {
   "cell_type": "code",
   "execution_count": null,
   "id": "a7c8de4c",
   "metadata": {},
   "outputs": [],
   "source": []
  },
  {
   "cell_type": "code",
   "execution_count": null,
   "id": "65fc1207",
   "metadata": {},
   "outputs": [],
   "source": []
  },
  {
   "cell_type": "code",
   "execution_count": null,
   "id": "2f818a11",
   "metadata": {},
   "outputs": [],
   "source": []
  },
  {
   "cell_type": "code",
   "execution_count": null,
   "id": "b3c468e4",
   "metadata": {},
   "outputs": [],
   "source": []
  },
  {
   "cell_type": "code",
   "execution_count": null,
   "id": "5d448adf",
   "metadata": {},
   "outputs": [],
   "source": []
  }
 ],
 "metadata": {
  "kernelspec": {
   "display_name": "Python 3",
   "language": "python",
   "name": "python3"
  },
  "language_info": {
   "codemirror_mode": {
    "name": "ipython",
    "version": 3
   },
   "file_extension": ".py",
   "mimetype": "text/x-python",
   "name": "python",
   "nbconvert_exporter": "python",
   "pygments_lexer": "ipython3",
   "version": "3.8.8"
  }
 },
 "nbformat": 4,
 "nbformat_minor": 5
}
