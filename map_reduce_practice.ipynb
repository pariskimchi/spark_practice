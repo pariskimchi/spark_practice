{
 "cells": [
  {
   "cell_type": "code",
   "execution_count": 1,
   "id": "9d28be9d",
   "metadata": {},
   "outputs": [
    {
     "name": "stdout",
     "output_type": "stream",
     "text": [
      "Collecting mrjob\n",
      "  Downloading mrjob-0.7.4-py2.py3-none-any.whl (439 kB)\n",
      "Requirement already satisfied: PyYAML>=3.10 in c:\\programdata\\anaconda3\\lib\\site-packages (from mrjob) (5.4.1)\n",
      "Installing collected packages: mrjob\n",
      "Successfully installed mrjob-0.7.4\n"
     ]
    }
   ],
   "source": [
    "# install mrjob library \n",
    "# this package is for running MapReduce jobs with python\n",
    "!pip install mrjob"
   ]
  },
  {
   "cell_type": "code",
   "execution_count": 2,
   "id": "cf0fe731",
   "metadata": {},
   "outputs": [
    {
     "name": "stdout",
     "output_type": "stream",
     "text": [
      "Writing wordcount.py\n"
     ]
    }
   ],
   "source": [
    "%%file wordcount.py\n",
    "## %%file is an Ipython magic function that saves the code cell as a file\n",
    "\n",
    "from mrjob.job import MRJob\n",
    "\n",
    "class MRSongCount(MRJob):\n",
    "    \n",
    "    # the map step\n",
    "    # => each line in the text file is read as a key, value pair \n",
    "    def mapper(self,_,song):\n",
    "        #output each line as a tuple of (song_names, 1)\n",
    "        yield (song,1)\n",
    "    \n",
    "    # the reduce step:\n",
    "    # => combine all tuples with the same key\n",
    "    # key: song_name \n",
    "    # then sum all the value of the tuple, \n",
    "    def reducer(self,key,values):\n",
    "        yield(key,sum(values))\n",
    "        \n",
    "if __name__ == \"__main__\":\n",
    "    MRSongCount.run()"
   ]
  },
  {
   "cell_type": "code",
   "execution_count": 3,
   "id": "3ec65ef6",
   "metadata": {},
   "outputs": [
    {
     "name": "stdout",
     "output_type": "stream",
     "text": [
      "\"Broken Networks\"\t510\n",
      "\"Data House Rock\"\t828\n",
      "\"Deep Dreams\"\t1131\n"
     ]
    },
    {
     "name": "stderr",
     "output_type": "stream",
     "text": [
      "No configs found; falling back on auto-configuration\n",
      "No configs specified for inline runner\n",
      "Creating temp directory C:\\Users\\yng12\\AppData\\Local\\Temp\\wordcount.yng12.20220304.084455.616445\n",
      "Running step 1 of 1...\n",
      "job output is in C:\\Users\\yng12\\AppData\\Local\\Temp\\wordcount.yng12.20220304.084455.616445\\output\n",
      "Streaming final output from C:\\Users\\yng12\\AppData\\Local\\Temp\\wordcount.yng12.20220304.084455.616445\\output...\n",
      "Removing temp directory C:\\Users\\yng12\\AppData\\Local\\Temp\\wordcount.yng12.20220304.084455.616445...\n"
     ]
    }
   ],
   "source": [
    "# run the code as a terminal command \n",
    "! python wordcount.py songplays.txt"
   ]
  },
  {
   "cell_type": "code",
   "execution_count": null,
   "id": "86f4d026",
   "metadata": {},
   "outputs": [],
   "source": []
  }
 ],
 "metadata": {
  "kernelspec": {
   "display_name": "Python 3",
   "language": "python",
   "name": "python3"
  },
  "language_info": {
   "codemirror_mode": {
    "name": "ipython",
    "version": 3
   },
   "file_extension": ".py",
   "mimetype": "text/x-python",
   "name": "python",
   "nbconvert_exporter": "python",
   "pygments_lexer": "ipython3",
   "version": "3.8.8"
  }
 },
 "nbformat": 4,
 "nbformat_minor": 5
}
