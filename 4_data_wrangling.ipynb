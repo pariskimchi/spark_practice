{
 "cells": [
  {
   "cell_type": "markdown",
   "id": "34138e9c",
   "metadata": {},
   "source": [
    "### Data Wrangling with Spark"
   ]
  },
  {
   "cell_type": "code",
   "execution_count": 1,
   "id": "13ac17b4",
   "metadata": {},
   "outputs": [],
   "source": [
    "# import libraries \n",
    "import findspark \n",
    "findspark.init()"
   ]
  },
  {
   "cell_type": "code",
   "execution_count": 3,
   "id": "be121db9",
   "metadata": {},
   "outputs": [],
   "source": [
    "from pyspark.sql import SparkSession\n",
    "from pyspark.sql.functions import udf \n",
    "from pyspark.sql.types import StringType\n",
    "from pyspark.sql.types import IntegerType \n",
    "from pyspark.sql.functions import desc \n",
    "from pyspark.sql.functions import asc \n",
    "from pyspark.sql.functions import sum as Fsum \n",
    "\n"
   ]
  },
  {
   "cell_type": "code",
   "execution_count": 4,
   "id": "456c4361",
   "metadata": {},
   "outputs": [],
   "source": [
    "import datetime \n",
    "\n",
    "import numpy as np\n",
    "import pandas as pd \n",
    "import matplotlib.pyplot as plt \n",
    "%matplotlib inline"
   ]
  },
  {
   "cell_type": "code",
   "execution_count": 5,
   "id": "f3866ce2",
   "metadata": {},
   "outputs": [],
   "source": [
    "# Create spark Session \n",
    "spark = SparkSession \\\n",
    "    .builder \\\n",
    "    .appName(\"Wrangling Data\") \\\n",
    "    .getOrCreate()"
   ]
  },
  {
   "cell_type": "code",
   "execution_count": 7,
   "id": "8c120924",
   "metadata": {},
   "outputs": [],
   "source": [
    "# spark.read.<file_format>(<path>)\n",
    "path = \"data/sparkify_log_small.json\"\n",
    "user_log = spark.read.json(path)"
   ]
  },
  {
   "cell_type": "markdown",
   "id": "92c7115a",
   "metadata": {},
   "source": [
    "### Data Exploration"
   ]
  },
  {
   "cell_type": "code",
   "execution_count": 8,
   "id": "8ad5710b",
   "metadata": {},
   "outputs": [
    {
     "data": {
      "text/plain": [
       "[Row(artist='Showaddywaddy', auth='Logged In', firstName='Kenneth', gender='M', itemInSession=112, lastName='Matthews', length=232.93342, level='paid', location='Charlotte-Concord-Gastonia, NC-SC', method='PUT', page='NextSong', registration=1509380319284, sessionId=5132, song='Christmas Tears Will Fall', status=200, ts=1513720872284, userAgent='\"Mozilla/5.0 (Windows NT 6.1) AppleWebKit/537.36 (KHTML, like Gecko) Chrome/36.0.1985.125 Safari/537.36\"', userId='1046'),\n",
       " Row(artist='Lily Allen', auth='Logged In', firstName='Elizabeth', gender='F', itemInSession=7, lastName='Chase', length=195.23873, level='free', location='Shreveport-Bossier City, LA', method='PUT', page='NextSong', registration=1512718541284, sessionId=5027, song='Cheryl Tweedy', status=200, ts=1513720878284, userAgent='\"Mozilla/5.0 (Windows NT 6.1) AppleWebKit/537.36 (KHTML, like Gecko) Chrome/36.0.1985.143 Safari/537.36\"', userId='1000'),\n",
       " Row(artist='Cobra Starship Featuring Leighton Meester', auth='Logged In', firstName='Vera', gender='F', itemInSession=6, lastName='Blackwell', length=196.20526, level='paid', location='Racine, WI', method='PUT', page='NextSong', registration=1499855749284, sessionId=5516, song='Good Girls Go Bad (Feat.Leighton Meester) (Album Version)', status=200, ts=1513720881284, userAgent='\"Mozilla/5.0 (Macintosh; Intel Mac OS X 10_9_4) AppleWebKit/537.78.2 (KHTML, like Gecko) Version/7.0.6 Safari/537.78.2\"', userId='2219'),\n",
       " Row(artist='Alex Smoke', auth='Logged In', firstName='Sophee', gender='F', itemInSession=8, lastName='Barker', length=405.99465, level='paid', location='San Luis Obispo-Paso Robles-Arroyo Grande, CA', method='PUT', page='NextSong', registration=1513009647284, sessionId=2372, song=\"Don't See The Point\", status=200, ts=1513720905284, userAgent='\"Mozilla/5.0 (Windows NT 6.1; WOW64) AppleWebKit/537.36 (KHTML, like Gecko) Chrome/36.0.1985.143 Safari/537.36\"', userId='2373'),\n",
       " Row(artist=None, auth='Logged In', firstName='Jordyn', gender='F', itemInSession=0, lastName='Jones', length=None, level='free', location='Syracuse, NY', method='GET', page='Home', registration=1513648531284, sessionId=1746, song=None, status=200, ts=1513720913284, userAgent='\"Mozilla/5.0 (Macintosh; Intel Mac OS X 10_9_4) AppleWebKit/537.36 (KHTML, like Gecko) Chrome/37.0.2062.94 Safari/537.36\"', userId='1747')]"
      ]
     },
     "execution_count": 8,
     "metadata": {},
     "output_type": "execute_result"
    }
   ],
   "source": [
    "# check first 5 \n",
    "# .take()\n",
    "user_log.take(5)"
   ]
  },
  {
   "cell_type": "code",
   "execution_count": 9,
   "id": "7f7d33c9",
   "metadata": {},
   "outputs": [
    {
     "name": "stdout",
     "output_type": "stream",
     "text": [
      "root\n",
      " |-- artist: string (nullable = true)\n",
      " |-- auth: string (nullable = true)\n",
      " |-- firstName: string (nullable = true)\n",
      " |-- gender: string (nullable = true)\n",
      " |-- itemInSession: long (nullable = true)\n",
      " |-- lastName: string (nullable = true)\n",
      " |-- length: double (nullable = true)\n",
      " |-- level: string (nullable = true)\n",
      " |-- location: string (nullable = true)\n",
      " |-- method: string (nullable = true)\n",
      " |-- page: string (nullable = true)\n",
      " |-- registration: long (nullable = true)\n",
      " |-- sessionId: long (nullable = true)\n",
      " |-- song: string (nullable = true)\n",
      " |-- status: long (nullable = true)\n",
      " |-- ts: long (nullable = true)\n",
      " |-- userAgent: string (nullable = true)\n",
      " |-- userId: string (nullable = true)\n",
      "\n"
     ]
    }
   ],
   "source": [
    "user_log.printSchema()"
   ]
  },
  {
   "cell_type": "code",
   "execution_count": 11,
   "id": "a875f2e3",
   "metadata": {},
   "outputs": [
    {
     "name": "stdout",
     "output_type": "stream",
     "text": [
      "+-------+-----------------+----------+---------+------+------------------+--------+-----------------+-----+------------+------+-------+--------------------+------------------+--------+-----------------+-------------------+--------------------+------------------+\n",
      "|summary|           artist|      auth|firstName|gender|     itemInSession|lastName|           length|level|    location|method|   page|        registration|         sessionId|    song|           status|                 ts|           userAgent|            userId|\n",
      "+-------+-----------------+----------+---------+------+------------------+--------+-----------------+-----+------------+------+-------+--------------------+------------------+--------+-----------------+-------------------+--------------------+------------------+\n",
      "|  count|             8347|     10000|     9664|  9664|             10000|    9664|             8347|10000|        9664| 10000|  10000|                9664|             10000|    8347|            10000|              10000|                9664|             10000|\n",
      "|   mean|            461.0|      null|     null|  null|           19.6734|    null|249.6486587492506| null|        null|  null|   null|1.504695369588739...|         4436.7511|Infinity|         202.8984| 1.5137859954164E12|                null|1442.4413286423842|\n",
      "| stddev|            300.0|      null|     null|  null|25.382114916132608|    null|95.00437130781461| null|        null|  null|   null|  8.47314252131656E9|2043.1281541827561|     NaN|18.04179115450588|3.290828862357974E7|                null| 829.8909432082621|\n",
      "|    min|              !!!|     Guest|   Aakash|     F|                 0| Acevedo|          1.12281| free|Aberdeen, WA|   GET|  About|       1463503881284|                 9|      #1|              200|      1513720872284|\"Mozilla/5.0 (Mac...|                  |\n",
      "|    max|ÃÂlafur Arnalds|Logged Out|     Zoie|     M|               163|  Zuniga|        1806.8371| paid|    Yuma, AZ|   PUT|Upgrade|       1513760702284|              7144|wingless|              404|      1513848349284|Mozilla/5.0 (comp...|               999|\n",
      "+-------+-----------------+----------+---------+------+------------------+--------+-----------------+-----+------------+------+-------+--------------------+------------------+--------+-----------------+-------------------+--------------------+------------------+\n",
      "\n"
     ]
    }
   ],
   "source": [
    "user_log.describe().show()"
   ]
  },
  {
   "cell_type": "code",
   "execution_count": 12,
   "id": "94fc986f",
   "metadata": {},
   "outputs": [
    {
     "name": "stdout",
     "output_type": "stream",
     "text": [
      "+-------+-----------------+\n",
      "|summary|           artist|\n",
      "+-------+-----------------+\n",
      "|  count|             8347|\n",
      "|   mean|            461.0|\n",
      "| stddev|            300.0|\n",
      "|    min|              !!!|\n",
      "|    max|ÃÂlafur Arnalds|\n",
      "+-------+-----------------+\n",
      "\n"
     ]
    }
   ],
   "source": [
    "# describe column \"artist\"\n",
    "user_log.describe(\"artist\").show()"
   ]
  },
  {
   "cell_type": "code",
   "execution_count": 13,
   "id": "72dbbd69",
   "metadata": {},
   "outputs": [
    {
     "data": {
      "text/plain": [
       "['artist',\n",
       " 'auth',\n",
       " 'firstName',\n",
       " 'gender',\n",
       " 'itemInSession',\n",
       " 'lastName',\n",
       " 'length',\n",
       " 'level',\n",
       " 'location',\n",
       " 'method',\n",
       " 'page',\n",
       " 'registration',\n",
       " 'sessionId',\n",
       " 'song',\n",
       " 'status',\n",
       " 'ts',\n",
       " 'userAgent',\n",
       " 'userId']"
      ]
     },
     "execution_count": 13,
     "metadata": {},
     "output_type": "execute_result"
    }
   ],
   "source": [
    "# checking columns\n",
    "user_log.columns"
   ]
  },
  {
   "cell_type": "code",
   "execution_count": 14,
   "id": "503e78d4",
   "metadata": {},
   "outputs": [
    {
     "name": "stdout",
     "output_type": "stream",
     "text": [
      "+-------+------------------+\n",
      "|summary|         sessionId|\n",
      "+-------+------------------+\n",
      "|  count|             10000|\n",
      "|   mean|         4436.7511|\n",
      "| stddev|2043.1281541827561|\n",
      "|    min|                 9|\n",
      "|    max|              7144|\n",
      "+-------+------------------+\n",
      "\n"
     ]
    }
   ],
   "source": [
    "user_log.describe(\"sessionId\").show()"
   ]
  },
  {
   "cell_type": "code",
   "execution_count": 15,
   "id": "1486bfd3",
   "metadata": {},
   "outputs": [
    {
     "data": {
      "text/plain": [
       "10000"
      ]
     },
     "execution_count": 15,
     "metadata": {},
     "output_type": "execute_result"
    }
   ],
   "source": [
    "# check count row \n",
    "user_log.count()"
   ]
  },
  {
   "cell_type": "code",
   "execution_count": 18,
   "id": "3e516b11",
   "metadata": {},
   "outputs": [
    {
     "name": "stdout",
     "output_type": "stream",
     "text": [
      "+----------------+\n",
      "|            page|\n",
      "+----------------+\n",
      "|           About|\n",
      "|       Downgrade|\n",
      "|           Error|\n",
      "|            Help|\n",
      "|            Home|\n",
      "|           Login|\n",
      "|          Logout|\n",
      "|        NextSong|\n",
      "|   Save Settings|\n",
      "|        Settings|\n",
      "|Submit Downgrade|\n",
      "|  Submit Upgrade|\n",
      "|         Upgrade|\n",
      "+----------------+\n",
      "\n"
     ]
    }
   ],
   "source": [
    "# drop duplicate and sorting by \"page\" column on \"page\" column \n",
    "# ===> check unique values on page column\n",
    "# .select(<column>)  \n",
    "# .dropDuplicates()\n",
    "# . sort(<column>)\n",
    "# . show()\n",
    "user_log.select(\"page\").dropDuplicates().sort(\"page\").show()"
   ]
  },
  {
   "cell_type": "code",
   "execution_count": 20,
   "id": "b8497f9a",
   "metadata": {},
   "outputs": [
    {
     "data": {
      "text/plain": [
       "[Row(userId='1046', firstname='Kenneth', page='NextSong', song='Christmas Tears Will Fall'),\n",
       " Row(userId='1046', firstname='Kenneth', page='NextSong', song='Be Wary Of A Woman'),\n",
       " Row(userId='1046', firstname='Kenneth', page='NextSong', song='Public Enemy No.1'),\n",
       " Row(userId='1046', firstname='Kenneth', page='NextSong', song='Reign Of The Tyrants'),\n",
       " Row(userId='1046', firstname='Kenneth', page='NextSong', song='Father And Son'),\n",
       " Row(userId='1046', firstname='Kenneth', page='NextSong', song='No. 5'),\n",
       " Row(userId='1046', firstname='Kenneth', page='NextSong', song='Seventeen'),\n",
       " Row(userId='1046', firstname='Kenneth', page='Home', song=None),\n",
       " Row(userId='1046', firstname='Kenneth', page='NextSong', song='War on war'),\n",
       " Row(userId='1046', firstname='Kenneth', page='NextSong', song='Killermont Street'),\n",
       " Row(userId='1046', firstname='Kenneth', page='NextSong', song='Black & Blue'),\n",
       " Row(userId='1046', firstname='Kenneth', page='Logout', song=None),\n",
       " Row(userId='1046', firstname='Kenneth', page='Home', song=None),\n",
       " Row(userId='1046', firstname='Kenneth', page='NextSong', song='Heads Will Roll'),\n",
       " Row(userId='1046', firstname='Kenneth', page='NextSong', song='Bleed It Out [Live At Milton Keynes]'),\n",
       " Row(userId='1046', firstname='Kenneth', page='NextSong', song='Clocks'),\n",
       " Row(userId='1046', firstname='Kenneth', page='NextSong', song='Love Rain'),\n",
       " Row(userId='1046', firstname='Kenneth', page='NextSong', song=\"Ry Ry's Song (Album Version)\"),\n",
       " Row(userId='1046', firstname='Kenneth', page='NextSong', song='The Invisible Man'),\n",
       " Row(userId='1046', firstname='Kenneth', page='NextSong', song='Catch You Baby (Steve Pitron & Max Sanna Radio Edit)'),\n",
       " Row(userId='1046', firstname='Kenneth', page='NextSong', song='Ask The Mountains'),\n",
       " Row(userId='1046', firstname='Kenneth', page='NextSong', song='Given Up (Album Version)'),\n",
       " Row(userId='1046', firstname='Kenneth', page='NextSong', song='El Cuatrero'),\n",
       " Row(userId='1046', firstname='Kenneth', page='NextSong', song='Hero/Heroine'),\n",
       " Row(userId='1046', firstname='Kenneth', page='NextSong', song='Spring'),\n",
       " Row(userId='1046', firstname='Kenneth', page='NextSong', song='Rising Moon'),\n",
       " Row(userId='1046', firstname='Kenneth', page='NextSong', song='Tough Little Boys'),\n",
       " Row(userId='1046', firstname='Kenneth', page='NextSong', song=\"Qu'Est-Ce Que T'Es Belle\"),\n",
       " Row(userId='1046', firstname='Kenneth', page='NextSong', song='Secrets'),\n",
       " Row(userId='1046', firstname='Kenneth', page='NextSong', song='Under The Gun')]"
      ]
     },
     "execution_count": 20,
     "metadata": {},
     "output_type": "execute_result"
    }
   ],
   "source": [
    "# condition \n",
    "# .where(dataframe.<column> == \"\").collect()\n",
    "user_log.select([\"userId\",\"firstname\",\"page\",\"song\"]).where(user_log.userId ==\"1046\").collect()"
   ]
  },
  {
   "cell_type": "markdown",
   "id": "6c1898a9",
   "metadata": {},
   "source": [
    "### Calculating Statistics by Hour"
   ]
  },
  {
   "cell_type": "code",
   "execution_count": 21,
   "id": "5d4a71f6",
   "metadata": {},
   "outputs": [],
   "source": [
    "# create udf \n",
    "get_hour = udf(lambda x: datetime.datetime.fromtimestamp(x /1000.0). hour)"
   ]
  },
  {
   "cell_type": "code",
   "execution_count": 28,
   "id": "2b6376a9",
   "metadata": {},
   "outputs": [],
   "source": [
    "# create new column\n",
    "# withColumn(<new_column_name>, <target>)\n",
    "user_log = user_log.withColumn(\"hour\",get_hour(user_log.ts))"
   ]
  },
  {
   "cell_type": "code",
   "execution_count": 29,
   "id": "502b2cae",
   "metadata": {},
   "outputs": [
    {
     "data": {
      "text/plain": [
       "Row(artist='Showaddywaddy', auth='Logged In', firstName='Kenneth', gender='M', itemInSession=112, lastName='Matthews', length=232.93342, level='paid', location='Charlotte-Concord-Gastonia, NC-SC', method='PUT', page='NextSong', registration=1509380319284, sessionId=5132, song='Christmas Tears Will Fall', status=200, ts=1513720872284, userAgent='\"Mozilla/5.0 (Windows NT 6.1) AppleWebKit/537.36 (KHTML, like Gecko) Chrome/36.0.1985.125 Safari/537.36\"', userId='1046', hour='7')"
      ]
     },
     "execution_count": 29,
     "metadata": {},
     "output_type": "execute_result"
    }
   ],
   "source": [
    "user_log.head()"
   ]
  },
  {
   "cell_type": "code",
   "execution_count": 30,
   "id": "7910243a",
   "metadata": {},
   "outputs": [],
   "source": [
    "# condition: page == \"NextSong\"\n",
    "# => .filter(df.<column> ==  \"\")\n",
    "# .groupby (df.<column>)\n",
    "# .count()\n",
    "# .orderBy(df.<column>.cast(<Type>))\n",
    "songs_in_hour = user_log.filter(user_log.page == \"NextSong\") \\\n",
    "    .groupby(user_log.hour).count().orderBy(user_log.hour.cast(\"float\"))"
   ]
  },
  {
   "cell_type": "code",
   "execution_count": 31,
   "id": "54c4e54e",
   "metadata": {},
   "outputs": [
    {
     "name": "stdout",
     "output_type": "stream",
     "text": [
      "+----+-----+\n",
      "|hour|count|\n",
      "+----+-----+\n",
      "|   0|  479|\n",
      "|   1|  484|\n",
      "|   2|  430|\n",
      "|   3|  362|\n",
      "|   4|  295|\n",
      "|   5|  257|\n",
      "|   6|  248|\n",
      "|   7|  369|\n",
      "|   8|  375|\n",
      "|   9|  456|\n",
      "|  10|  454|\n",
      "|  11|  382|\n",
      "|  12|  302|\n",
      "|  13|  352|\n",
      "|  14|  276|\n",
      "|  15|  348|\n",
      "|  16|  358|\n",
      "|  17|  375|\n",
      "|  18|  249|\n",
      "|  19|  216|\n",
      "+----+-----+\n",
      "only showing top 20 rows\n",
      "\n"
     ]
    }
   ],
   "source": [
    "songs_in_hour.show()"
   ]
  },
  {
   "cell_type": "code",
   "execution_count": 32,
   "id": "37b86406",
   "metadata": {},
   "outputs": [],
   "source": [
    "# convert dataframe to pandas dataframe \n",
    "# .toPandas()\n",
    "songs_in_hour_pd = songs_in_hour.toPandas()"
   ]
  },
  {
   "cell_type": "code",
   "execution_count": 33,
   "id": "78467ba3",
   "metadata": {},
   "outputs": [
    {
     "name": "stdout",
     "output_type": "stream",
     "text": [
      "<class 'pandas.core.frame.DataFrame'>\n",
      "RangeIndex: 24 entries, 0 to 23\n",
      "Data columns (total 2 columns):\n",
      " #   Column  Non-Null Count  Dtype \n",
      "---  ------  --------------  ----- \n",
      " 0   hour    24 non-null     object\n",
      " 1   count   24 non-null     int64 \n",
      "dtypes: int64(1), object(1)\n",
      "memory usage: 512.0+ bytes\n"
     ]
    }
   ],
   "source": [
    "songs_in_hour_pd.info()"
   ]
  },
  {
   "cell_type": "code",
   "execution_count": 34,
   "id": "cfcf8680",
   "metadata": {},
   "outputs": [],
   "source": [
    "# convert hour column => to type numeric \n",
    "songs_in_hour_pd.hour = pd.to_numeric(songs_in_hour_pd.hour)"
   ]
  },
  {
   "cell_type": "code",
   "execution_count": 35,
   "id": "5a332235",
   "metadata": {},
   "outputs": [
    {
     "data": {
      "image/png": "[encoded data removed]",
      "text/plain": [
       "<Figure size 432x288 with 1 Axes>"
      ]
     },
     "metadata": {
      "needs_background": "light"
     },
     "output_type": "display_data"
    }
   ],
   "source": [
    "# visualization \n",
    "plt.scatter(songs_in_hour_pd[\"hour\"], songs_in_hour_pd[\"count\"])\n",
    "plt.xlim(-1, 24);\n",
    "plt.ylim(0, 1.2* max(songs_in_hour_pd['count']))\n",
    "plt.xlabel(\"hour\")\n",
    "plt.ylabel(\"songs played\");"
   ]
  },
  {
   "cell_type": "markdown",
   "id": "683b1719",
   "metadata": {},
   "source": [
    "### Drop row with Missing values"
   ]
  },
  {
   "cell_type": "code",
   "execution_count": 36,
   "id": "472d04e9",
   "metadata": {},
   "outputs": [],
   "source": [
    "# drop null on userId, sessionId column \n",
    "# .dropna(how=\"\",subset=[\"userId\",\"sessionId\"])\n",
    "user_log_valid = user_log.dropna(how=\"any\",subset=[\"userId\",'sessionId'])"
   ]
  },
  {
   "cell_type": "code",
   "execution_count": 37,
   "id": "0cc164d3",
   "metadata": {},
   "outputs": [
    {
     "data": {
      "text/plain": [
       "10000"
      ]
     },
     "execution_count": 37,
     "metadata": {},
     "output_type": "execute_result"
    }
   ],
   "source": [
    "# checking count \n",
    "user_log_valid.count()"
   ]
  },
  {
   "cell_type": "code",
   "execution_count": 38,
   "id": "ac2400f8",
   "metadata": {},
   "outputs": [
    {
     "name": "stdout",
     "output_type": "stream",
     "text": [
      "+------+\n",
      "|userId|\n",
      "+------+\n",
      "|      |\n",
      "|    10|\n",
      "|   100|\n",
      "|  1000|\n",
      "|  1003|\n",
      "|  1005|\n",
      "|  1006|\n",
      "|  1017|\n",
      "|  1019|\n",
      "|  1020|\n",
      "|  1022|\n",
      "|  1025|\n",
      "|  1030|\n",
      "|  1035|\n",
      "|  1037|\n",
      "|   104|\n",
      "|  1040|\n",
      "|  1042|\n",
      "|  1043|\n",
      "|  1046|\n",
      "+------+\n",
      "only showing top 20 rows\n",
      "\n"
     ]
    }
   ],
   "source": [
    "# checking unique userId \n",
    "user_log.select(\"userId\").dropDuplicates().sort(\"userId\").show()"
   ]
  },
  {
   "cell_type": "code",
   "execution_count": 39,
   "id": "53b99bc0",
   "metadata": {},
   "outputs": [],
   "source": [
    "# dropping values, userId == \"\"\n",
    "user_log_valid = user_log_valid.filter(user_log_valid[\"userId\"] != \"\")"
   ]
  },
  {
   "cell_type": "code",
   "execution_count": 40,
   "id": "c57d83a9",
   "metadata": {},
   "outputs": [
    {
     "data": {
      "text/plain": [
       "9664"
      ]
     },
     "execution_count": 40,
     "metadata": {},
     "output_type": "execute_result"
    }
   ],
   "source": [
    "user_log_valid.count()"
   ]
  },
  {
   "cell_type": "markdown",
   "id": "76188d57",
   "metadata": {},
   "source": [
    "### Users Downgrade their accounts "
   ]
  },
  {
   "cell_type": "code",
   "execution_count": 41,
   "id": "3ea46cb5",
   "metadata": {},
   "outputs": [
    {
     "name": "stdout",
     "output_type": "stream",
     "text": [
      "+----------------+\n",
      "|            page|\n",
      "+----------------+\n",
      "|Submit Downgrade|\n",
      "|            Home|\n",
      "|       Downgrade|\n",
      "|          Logout|\n",
      "|   Save Settings|\n",
      "|           About|\n",
      "|        Settings|\n",
      "|           Login|\n",
      "|        NextSong|\n",
      "|            Help|\n",
      "|         Upgrade|\n",
      "|           Error|\n",
      "|  Submit Upgrade|\n",
      "+----------------+\n",
      "\n"
     ]
    }
   ],
   "source": [
    "# checking page column  \n",
    "user_log.select(\"page\").dropDuplicates().show()"
   ]
  },
  {
   "cell_type": "code",
   "execution_count": 42,
   "id": "bdacc621",
   "metadata": {},
   "outputs": [
    {
     "name": "stdout",
     "output_type": "stream",
     "text": [
      "+------+---------+---------+------+-------------+--------+------+-----+--------------------+------+----------------+-------------+---------+----+------+-------------+--------------------+------+----+\n",
      "|artist|     auth|firstName|gender|itemInSession|lastName|length|level|            location|method|            page| registration|sessionId|song|status|           ts|           userAgent|userId|hour|\n",
      "+------+---------+---------+------+-------------+--------+------+-----+--------------------+------+----------------+-------------+---------+----+------+-------------+--------------------+------+----+\n",
      "|  null|Logged In|    Kelly|     F|           24|  Newton|  null| paid|Houston-The Woodl...|   PUT|Submit Downgrade|1513283366284|     5931|null|   307|1513768454284|Mozilla/5.0 (Wind...|  1138|  20|\n",
      "+------+---------+---------+------+-------------+--------+------+-----+--------------------+------+----------------+-------------+---------+----+------+-------------+--------------------+------+----+\n",
      "\n"
     ]
    }
   ],
   "source": [
    "# checking \"page\" == Submit downgrade\n",
    "user_log_valid.filter(\"page = 'Submit Downgrade'\").show()"
   ]
  },
  {
   "cell_type": "code",
   "execution_count": 43,
   "id": "5e383041",
   "metadata": {},
   "outputs": [
    {
     "data": {
      "text/plain": [
       "[Row(userId='1138', firstname='Kelly', page='Home', level='paid', song=None),\n",
       " Row(userId='1138', firstname='Kelly', page='NextSong', level='paid', song='Everybody Everybody'),\n",
       " Row(userId='1138', firstname='Kelly', page='NextSong', level='paid', song='Gears'),\n",
       " Row(userId='1138', firstname='Kelly', page='NextSong', level='paid', song='Use Somebody'),\n",
       " Row(userId='1138', firstname='Kelly', page='NextSong', level='paid', song='Love Of My Life (1993 Digital Remaster)'),\n",
       " Row(userId='1138', firstname='Kelly', page='NextSong', level='paid', song='Down In The Valley Woe'),\n",
       " Row(userId='1138', firstname='Kelly', page='NextSong', level='paid', song='Treat Her Like A Lady'),\n",
       " Row(userId='1138', firstname='Kelly', page='NextSong', level='paid', song=\"Everybody Thinks You're An Angel\"),\n",
       " Row(userId='1138', firstname='Kelly', page='NextSong', level='paid', song='Fourteen Wives'),\n",
       " Row(userId='1138', firstname='Kelly', page='NextSong', level='paid', song='Love On The Rocks'),\n",
       " Row(userId='1138', firstname='Kelly', page='NextSong', level='paid', song='Breakeven'),\n",
       " Row(userId='1138', firstname='Kelly', page='NextSong', level='paid', song='Leaf House'),\n",
       " Row(userId='1138', firstname='Kelly', page='NextSong', level='paid', song='NAISEN KANSSA'),\n",
       " Row(userId='1138', firstname='Kelly', page='NextSong', level='paid', song=\"You're In My Heart\"),\n",
       " Row(userId='1138', firstname='Kelly', page='NextSong', level='paid', song='Roll On Down The Highway'),\n",
       " Row(userId='1138', firstname='Kelly', page='NextSong', level='paid', song='Plasticities (Remix)'),\n",
       " Row(userId='1138', firstname='Kelly', page='NextSong', level='paid', song='Secrets'),\n",
       " Row(userId='1138', firstname='Kelly', page='NextSong', level='paid', song='Hello'),\n",
       " Row(userId='1138', firstname='Kelly', page='NextSong', level='paid', song='I Never Told You'),\n",
       " Row(userId='1138', firstname='Kelly', page='NextSong', level='paid', song='Love Break Me'),\n",
       " Row(userId='1138', firstname='Kelly', page='NextSong', level='paid', song='One Touch One Bounce'),\n",
       " Row(userId='1138', firstname='Kelly', page='NextSong', level='paid', song='Undo'),\n",
       " Row(userId='1138', firstname='Kelly', page='NextSong', level='paid', song='Overdue (Blackbeard Remix)'),\n",
       " Row(userId='1138', firstname='Kelly', page='NextSong', level='paid', song='Slave To Love (1999 Digital Remaster)'),\n",
       " Row(userId='1138', firstname='Kelly', page='NextSong', level='paid', song='Stronger'),\n",
       " Row(userId='1138', firstname='Kelly', page='NextSong', level='paid', song='All Of Us (Album Version)'),\n",
       " Row(userId='1138', firstname='Kelly', page='NextSong', level='paid', song='Sehr kosmisch'),\n",
       " Row(userId='1138', firstname='Kelly', page='NextSong', level='paid', song='March Of The Celts'),\n",
       " Row(userId='1138', firstname='Kelly', page='NextSong', level='paid', song='Electricity'),\n",
       " Row(userId='1138', firstname='Kelly', page='NextSong', level='paid', song='Aces High'),\n",
       " Row(userId='1138', firstname='Kelly', page='NextSong', level='paid', song='Bananeira'),\n",
       " Row(userId='1138', firstname='Kelly', page='NextSong', level='paid', song='The General'),\n",
       " Row(userId='1138', firstname='Kelly', page='NextSong', level='paid', song='HÃ\\x83Â©roe De Leyenda (VersiÃ\\x83Â³n Maxi)'),\n",
       " Row(userId='1138', firstname='Kelly', page='NextSong', level='paid', song=\"Don't Stop The Music\"),\n",
       " Row(userId='1138', firstname='Kelly', page='NextSong', level='paid', song=\"You're The One\"),\n",
       " Row(userId='1138', firstname='Kelly', page='NextSong', level='paid', song='Entering White Cecilia'),\n",
       " Row(userId='1138', firstname='Kelly', page='NextSong', level='paid', song='Piccolo Cesare'),\n",
       " Row(userId='1138', firstname='Kelly', page='Help', level='paid', song=None),\n",
       " Row(userId='1138', firstname='Kelly', page='NextSong', level='paid', song='Last Christmas (Album Version)'),\n",
       " Row(userId='1138', firstname='Kelly', page='NextSong', level='paid', song='You Shook Me'),\n",
       " Row(userId='1138', firstname='Kelly', page='NextSong', level='paid', song='Going Steady'),\n",
       " Row(userId='1138', firstname='Kelly', page='NextSong', level='paid', song='My Name Is'),\n",
       " Row(userId='1138', firstname='Kelly', page='NextSong', level='paid', song='Undo'),\n",
       " Row(userId='1138', firstname='Kelly', page='NextSong', level='paid', song='Secrets'),\n",
       " Row(userId='1138', firstname='Kelly', page='NextSong', level='paid', song='Good Times Gone (Album Version)'),\n",
       " Row(userId='1138', firstname='Kelly', page='NextSong', level='paid', song='Angelito'),\n",
       " Row(userId='1138', firstname='Kelly', page='NextSong', level='paid', song='Batdance ( LP Version )'),\n",
       " Row(userId='1138', firstname='Kelly', page='Home', level='paid', song=None),\n",
       " Row(userId='1138', firstname='Kelly', page='NextSong', level='paid', song='DiÃ\\x83Â¡kdal'),\n",
       " Row(userId='1138', firstname='Kelly', page='NextSong', level='paid', song='Whirring'),\n",
       " Row(userId='1138', firstname='Kelly', page='NextSong', level='paid', song='Potholderz (feat. Count Bass D)'),\n",
       " Row(userId='1138', firstname='Kelly', page='NextSong', level='paid', song='Seaside'),\n",
       " Row(userId='1138', firstname='Kelly', page='NextSong', level='paid', song='Louder Than A Bomb'),\n",
       " Row(userId='1138', firstname='Kelly', page='NextSong', level='paid', song='Just Like You'),\n",
       " Row(userId='1138', firstname='Kelly', page='NextSong', level='paid', song=\"You're The One\"),\n",
       " Row(userId='1138', firstname='Kelly', page='NextSong', level='paid', song='Turn It Again (Album Version)'),\n",
       " Row(userId='1138', firstname='Kelly', page='NextSong', level='paid', song='Everywhere I Go'),\n",
       " Row(userId='1138', firstname='Kelly', page='NextSong', level='paid', song=\"Easy Skankin'\"),\n",
       " Row(userId='1138', firstname='Kelly', page='NextSong', level='paid', song='Roses'),\n",
       " Row(userId='1138', firstname='Kelly', page='NextSong', level='paid', song='Killing Me Softly With His Song'),\n",
       " Row(userId='1138', firstname='Kelly', page='NextSong', level='paid', song='The Razor (Album Version)'),\n",
       " Row(userId='1138', firstname='Kelly', page='NextSong', level='paid', song='Idols and Anchors'),\n",
       " Row(userId='1138', firstname='Kelly', page='Downgrade', level='paid', song=None),\n",
       " Row(userId='1138', firstname='Kelly', page='Submit Downgrade', level='paid', song=None),\n",
       " Row(userId='1138', firstname='Kelly', page='Home', level='free', song=None),\n",
       " Row(userId='1138', firstname='Kelly', page='NextSong', level='free', song='Bones'),\n",
       " Row(userId='1138', firstname='Kelly', page='Home', level='free', song=None),\n",
       " Row(userId='1138', firstname='Kelly', page='NextSong', level='free', song='Grenouilles Mantidactylus (Small Frogs)')]"
      ]
     },
     "execution_count": 43,
     "metadata": {},
     "output_type": "execute_result"
    }
   ],
   "source": [
    "# checking userId == 1138\n",
    "user_log.select([\"userId\",\"firstname\",\"page\",\"level\",\"song\"])\\\n",
    "    .where(user_log.userId == \"1138\").collect()"
   ]
  },
  {
   "cell_type": "code",
   "execution_count": 44,
   "id": "5b1a42cc",
   "metadata": {},
   "outputs": [],
   "source": [
    "# create function to make column to distinguish submit downgrade status \n",
    "flag_downgrade_event = udf(lambda x: 1 if x== \"Submit Downgrade\" else 0, IntegerType())"
   ]
  },
  {
   "cell_type": "code",
   "execution_count": 45,
   "id": "f76b4feb",
   "metadata": {},
   "outputs": [],
   "source": [
    "user_log_valid = user_log_valid.withColumn(\"downgraded\",flag_downgrade_event(\"page\"))"
   ]
  },
  {
   "cell_type": "code",
   "execution_count": 46,
   "id": "a6e6eafe",
   "metadata": {},
   "outputs": [
    {
     "data": {
      "text/plain": [
       "Row(artist='Showaddywaddy', auth='Logged In', firstName='Kenneth', gender='M', itemInSession=112, lastName='Matthews', length=232.93342, level='paid', location='Charlotte-Concord-Gastonia, NC-SC', method='PUT', page='NextSong', registration=1509380319284, sessionId=5132, song='Christmas Tears Will Fall', status=200, ts=1513720872284, userAgent='\"Mozilla/5.0 (Windows NT 6.1) AppleWebKit/537.36 (KHTML, like Gecko) Chrome/36.0.1985.125 Safari/537.36\"', userId='1046', hour='7', downgraded=0)"
      ]
     },
     "execution_count": 46,
     "metadata": {},
     "output_type": "execute_result"
    }
   ],
   "source": [
    "user_log_valid.head()"
   ]
  },
  {
   "cell_type": "code",
   "execution_count": 47,
   "id": "75b57b08",
   "metadata": {},
   "outputs": [],
   "source": [
    "from pyspark.sql import Window"
   ]
  },
  {
   "cell_type": "code",
   "execution_count": 53,
   "id": "e2179c55",
   "metadata": {},
   "outputs": [],
   "source": [
    "windowval = Window.partitionBy(\"userId\").orderBy(desc(\"ts\")).rangeBetween(Window.unboundedPreceding, 0)"
   ]
  },
  {
   "cell_type": "code",
   "execution_count": 54,
   "id": "df1ffcec",
   "metadata": {},
   "outputs": [],
   "source": [
    "user_log_valid = user_log_valid.withColumn(\"phase\",Fsum(\"downgraded\").over(windowval))"
   ]
  },
  {
   "cell_type": "code",
   "execution_count": 55,
   "id": "17705089",
   "metadata": {},
   "outputs": [
    {
     "data": {
      "text/plain": [
       "[Row(userId='1138', firstname='Kelly', ts=1513729066284, page='Home', level='paid', phase=1),\n",
       " Row(userId='1138', firstname='Kelly', ts=1513729066284, page='NextSong', level='paid', phase=1),\n",
       " Row(userId='1138', firstname='Kelly', ts=1513729313284, page='NextSong', level='paid', phase=1),\n",
       " Row(userId='1138', firstname='Kelly', ts=1513729552284, page='NextSong', level='paid', phase=1),\n",
       " Row(userId='1138', firstname='Kelly', ts=1513729783284, page='NextSong', level='paid', phase=1),\n",
       " Row(userId='1138', firstname='Kelly', ts=1513730001284, page='NextSong', level='paid', phase=1),\n",
       " Row(userId='1138', firstname='Kelly', ts=1513730263284, page='NextSong', level='paid', phase=1),\n",
       " Row(userId='1138', firstname='Kelly', ts=1513730518284, page='NextSong', level='paid', phase=1),\n",
       " Row(userId='1138', firstname='Kelly', ts=1513730768284, page='NextSong', level='paid', phase=1),\n",
       " Row(userId='1138', firstname='Kelly', ts=1513731182284, page='NextSong', level='paid', phase=1),\n",
       " Row(userId='1138', firstname='Kelly', ts=1513731435284, page='NextSong', level='paid', phase=1),\n",
       " Row(userId='1138', firstname='Kelly', ts=1513731695284, page='NextSong', level='paid', phase=1),\n",
       " Row(userId='1138', firstname='Kelly', ts=1513731857284, page='NextSong', level='paid', phase=1),\n",
       " Row(userId='1138', firstname='Kelly', ts=1513732160284, page='NextSong', level='paid', phase=1),\n",
       " Row(userId='1138', firstname='Kelly', ts=1513732302284, page='NextSong', level='paid', phase=1),\n",
       " Row(userId='1138', firstname='Kelly', ts=1513732540284, page='NextSong', level='paid', phase=1),\n",
       " Row(userId='1138', firstname='Kelly', ts=1513732770284, page='NextSong', level='paid', phase=1),\n",
       " Row(userId='1138', firstname='Kelly', ts=1513732994284, page='NextSong', level='paid', phase=1),\n",
       " Row(userId='1138', firstname='Kelly', ts=1513733223284, page='NextSong', level='paid', phase=1),\n",
       " Row(userId='1138', firstname='Kelly', ts=1513733456284, page='NextSong', level='paid', phase=1),\n",
       " Row(userId='1138', firstname='Kelly', ts=1513733738284, page='NextSong', level='paid', phase=1),\n",
       " Row(userId='1138', firstname='Kelly', ts=1513733941284, page='NextSong', level='paid', phase=1),\n",
       " Row(userId='1138', firstname='Kelly', ts=1513734289284, page='NextSong', level='paid', phase=1),\n",
       " Row(userId='1138', firstname='Kelly', ts=1513734598284, page='NextSong', level='paid', phase=1),\n",
       " Row(userId='1138', firstname='Kelly', ts=1513734863284, page='NextSong', level='paid', phase=1),\n",
       " Row(userId='1138', firstname='Kelly', ts=1513735174284, page='NextSong', level='paid', phase=1),\n",
       " Row(userId='1138', firstname='Kelly', ts=1513735385284, page='NextSong', level='paid', phase=1),\n",
       " Row(userId='1138', firstname='Kelly', ts=1513736040284, page='NextSong', level='paid', phase=1),\n",
       " Row(userId='1138', firstname='Kelly', ts=1513736237284, page='NextSong', level='paid', phase=1),\n",
       " Row(userId='1138', firstname='Kelly', ts=1513736446284, page='NextSong', level='paid', phase=1),\n",
       " Row(userId='1138', firstname='Kelly', ts=1513736709284, page='NextSong', level='paid', phase=1),\n",
       " Row(userId='1138', firstname='Kelly', ts=1513736915284, page='NextSong', level='paid', phase=1),\n",
       " Row(userId='1138', firstname='Kelly', ts=1513737160284, page='NextSong', level='paid', phase=1),\n",
       " Row(userId='1138', firstname='Kelly', ts=1513737460284, page='NextSong', level='paid', phase=1),\n",
       " Row(userId='1138', firstname='Kelly', ts=1513737728284, page='NextSong', level='paid', phase=1),\n",
       " Row(userId='1138', firstname='Kelly', ts=1513737936284, page='NextSong', level='paid', phase=1),\n",
       " Row(userId='1138', firstname='Kelly', ts=1513738144284, page='NextSong', level='paid', phase=1),\n",
       " Row(userId='1138', firstname='Kelly', ts=1513738197284, page='Help', level='paid', phase=1),\n",
       " Row(userId='1138', firstname='Kelly', ts=1513738432284, page='NextSong', level='paid', phase=1),\n",
       " Row(userId='1138', firstname='Kelly', ts=1513763195284, page='NextSong', level='paid', phase=1),\n",
       " Row(userId='1138', firstname='Kelly', ts=1513763453284, page='NextSong', level='paid', phase=1),\n",
       " Row(userId='1138', firstname='Kelly', ts=1513763622284, page='NextSong', level='paid', phase=1),\n",
       " Row(userId='1138', firstname='Kelly', ts=1513763890284, page='NextSong', level='paid', phase=1),\n",
       " Row(userId='1138', firstname='Kelly', ts=1513764238284, page='NextSong', level='paid', phase=1),\n",
       " Row(userId='1138', firstname='Kelly', ts=1513764462284, page='NextSong', level='paid', phase=1),\n",
       " Row(userId='1138', firstname='Kelly', ts=1513764782284, page='NextSong', level='paid', phase=1),\n",
       " Row(userId='1138', firstname='Kelly', ts=1513765075284, page='NextSong', level='paid', phase=1),\n",
       " Row(userId='1138', firstname='Kelly', ts=1513765075284, page='Home', level='paid', phase=1),\n",
       " Row(userId='1138', firstname='Kelly', ts=1513765448284, page='NextSong', level='paid', phase=1),\n",
       " Row(userId='1138', firstname='Kelly', ts=1513765655284, page='NextSong', level='paid', phase=1),\n",
       " Row(userId='1138', firstname='Kelly', ts=1513765818284, page='NextSong', level='paid', phase=1),\n",
       " Row(userId='1138', firstname='Kelly', ts=1513766091284, page='NextSong', level='paid', phase=1),\n",
       " Row(userId='1138', firstname='Kelly', ts=1513766189284, page='NextSong', level='paid', phase=1),\n",
       " Row(userId='1138', firstname='Kelly', ts=1513766385284, page='NextSong', level='paid', phase=1),\n",
       " Row(userId='1138', firstname='Kelly', ts=1513766599284, page='NextSong', level='paid', phase=1),\n",
       " Row(userId='1138', firstname='Kelly', ts=1513766838284, page='NextSong', level='paid', phase=1),\n",
       " Row(userId='1138', firstname='Kelly', ts=1513767203284, page='NextSong', level='paid', phase=1),\n",
       " Row(userId='1138', firstname='Kelly', ts=1513767413284, page='NextSong', level='paid', phase=1),\n",
       " Row(userId='1138', firstname='Kelly', ts=1513767643284, page='NextSong', level='paid', phase=1),\n",
       " Row(userId='1138', firstname='Kelly', ts=1513768012284, page='NextSong', level='paid', phase=1),\n",
       " Row(userId='1138', firstname='Kelly', ts=1513768242284, page='NextSong', level='paid', phase=1),\n",
       " Row(userId='1138', firstname='Kelly', ts=1513768452284, page='NextSong', level='paid', phase=1),\n",
       " Row(userId='1138', firstname='Kelly', ts=1513768453284, page='Downgrade', level='paid', phase=1),\n",
       " Row(userId='1138', firstname='Kelly', ts=1513768454284, page='Submit Downgrade', level='paid', phase=1),\n",
       " Row(userId='1138', firstname='Kelly', ts=1513768456284, page='Home', level='free', phase=0),\n",
       " Row(userId='1138', firstname='Kelly', ts=1513814880284, page='NextSong', level='free', phase=0),\n",
       " Row(userId='1138', firstname='Kelly', ts=1513821430284, page='Home', level='free', phase=0),\n",
       " Row(userId='1138', firstname='Kelly', ts=1513833144284, page='NextSong', level='free', phase=0)]"
      ]
     },
     "execution_count": 55,
     "metadata": {},
     "output_type": "execute_result"
    }
   ],
   "source": [
    "user_log_valid.select([\"userId\",\"firstname\",\"ts\",\"page\",\"level\",\"phase\"]).where(\n",
    "user_log.userId == \"1138\").sort(\"ts\").collect()"
   ]
  },
  {
   "cell_type": "code",
   "execution_count": 59,
   "id": "cc99d928",
   "metadata": {},
   "outputs": [
    {
     "name": "stdout",
     "output_type": "stream",
     "text": [
      "+-----+\n",
      "| page|\n",
      "+-----+\n",
      "|Login|\n",
      "+-----+\n",
      "\n"
     ]
    }
   ],
   "source": [
    "user_log.select(\"page\").dropDuplicates().where(user_log.userId == \"\").show()"
   ]
  },
  {
   "cell_type": "code",
   "execution_count": 60,
   "id": "f196ce94",
   "metadata": {},
   "outputs": [
    {
     "data": {
      "text/plain": [
       "['artist',\n",
       " 'auth',\n",
       " 'firstName',\n",
       " 'gender',\n",
       " 'itemInSession',\n",
       " 'lastName',\n",
       " 'length',\n",
       " 'level',\n",
       " 'location',\n",
       " 'method',\n",
       " 'page',\n",
       " 'registration',\n",
       " 'sessionId',\n",
       " 'song',\n",
       " 'status',\n",
       " 'ts',\n",
       " 'userAgent',\n",
       " 'userId',\n",
       " 'hour']"
      ]
     },
     "execution_count": 60,
     "metadata": {},
     "output_type": "execute_result"
    }
   ],
   "source": [
    "user_log.columns"
   ]
  },
  {
   "cell_type": "code",
   "execution_count": 62,
   "id": "fc596750",
   "metadata": {},
   "outputs": [
    {
     "name": "stdout",
     "output_type": "stream",
     "text": [
      "+------+\n",
      "|gender|\n",
      "+------+\n",
      "|     F|\n",
      "|  null|\n",
      "|     M|\n",
      "+------+\n",
      "\n"
     ]
    }
   ],
   "source": [
    "# checking female user count \n",
    "user_log.select(\"gender\").dropDuplicates().show()"
   ]
  },
  {
   "cell_type": "code",
   "execution_count": 64,
   "id": "fd055581",
   "metadata": {},
   "outputs": [
    {
     "data": {
      "text/plain": [
       "462"
      ]
     },
     "execution_count": 64,
     "metadata": {},
     "output_type": "execute_result"
    }
   ],
   "source": [
    "user_log.select(\"userId\").dropDuplicates().where(user_log.gender == \"F\").count()"
   ]
  },
  {
   "cell_type": "code",
   "execution_count": 65,
   "id": "091d1fe1",
   "metadata": {},
   "outputs": [
    {
     "data": {
      "text/plain": [
       "['artist',\n",
       " 'auth',\n",
       " 'firstName',\n",
       " 'gender',\n",
       " 'itemInSession',\n",
       " 'lastName',\n",
       " 'length',\n",
       " 'level',\n",
       " 'location',\n",
       " 'method',\n",
       " 'page',\n",
       " 'registration',\n",
       " 'sessionId',\n",
       " 'song',\n",
       " 'status',\n",
       " 'ts',\n",
       " 'userAgent',\n",
       " 'userId',\n",
       " 'hour']"
      ]
     },
     "execution_count": 65,
     "metadata": {},
     "output_type": "execute_result"
    }
   ],
   "source": [
    "# how many songs were played from the most played artist?\n",
    "# 1. most played artist \n",
    "# where artist == <most played artist> => select(\"song\").dropduplicates().count()\n",
    "\n",
    "user_log.columns"
   ]
  },
  {
   "cell_type": "code",
   "execution_count": 70,
   "id": "666283c9",
   "metadata": {},
   "outputs": [
    {
     "data": {
      "text/plain": [
       "3618"
      ]
     },
     "execution_count": 70,
     "metadata": {},
     "output_type": "execute_result"
    }
   ],
   "source": [
    "# \"artist\",\"song\"\n",
    "# where or filter + groupby\n",
    "\n",
    "user_log.select(\"artist\").dropDuplicates().count()"
   ]
  },
  {
   "cell_type": "code",
   "execution_count": null,
   "id": "3a63858f",
   "metadata": {},
   "outputs": [],
   "source": [
    "user_log_count = user_log.withColumn"
   ]
  },
  {
   "cell_type": "code",
   "execution_count": 86,
   "id": "872820b6",
   "metadata": {},
   "outputs": [
    {
     "name": "stdout",
     "output_type": "stream",
     "text": [
      "+--------+------------+\n",
      "|  artist|artist_count|\n",
      "+--------+------------+\n",
      "|Coldplay|          83|\n",
      "+--------+------------+\n",
      "only showing top 1 row\n",
      "\n"
     ]
    }
   ],
   "source": [
    "## \n",
    "user_log.filter(user_log.page == \"NextSong\") \\\n",
    "    .select(\"artist\") \\\n",
    "    .groupBy(\"artist\") \\\n",
    "    .agg({\"artist\":\"count\"}) \\\n",
    "    .withColumnRenamed('count(artist)','artist_count') \\\n",
    "    .sort(desc('artist_count')) \\\n",
    "    .show(1)"
   ]
  },
  {
   "cell_type": "markdown",
   "id": "3df97b23",
   "metadata": {},
   "source": [
    "### how many songs do user listen to on average between visiting our home page?"
   ]
  },
  {
   "cell_type": "code",
   "execution_count": 87,
   "id": "020cc304",
   "metadata": {},
   "outputs": [
    {
     "data": {
      "text/plain": [
       "['artist',\n",
       " 'auth',\n",
       " 'firstName',\n",
       " 'gender',\n",
       " 'itemInSession',\n",
       " 'lastName',\n",
       " 'length',\n",
       " 'level',\n",
       " 'location',\n",
       " 'method',\n",
       " 'page',\n",
       " 'registration',\n",
       " 'sessionId',\n",
       " 'song',\n",
       " 'status',\n",
       " 'ts',\n",
       " 'userAgent',\n",
       " 'userId',\n",
       " 'hour']"
      ]
     },
     "execution_count": 87,
     "metadata": {},
     "output_type": "execute_result"
    }
   ],
   "source": [
    "user_log.columns"
   ]
  },
  {
   "cell_type": "code",
   "execution_count": 89,
   "id": "4b5c236d",
   "metadata": {},
   "outputs": [],
   "source": [
    "# function ishome 1 or 0 \n",
    "func_ishome = udf(lambda ishome : int(ishome == \"Home\"), IntegerType())"
   ]
  },
  {
   "cell_type": "code",
   "execution_count": 90,
   "id": "b1a60102",
   "metadata": {},
   "outputs": [],
   "source": [
    "# user window \n",
    "user_window = Window \\\n",
    "    .partitionBy(\"userID\")\\\n",
    "    .orderBy(desc('ts'))"
   ]
  },
  {
   "cell_type": "code",
   "execution_count": 129,
   "id": "001450de",
   "metadata": {},
   "outputs": [],
   "source": [
    "cusum = user_log.filter((user_log.page == 'NextSong') | (user_log.page == 'Home'))\\\n",
    "    .select(\"userID\",\"page\",\"ts\") \\\n",
    "    .withColumn(\"homevisit\",func_ishome(user_log.page)) \\\n",
    "    .withColumn(\"period\", Fsum(\"homevisit\").over(user_window))"
   ]
  },
  {
   "cell_type": "code",
   "execution_count": 132,
   "id": "9d1827ab",
   "metadata": {},
   "outputs": [
    {
     "name": "stdout",
     "output_type": "stream",
     "text": [
      "+------------------+\n",
      "|avg(count(period))|\n",
      "+------------------+\n",
      "| 6.898347107438017|\n",
      "+------------------+\n",
      "\n"
     ]
    }
   ],
   "source": [
    "# get avg \n",
    "cusum.filter((cusum.page == 'NextSong')) \\\n",
    "    .groupBy(\"userID\",\"period\") \\\n",
    "    .agg({\"period\":\"count\"}) \\\n",
    "    .agg({\"count(period)\":\"avg\"}).show()"
   ]
  },
  {
   "cell_type": "code",
   "execution_count": null,
   "id": "b2fd298e",
   "metadata": {},
   "outputs": [],
   "source": []
  },
  {
   "cell_type": "code",
   "execution_count": null,
   "id": "f2c7ccfb",
   "metadata": {},
   "outputs": [],
   "source": []
  },
  {
   "cell_type": "code",
   "execution_count": null,
   "id": "1f6cb79c",
   "metadata": {},
   "outputs": [],
   "source": []
  },
  {
   "cell_type": "code",
   "execution_count": null,
   "id": "1daeecdf",
   "metadata": {},
   "outputs": [],
   "source": []
  },
  {
   "cell_type": "code",
   "execution_count": null,
   "id": "428bb03e",
   "metadata": {},
   "outputs": [],
   "source": []
  },
  {
   "cell_type": "code",
   "execution_count": null,
   "id": "686b8e78",
   "metadata": {},
   "outputs": [],
   "source": []
  },
  {
   "cell_type": "code",
   "execution_count": null,
   "id": "31053bf0",
   "metadata": {},
   "outputs": [],
   "source": []
  },
  {
   "cell_type": "code",
   "execution_count": null,
   "id": "211f27ab",
   "metadata": {},
   "outputs": [],
   "source": []
  },
  {
   "cell_type": "code",
   "execution_count": 92,
   "id": "29464e63",
   "metadata": {},
   "outputs": [
    {
     "data": {
      "text/plain": [
       "[Row(userID='', page='Home', ts=1513846494284, homevisit=1, period=1),\n",
       " Row(userID='', page='Home', ts=1513845761284, homevisit=1, period=2),\n",
       " Row(userID='', page='Home', ts=1513845132284, homevisit=1, period=3),\n",
       " Row(userID='', page='Home', ts=1513845055284, homevisit=1, period=4),\n",
       " Row(userID='', page='Home', ts=1513844251284, homevisit=1, period=5),\n",
       " Row(userID='', page='Home', ts=1513844026284, homevisit=1, period=6),\n",
       " Row(userID='', page='Home', ts=1513843602284, homevisit=1, period=7),\n",
       " Row(userID='', page='Home', ts=1513843098284, homevisit=1, period=8),\n",
       " Row(userID='', page='Home', ts=1513842367284, homevisit=1, period=9),\n",
       " Row(userID='', page='Home', ts=1513841138284, homevisit=1, period=10),\n",
       " Row(userID='', page='Home', ts=1513841121284, homevisit=1, period=11),\n",
       " Row(userID='', page='Home', ts=1513839824284, homevisit=1, period=12),\n",
       " Row(userID='', page='Home', ts=1513838865284, homevisit=1, period=13),\n",
       " Row(userID='', page='Home', ts=1513838857284, homevisit=1, period=14),\n",
       " Row(userID='', page='Home', ts=1513838835284, homevisit=1, period=15),\n",
       " Row(userID='', page='Home', ts=1513838141284, homevisit=1, period=16),\n",
       " Row(userID='', page='Home', ts=1513838110284, homevisit=1, period=17),\n",
       " Row(userID='', page='Home', ts=1513836104284, homevisit=1, period=18),\n",
       " Row(userID='', page='Home', ts=1513835948284, homevisit=1, period=19),\n",
       " Row(userID='', page='Home', ts=1513835945284, homevisit=1, period=20),\n",
       " Row(userID='', page='Home', ts=1513835587284, homevisit=1, period=21),\n",
       " Row(userID='', page='Home', ts=1513834216284, homevisit=1, period=22),\n",
       " Row(userID='', page='Home', ts=1513832509284, homevisit=1, period=23),\n",
       " Row(userID='', page='Home', ts=1513831850284, homevisit=1, period=24),\n",
       " Row(userID='', page='Home', ts=1513831714284, homevisit=1, period=25),\n",
       " Row(userID='', page='Home', ts=1513831585284, homevisit=1, period=26),\n",
       " Row(userID='', page='Home', ts=1513830655284, homevisit=1, period=27),\n",
       " Row(userID='', page='Home', ts=1513830380284, homevisit=1, period=28),\n",
       " Row(userID='', page='Home', ts=1513829956284, homevisit=1, period=29),\n",
       " Row(userID='', page='Home', ts=1513829767284, homevisit=1, period=30),\n",
       " Row(userID='', page='Home', ts=1513827843284, homevisit=1, period=31),\n",
       " Row(userID='', page='Home', ts=1513824819284, homevisit=1, period=32),\n",
       " Row(userID='', page='Home', ts=1513822243284, homevisit=1, period=33),\n",
       " Row(userID='', page='Home', ts=1513821606284, homevisit=1, period=34),\n",
       " Row(userID='', page='Home', ts=1513820683284, homevisit=1, period=35),\n",
       " Row(userID='', page='Home', ts=1513820259284, homevisit=1, period=36),\n",
       " Row(userID='', page='Home', ts=1513819932284, homevisit=1, period=37),\n",
       " Row(userID='', page='Home', ts=1513818200284, homevisit=1, period=38),\n",
       " Row(userID='', page='Home', ts=1513818158284, homevisit=1, period=39),\n",
       " Row(userID='', page='Home', ts=1513818069284, homevisit=1, period=40),\n",
       " Row(userID='', page='Home', ts=1513817608284, homevisit=1, period=41),\n",
       " Row(userID='', page='Home', ts=1513817372284, homevisit=1, period=42),\n",
       " Row(userID='', page='Home', ts=1513817216284, homevisit=1, period=43),\n",
       " Row(userID='', page='Home', ts=1513817057284, homevisit=1, period=44),\n",
       " Row(userID='', page='Home', ts=1513815104284, homevisit=1, period=45),\n",
       " Row(userID='', page='Home', ts=1513815100284, homevisit=1, period=46),\n",
       " Row(userID='', page='Home', ts=1513814961284, homevisit=1, period=47),\n",
       " Row(userID='', page='Home', ts=1513814246284, homevisit=1, period=48),\n",
       " Row(userID='', page='Home', ts=1513813017284, homevisit=1, period=49),\n",
       " Row(userID='', page='Home', ts=1513811493284, homevisit=1, period=50),\n",
       " Row(userID='', page='Home', ts=1513811017284, homevisit=1, period=51),\n",
       " Row(userID='', page='Home', ts=1513809385284, homevisit=1, period=52),\n",
       " Row(userID='', page='Home', ts=1513807415284, homevisit=1, period=53),\n",
       " Row(userID='', page='Home', ts=1513807378284, homevisit=1, period=54),\n",
       " Row(userID='', page='Home', ts=1513807374284, homevisit=1, period=55),\n",
       " Row(userID='', page='Home', ts=1513806562284, homevisit=1, period=56),\n",
       " Row(userID='', page='Home', ts=1513805351284, homevisit=1, period=57),\n",
       " Row(userID='', page='Home', ts=1513805041284, homevisit=1, period=58),\n",
       " Row(userID='', page='Home', ts=1513802534284, homevisit=1, period=59),\n",
       " Row(userID='', page='Home', ts=1513800849284, homevisit=1, period=60),\n",
       " Row(userID='', page='Home', ts=1513799950284, homevisit=1, period=61),\n",
       " Row(userID='', page='Home', ts=1513799226284, homevisit=1, period=62),\n",
       " Row(userID='', page='Home', ts=1513798398284, homevisit=1, period=63),\n",
       " Row(userID='', page='Home', ts=1513797083284, homevisit=1, period=64),\n",
       " Row(userID='', page='Home', ts=1513795174284, homevisit=1, period=65),\n",
       " Row(userID='', page='Home', ts=1513794895284, homevisit=1, period=66),\n",
       " Row(userID='', page='Home', ts=1513794548284, homevisit=1, period=67),\n",
       " Row(userID='', page='Home', ts=1513792808284, homevisit=1, period=68),\n",
       " Row(userID='', page='Home', ts=1513792774284, homevisit=1, period=69),\n",
       " Row(userID='', page='Home', ts=1513792628284, homevisit=1, period=70),\n",
       " Row(userID='', page='Home', ts=1513792338284, homevisit=1, period=71),\n",
       " Row(userID='', page='Home', ts=1513791898284, homevisit=1, period=72),\n",
       " Row(userID='', page='Home', ts=1513790743284, homevisit=1, period=73),\n",
       " Row(userID='', page='Home', ts=1513790254284, homevisit=1, period=74),\n",
       " Row(userID='', page='Home', ts=1513790242284, homevisit=1, period=75),\n",
       " Row(userID='', page='Home', ts=1513789890284, homevisit=1, period=76),\n",
       " Row(userID='', page='Home', ts=1513789276284, homevisit=1, period=77),\n",
       " Row(userID='', page='Home', ts=1513789234284, homevisit=1, period=78),\n",
       " Row(userID='', page='Home', ts=1513787991284, homevisit=1, period=79),\n",
       " Row(userID='', page='Home', ts=1513787722284, homevisit=1, period=80),\n",
       " Row(userID='', page='Home', ts=1513787306284, homevisit=1, period=81),\n",
       " Row(userID='', page='Home', ts=1513786862284, homevisit=1, period=82),\n",
       " Row(userID='', page='Home', ts=1513786854284, homevisit=1, period=83),\n",
       " Row(userID='', page='Home', ts=1513786713284, homevisit=1, period=84),\n",
       " Row(userID='', page='Home', ts=1513786568284, homevisit=1, period=85),\n",
       " Row(userID='', page='Home', ts=1513786150284, homevisit=1, period=86),\n",
       " Row(userID='', page='Home', ts=1513785743284, homevisit=1, period=87),\n",
       " Row(userID='', page='Home', ts=1513785591284, homevisit=1, period=88),\n",
       " Row(userID='', page='Home', ts=1513785061284, homevisit=1, period=89),\n",
       " Row(userID='', page='Home', ts=1513784902284, homevisit=1, period=90),\n",
       " Row(userID='', page='Home', ts=1513784558284, homevisit=1, period=91),\n",
       " Row(userID='', page='Home', ts=1513784350284, homevisit=1, period=92),\n",
       " Row(userID='', page='Home', ts=1513784144284, homevisit=1, period=93),\n",
       " Row(userID='', page='Home', ts=1513783285284, homevisit=1, period=94),\n",
       " Row(userID='', page='Home', ts=1513782378284, homevisit=1, period=95),\n",
       " Row(userID='', page='Home', ts=1513781616284, homevisit=1, period=96),\n",
       " Row(userID='', page='Home', ts=1513781126284, homevisit=1, period=97),\n",
       " Row(userID='', page='Home', ts=1513781058284, homevisit=1, period=98),\n",
       " Row(userID='', page='Home', ts=1513781039284, homevisit=1, period=99),\n",
       " Row(userID='', page='Home', ts=1513781022284, homevisit=1, period=100),\n",
       " Row(userID='', page='Home', ts=1513780922284, homevisit=1, period=101),\n",
       " Row(userID='', page='Home', ts=1513780764284, homevisit=1, period=102),\n",
       " Row(userID='', page='Home', ts=1513780570284, homevisit=1, period=103),\n",
       " Row(userID='', page='Home', ts=1513780420284, homevisit=1, period=104),\n",
       " Row(userID='', page='Home', ts=1513780261284, homevisit=1, period=105),\n",
       " Row(userID='', page='Home', ts=1513780092284, homevisit=1, period=106),\n",
       " Row(userID='', page='Home', ts=1513779933284, homevisit=1, period=107),\n",
       " Row(userID='', page='Home', ts=1513779863284, homevisit=1, period=108),\n",
       " Row(userID='', page='Home', ts=1513779748284, homevisit=1, period=109),\n",
       " Row(userID='', page='Home', ts=1513779396284, homevisit=1, period=110),\n",
       " Row(userID='', page='Home', ts=1513778431284, homevisit=1, period=111),\n",
       " Row(userID='', page='Home', ts=1513778395284, homevisit=1, period=112),\n",
       " Row(userID='', page='Home', ts=1513778146284, homevisit=1, period=113),\n",
       " Row(userID='', page='Home', ts=1513777617284, homevisit=1, period=114),\n",
       " Row(userID='', page='Home', ts=1513777486284, homevisit=1, period=115),\n",
       " Row(userID='', page='Home', ts=1513777279284, homevisit=1, period=116),\n",
       " Row(userID='', page='Home', ts=1513776651284, homevisit=1, period=117),\n",
       " Row(userID='', page='Home', ts=1513776079284, homevisit=1, period=118),\n",
       " Row(userID='', page='Home', ts=1513775942284, homevisit=1, period=119),\n",
       " Row(userID='', page='Home', ts=1513775858284, homevisit=1, period=120),\n",
       " Row(userID='', page='Home', ts=1513775364284, homevisit=1, period=121),\n",
       " Row(userID='', page='Home', ts=1513775164284, homevisit=1, period=122),\n",
       " Row(userID='', page='Home', ts=1513775108284, homevisit=1, period=123),\n",
       " Row(userID='', page='Home', ts=1513775107284, homevisit=1, period=124),\n",
       " Row(userID='', page='Home', ts=1513774089284, homevisit=1, period=125),\n",
       " Row(userID='', page='Home', ts=1513772841284, homevisit=1, period=126),\n",
       " Row(userID='', page='Home', ts=1513771072284, homevisit=1, period=127),\n",
       " Row(userID='', page='Home', ts=1513771013284, homevisit=1, period=128),\n",
       " Row(userID='', page='Home', ts=1513770563284, homevisit=1, period=129),\n",
       " Row(userID='', page='Home', ts=1513770311284, homevisit=1, period=130),\n",
       " Row(userID='', page='Home', ts=1513769591284, homevisit=1, period=131),\n",
       " Row(userID='', page='Home', ts=1513767000284, homevisit=1, period=132),\n",
       " Row(userID='', page='Home', ts=1513766304284, homevisit=1, period=133),\n",
       " Row(userID='', page='Home', ts=1513764939284, homevisit=1, period=134),\n",
       " Row(userID='', page='Home', ts=1513764513284, homevisit=1, period=135),\n",
       " Row(userID='', page='Home', ts=1513764034284, homevisit=1, period=136),\n",
       " Row(userID='', page='Home', ts=1513763741284, homevisit=1, period=137),\n",
       " Row(userID='', page='Home', ts=1513763662284, homevisit=1, period=138),\n",
       " Row(userID='', page='Home', ts=1513763025284, homevisit=1, period=139),\n",
       " Row(userID='', page='Home', ts=1513762196284, homevisit=1, period=140),\n",
       " Row(userID='', page='Home', ts=1513760813284, homevisit=1, period=141),\n",
       " Row(userID='', page='Home', ts=1513760099284, homevisit=1, period=142),\n",
       " Row(userID='', page='Home', ts=1513758729284, homevisit=1, period=143),\n",
       " Row(userID='', page='Home', ts=1513757790284, homevisit=1, period=144),\n",
       " Row(userID='', page='Home', ts=1513757589284, homevisit=1, period=145),\n",
       " Row(userID='', page='Home', ts=1513751450284, homevisit=1, period=146),\n",
       " Row(userID='', page='Home', ts=1513751311284, homevisit=1, period=147),\n",
       " Row(userID='', page='Home', ts=1513751234284, homevisit=1, period=148),\n",
       " Row(userID='', page='Home', ts=1513750875284, homevisit=1, period=149),\n",
       " Row(userID='', page='Home', ts=1513750618284, homevisit=1, period=150),\n",
       " Row(userID='', page='Home', ts=1513748217284, homevisit=1, period=151),\n",
       " Row(userID='', page='Home', ts=1513747529284, homevisit=1, period=152),\n",
       " Row(userID='', page='Home', ts=1513747001284, homevisit=1, period=153),\n",
       " Row(userID='', page='Home', ts=1513746674284, homevisit=1, period=154),\n",
       " Row(userID='', page='Home', ts=1513746594284, homevisit=1, period=155),\n",
       " Row(userID='', page='Home', ts=1513746544284, homevisit=1, period=156),\n",
       " Row(userID='', page='Home', ts=1513746353284, homevisit=1, period=157),\n",
       " Row(userID='', page='Home', ts=1513746331284, homevisit=1, period=158),\n",
       " Row(userID='', page='Home', ts=1513746313284, homevisit=1, period=159),\n",
       " Row(userID='', page='Home', ts=1513745727284, homevisit=1, period=160),\n",
       " Row(userID='', page='Home', ts=1513745516284, homevisit=1, period=161),\n",
       " Row(userID='', page='Home', ts=1513743807284, homevisit=1, period=162),\n",
       " Row(userID='', page='Home', ts=1513742804284, homevisit=1, period=163),\n",
       " Row(userID='', page='Home', ts=1513742458284, homevisit=1, period=164),\n",
       " Row(userID='', page='Home', ts=1513742384284, homevisit=1, period=165),\n",
       " Row(userID='', page='Home', ts=1513741997284, homevisit=1, period=166),\n",
       " Row(userID='', page='Home', ts=1513738847284, homevisit=1, period=167),\n",
       " Row(userID='', page='Home', ts=1513737804284, homevisit=1, period=168),\n",
       " Row(userID='', page='Home', ts=1513736560284, homevisit=1, period=169),\n",
       " Row(userID='', page='Home', ts=1513736082284, homevisit=1, period=170),\n",
       " Row(userID='', page='Home', ts=1513735959284, homevisit=1, period=171),\n",
       " Row(userID='', page='Home', ts=1513734883284, homevisit=1, period=172),\n",
       " Row(userID='', page='Home', ts=1513733637284, homevisit=1, period=173),\n",
       " Row(userID='', page='Home', ts=1513731834284, homevisit=1, period=174),\n",
       " Row(userID='', page='Home', ts=1513731277284, homevisit=1, period=175),\n",
       " Row(userID='', page='Home', ts=1513731045284, homevisit=1, period=176),\n",
       " Row(userID='', page='Home', ts=1513730953284, homevisit=1, period=177),\n",
       " Row(userID='', page='Home', ts=1513730621284, homevisit=1, period=178),\n",
       " Row(userID='', page='Home', ts=1513730128284, homevisit=1, period=179),\n",
       " Row(userID='', page='Home', ts=1513729762284, homevisit=1, period=180),\n",
       " Row(userID='', page='Home', ts=1513729376284, homevisit=1, period=181),\n",
       " Row(userID='', page='Home', ts=1513729051284, homevisit=1, period=182),\n",
       " Row(userID='', page='Home', ts=1513724530284, homevisit=1, period=183),\n",
       " Row(userID='', page='Home', ts=1513724475284, homevisit=1, period=184),\n",
       " Row(userID='', page='Home', ts=1513723183284, homevisit=1, period=185),\n",
       " Row(userID='', page='Home', ts=1513722009284, homevisit=1, period=186),\n",
       " Row(userID='', page='Home', ts=1513721274284, homevisit=1, period=187),\n",
       " Row(userID='100', page='Home', ts=1513839673284, homevisit=1, period=1),\n",
       " Row(userID='100', page='Home', ts=1513776194284, homevisit=1, period=2),\n",
       " Row(userID='100', page='Home', ts=1513775431284, homevisit=1, period=3),\n",
       " Row(userID='1003', page='Home', ts=1513749525284, homevisit=1, period=1),\n",
       " Row(userID='1003', page='Home', ts=1513749501284, homevisit=1, period=2),\n",
       " Row(userID='1017', page='Home', ts=1513822400284, homevisit=1, period=1),\n",
       " Row(userID='1017', page='Home', ts=1513820906284, homevisit=1, period=2),\n",
       " Row(userID='1019', page='Home', ts=1513826961284, homevisit=1, period=1),\n",
       " Row(userID='1019', page='Home', ts=1513797224284, homevisit=1, period=2),\n",
       " Row(userID='1019', page='Home', ts=1513791259284, homevisit=1, period=3),\n",
       " Row(userID='1019', page='Home', ts=1513746335284, homevisit=1, period=4),\n",
       " Row(userID='1019', page='Home', ts=1513746328284, homevisit=1, period=5),\n",
       " Row(userID='1020', page='Home', ts=1513741324284, homevisit=1, period=1),\n",
       " Row(userID='1025', page='Home', ts=1513788604284, homevisit=1, period=1),\n",
       " Row(userID='1035', page='Home', ts=1513818818284, homevisit=1, period=1),\n",
       " Row(userID='1035', page='Home', ts=1513802601284, homevisit=1, period=2),\n",
       " Row(userID='1035', page='Home', ts=1513802382284, homevisit=1, period=3),\n",
       " Row(userID='1035', page='Home', ts=1513784410284, homevisit=1, period=4),\n",
       " Row(userID='1035', page='Home', ts=1513784300284, homevisit=1, period=5),\n",
       " Row(userID='1035', page='Home', ts=1513780845284, homevisit=1, period=6),\n",
       " Row(userID='1037', page='Home', ts=1513741893284, homevisit=1, period=1),\n",
       " Row(userID='1040', page='Home', ts=1513772547284, homevisit=1, period=1),\n",
       " Row(userID='1042', page='Home', ts=1513760887284, homevisit=1, period=1),\n",
       " Row(userID='1043', page='Home', ts=1513843301284, homevisit=1, period=1),\n",
       " Row(userID='1046', page='Home', ts=1513838155284, homevisit=1, period=1),\n",
       " Row(userID='1046', page='Home', ts=1513837636284, homevisit=1, period=2),\n",
       " Row(userID='1048', page='Home', ts=1513792269284, homevisit=1, period=1),\n",
       " Row(userID='105', page='Home', ts=1513775833284, homevisit=1, period=1),\n",
       " Row(userID='105', page='Home', ts=1513770992284, homevisit=1, period=2),\n",
       " Row(userID='1050', page='Home', ts=1513805140284, homevisit=1, period=1),\n",
       " Row(userID='1061', page='Home', ts=1513723075284, homevisit=1, period=1),\n",
       " Row(userID='1062', page='Home', ts=1513757329284, homevisit=1, period=1),\n",
       " Row(userID='1065', page='Home', ts=1513740882284, homevisit=1, period=1),\n",
       " Row(userID='1069', page='Home', ts=1513785064284, homevisit=1, period=1),\n",
       " Row(userID='1074', page='Home', ts=1513827970284, homevisit=1, period=1),\n",
       " Row(userID='1077', page='Home', ts=1513735508284, homevisit=1, period=1),\n",
       " Row(userID='1079', page='Home', ts=1513763036284, homevisit=1, period=1),\n",
       " Row(userID='1079', page='Home', ts=1513749231284, homevisit=1, period=2),\n",
       " Row(userID='1079', page='Home', ts=1513749208284, homevisit=1, period=3),\n",
       " Row(userID='1082', page='Home', ts=1513822761284, homevisit=1, period=1),\n",
       " Row(userID='1082', page='Home', ts=1513821091284, homevisit=1, period=2),\n",
       " Row(userID='1082', page='Home', ts=1513818971284, homevisit=1, period=3),\n",
       " Row(userID='1082', page='Home', ts=1513818925284, homevisit=1, period=4),\n",
       " Row(userID='1083', page='Home', ts=1513813345284, homevisit=1, period=1),\n",
       " Row(userID='109', page='Home', ts=1513794338284, homevisit=1, period=1),\n",
       " Row(userID='1098', page='Home', ts=1513772073284, homevisit=1, period=1),\n",
       " Row(userID='11', page='Home', ts=1513813825284, homevisit=1, period=1),\n",
       " Row(userID='1103', page='Home', ts=1513827294284, homevisit=1, period=1),\n",
       " Row(userID='1103', page='Home', ts=1513822750284, homevisit=1, period=2),\n",
       " Row(userID='1103', page='Home', ts=1513774760284, homevisit=1, period=3),\n",
       " Row(userID='1107', page='Home', ts=1513842749284, homevisit=1, period=1),\n",
       " Row(userID='1107', page='Home', ts=1513842381284, homevisit=1, period=2),\n",
       " Row(userID='1109', page='Home', ts=1513762669284, homevisit=1, period=1),\n",
       " Row(userID='1117', page='Home', ts=1513794992284, homevisit=1, period=1),\n",
       " Row(userID='1132', page='Home', ts=1513781451284, homevisit=1, period=1),\n",
       " Row(userID='1138', page='Home', ts=1513821430284, homevisit=1, period=1),\n",
       " Row(userID='1138', page='Home', ts=1513768456284, homevisit=1, period=2),\n",
       " Row(userID='1138', page='Home', ts=1513765075284, homevisit=1, period=3),\n",
       " Row(userID='1138', page='Home', ts=1513729066284, homevisit=1, period=4),\n",
       " Row(userID='1140', page='Home', ts=1513783010284, homevisit=1, period=1),\n",
       " Row(userID='1141', page='Home', ts=1513780776284, homevisit=1, period=1),\n",
       " Row(userID='1152', page='Home', ts=1513726242284, homevisit=1, period=1),\n",
       " Row(userID='1153', page='Home', ts=1513801521284, homevisit=1, period=1),\n",
       " Row(userID='1155', page='Home', ts=1513807224284, homevisit=1, period=1),\n",
       " Row(userID='1155', page='Home', ts=1513806274284, homevisit=1, period=2),\n",
       " Row(userID='1158', page='Home', ts=1513845587284, homevisit=1, period=1),\n",
       " Row(userID='1158', page='Home', ts=1513765835284, homevisit=1, period=2),\n",
       " Row(userID='1163', page='Home', ts=1513743603284, homevisit=1, period=1),\n",
       " Row(userID='1165', page='Home', ts=1513779632284, homevisit=1, period=1),\n",
       " Row(userID='1165', page='Home', ts=1513769417284, homevisit=1, period=2),\n",
       " Row(userID='1165', page='Home', ts=1513767840284, homevisit=1, period=3),\n",
       " Row(userID='117', page='Home', ts=1513807803284, homevisit=1, period=1),\n",
       " Row(userID='117', page='Home', ts=1513776763284, homevisit=1, period=2),\n",
       " Row(userID='1172', page='Home', ts=1513818247284, homevisit=1, period=1),\n",
       " Row(userID='1174', page='Home', ts=1513781804284, homevisit=1, period=1),\n",
       " Row(userID='1174', page='Home', ts=1513778520284, homevisit=1, period=2),\n",
       " Row(userID='1176', page='Home', ts=1513775957284, homevisit=1, period=1),\n",
       " Row(userID='1176', page='Home', ts=1513724365284, homevisit=1, period=2),\n",
       " Row(userID='1176', page='Home', ts=1513721088284, homevisit=1, period=3),\n",
       " Row(userID='1177', page='Home', ts=1513780290284, homevisit=1, period=1),\n",
       " Row(userID='1182', page='Home', ts=1513805225284, homevisit=1, period=1),\n",
       " Row(userID='1199', page='Home', ts=1513837500284, homevisit=1, period=1),\n",
       " Row(userID='1205', page='Home', ts=1513813344284, homevisit=1, period=1),\n",
       " Row(userID='1208', page='Home', ts=1513788006284, homevisit=1, period=1),\n",
       " Row(userID='1219', page='Home', ts=1513818444284, homevisit=1, period=1),\n",
       " Row(userID='1219', page='Home', ts=1513818434284, homevisit=1, period=2),\n",
       " Row(userID='1219', page='Home', ts=1513782366284, homevisit=1, period=3),\n",
       " Row(userID='1232', page='Home', ts=1513817466284, homevisit=1, period=1),\n",
       " Row(userID='1232', page='Home', ts=1513811663284, homevisit=1, period=2),\n",
       " Row(userID='1232', page='Home', ts=1513801446284, homevisit=1, period=3),\n",
       " Row(userID='1232', page='Home', ts=1513801182284, homevisit=1, period=4),\n",
       " Row(userID='1232', page='Home', ts=1513797797284, homevisit=1, period=5),\n",
       " Row(userID='1232', page='Home', ts=1513754621284, homevisit=1, period=6),\n",
       " Row(userID='1232', page='Home', ts=1513739156284, homevisit=1, period=7),\n",
       " Row(userID='1232', page='Home', ts=1513727268284, homevisit=1, period=8),\n",
       " Row(userID='1233', page='Home', ts=1513815039284, homevisit=1, period=1),\n",
       " Row(userID='1238', page='Home', ts=1513785785284, homevisit=1, period=1),\n",
       " Row(userID='1243', page='Home', ts=1513797840284, homevisit=1, period=1),\n",
       " Row(userID='1264', page='Home', ts=1513728599284, homevisit=1, period=1),\n",
       " Row(userID='1267', page='Home', ts=1513783224284, homevisit=1, period=1),\n",
       " Row(userID='1267', page='Home', ts=1513783203284, homevisit=1, period=2),\n",
       " Row(userID='1267', page='Home', ts=1513757744284, homevisit=1, period=3),\n",
       " Row(userID='1267', page='Home', ts=1513723185284, homevisit=1, period=4),\n",
       " Row(userID='1272', page='Home', ts=1513772882284, homevisit=1, period=1),\n",
       " Row(userID='1278', page='Home', ts=1513794191284, homevisit=1, period=1),\n",
       " Row(userID='1280', page='Home', ts=1513792216284, homevisit=1, period=1),\n",
       " Row(userID='1280', page='Home', ts=1513777903284, homevisit=1, period=2),\n",
       " Row(userID='1281', page='Home', ts=1513780994284, homevisit=1, period=1),\n",
       " Row(userID='1290', page='Home', ts=1513803736284, homevisit=1, period=1),\n",
       " Row(userID='1290', page='Home', ts=1513798768284, homevisit=1, period=2),\n",
       " Row(userID='1290', page='Home', ts=1513796931284, homevisit=1, period=3),\n",
       " Row(userID='1290', page='Home', ts=1513796563284, homevisit=1, period=4),\n",
       " Row(userID='1290', page='Home', ts=1513794230284, homevisit=1, period=5),\n",
       " Row(userID='1290', page='Home', ts=1513789762284, homevisit=1, period=6),\n",
       " Row(userID='1290', page='Home', ts=1513788173284, homevisit=1, period=7),\n",
       " Row(userID='1295', page='Home', ts=1513739508284, homevisit=1, period=1),\n",
       " Row(userID='130', page='Home', ts=1513774793284, homevisit=1, period=1),\n",
       " Row(userID='1303', page='Home', ts=1513809275284, homevisit=1, period=1),\n",
       " Row(userID='1309', page='Home', ts=1513822255284, homevisit=1, period=1),\n",
       " Row(userID='1309', page='Home', ts=1513821871284, homevisit=1, period=2),\n",
       " Row(userID='1312', page='Home', ts=1513722835284, homevisit=1, period=1),\n",
       " Row(userID='1319', page='Home', ts=1513782172284, homevisit=1, period=1),\n",
       " Row(userID='1322', page='Home', ts=1513784384284, homevisit=1, period=1),\n",
       " Row(userID='1330', page='Home', ts=1513742407284, homevisit=1, period=1),\n",
       " Row(userID='1331', page='Home', ts=1513835396284, homevisit=1, period=1),\n",
       " Row(userID='1346', page='Home', ts=1513777951284, homevisit=1, period=1),\n",
       " Row(userID='1347', page='Home', ts=1513759523284, homevisit=1, period=1),\n",
       " Row(userID='1349', page='Home', ts=1513782573284, homevisit=1, period=1),\n",
       " Row(userID='1350', page='Home', ts=1513811037284, homevisit=1, period=1),\n",
       " Row(userID='1358', page='Home', ts=1513807781284, homevisit=1, period=1),\n",
       " Row(userID='136', page='Home', ts=1513754401284, homevisit=1, period=1),\n",
       " Row(userID='136', page='Home', ts=1513754256284, homevisit=1, period=2),\n",
       " Row(userID='1362', page='Home', ts=1513827143284, homevisit=1, period=1),\n",
       " Row(userID='1362', page='Home', ts=1513747270284, homevisit=1, period=2),\n",
       " Row(userID='1367', page='Home', ts=1513766267284, homevisit=1, period=1),\n",
       " Row(userID='1368', page='Home', ts=1513845378284, homevisit=1, period=1),\n",
       " Row(userID='1368', page='Home', ts=1513844788284, homevisit=1, period=2),\n",
       " Row(userID='1373', page='Home', ts=1513774805284, homevisit=1, period=1),\n",
       " Row(userID='1374', page='Home', ts=1513830280284, homevisit=1, period=1),\n",
       " Row(userID='1374', page='Home', ts=1513826277284, homevisit=1, period=2),\n",
       " Row(userID='1374', page='Home', ts=1513821798284, homevisit=1, period=3),\n",
       " Row(userID='1374', page='Home', ts=1513793281284, homevisit=1, period=4),\n",
       " Row(userID='1374', page='Home', ts=1513792705284, homevisit=1, period=5),\n",
       " Row(userID='1374', page='Home', ts=1513778006284, homevisit=1, period=6),\n",
       " Row(userID='1377', page='Home', ts=1513819773284, homevisit=1, period=1),\n",
       " Row(userID='138', page='Home', ts=1513733989284, homevisit=1, period=1),\n",
       " Row(userID='1380', page='Home', ts=1513821607284, homevisit=1, period=1),\n",
       " Row(userID='1383', page='Home', ts=1513823543284, homevisit=1, period=1),\n",
       " Row(userID='1383', page='Home', ts=1513795012284, homevisit=1, period=2),\n",
       " Row(userID='1388', page='Home', ts=1513766214284, homevisit=1, period=1),\n",
       " Row(userID='1392', page='Home', ts=1513820348284, homevisit=1, period=1),\n",
       " Row(userID='1392', page='Home', ts=1513820280284, homevisit=1, period=2),\n",
       " Row(userID='1393', page='Home', ts=1513764002284, homevisit=1, period=1),\n",
       " Row(userID='1394', page='Home', ts=1513831443284, homevisit=1, period=1),\n",
       " Row(userID='1396', page='Home', ts=1513777580284, homevisit=1, period=1),\n",
       " Row(userID='1396', page='Home', ts=1513777140284, homevisit=1, period=2),\n",
       " Row(userID='1398', page='Home', ts=1513811050284, homevisit=1, period=1),\n",
       " Row(userID='1398', page='Home', ts=1513808874284, homevisit=1, period=2),\n",
       " Row(userID='1398', page='Home', ts=1513768316284, homevisit=1, period=3),\n",
       " Row(userID='1399', page='Home', ts=1513781614284, homevisit=1, period=1),\n",
       " Row(userID='141', page='Home', ts=1513800407284, homevisit=1, period=1),\n",
       " Row(userID='1412', page='Home', ts=1513831170284, homevisit=1, period=1),\n",
       " Row(userID='1413', page='Home', ts=1513785979284, homevisit=1, period=1),\n",
       " Row(userID='1422', page='Home', ts=1513837244284, homevisit=1, period=1),\n",
       " Row(userID='1422', page='Home', ts=1513792618284, homevisit=1, period=2),\n",
       " Row(userID='1423', page='Home', ts=1513773258284, homevisit=1, period=1),\n",
       " Row(userID='1426', page='Home', ts=1513820506284, homevisit=1, period=1),\n",
       " Row(userID='1429', page='Home', ts=1513823471284, homevisit=1, period=1),\n",
       " Row(userID='1430', page='Home', ts=1513847165284, homevisit=1, period=1),\n",
       " Row(userID='1430', page='Home', ts=1513843233284, homevisit=1, period=2),\n",
       " Row(userID='1442', page='Home', ts=1513778118284, homevisit=1, period=1),\n",
       " Row(userID='1452', page='Home', ts=1513839284284, homevisit=1, period=1),\n",
       " Row(userID='1452', page='Home', ts=1513781290284, homevisit=1, period=2),\n",
       " Row(userID='1461', page='Home', ts=1513824281284, homevisit=1, period=1),\n",
       " Row(userID='1471', page='Home', ts=1513740508284, homevisit=1, period=1),\n",
       " Row(userID='1471', page='Home', ts=1513740485284, homevisit=1, period=2),\n",
       " Row(userID='1478', page='Home', ts=1513723792284, homevisit=1, period=1),\n",
       " Row(userID='1490', page='Home', ts=1513847270284, homevisit=1, period=1),\n",
       " Row(userID='1490', page='Home', ts=1513783880284, homevisit=1, period=2),\n",
       " Row(userID='1494', page='Home', ts=1513827710284, homevisit=1, period=1),\n",
       " Row(userID='1497', page='Home', ts=1513743619284, homevisit=1, period=1),\n",
       " Row(userID='1497', page='Home', ts=1513736696284, homevisit=1, period=2),\n",
       " Row(userID='150', page='Home', ts=1513751516284, homevisit=1, period=1),\n",
       " Row(userID='1503', page='Home', ts=1513787089284, homevisit=1, period=1),\n",
       " Row(userID='1514', page='Home', ts=1513787517284, homevisit=1, period=1),\n",
       " Row(userID='1520', page='Home', ts=1513834252284, homevisit=1, period=1),\n",
       " Row(userID='1522', page='Home', ts=1513802141284, homevisit=1, period=1),\n",
       " Row(userID='1523', page='Home', ts=1513843074284, homevisit=1, period=1),\n",
       " Row(userID='1540', page='Home', ts=1513749638284, homevisit=1, period=1),\n",
       " Row(userID='1541', page='Home', ts=1513792396284, homevisit=1, period=1),\n",
       " Row(userID='1543', page='Home', ts=1513802577284, homevisit=1, period=1),\n",
       " Row(userID='1543', page='Home', ts=1513752755284, homevisit=1, period=2),\n",
       " Row(userID='1551', page='Home', ts=1513776811284, homevisit=1, period=1),\n",
       " Row(userID='1558', page='Home', ts=1513841169284, homevisit=1, period=1),\n",
       " Row(userID='1558', page='Home', ts=1513840338284, homevisit=1, period=2),\n",
       " Row(userID='1558', page='Home', ts=1513839298284, homevisit=1, period=3),\n",
       " Row(userID='1558', page='Home', ts=1513839066284, homevisit=1, period=4),\n",
       " Row(userID='1558', page='Home', ts=1513821894284, homevisit=1, period=5),\n",
       " Row(userID='1558', page='Home', ts=1513763111284, homevisit=1, period=6),\n",
       " Row(userID='1561', page='Home', ts=1513793259284, homevisit=1, period=1),\n",
       " Row(userID='1564', page='Home', ts=1513810555284, homevisit=1, period=1),\n",
       " Row(userID='1564', page='Home', ts=1513797974284, homevisit=1, period=2),\n",
       " Row(userID='1567', page='Home', ts=1513815035284, homevisit=1, period=1),\n",
       " Row(userID='1567', page='Home', ts=1513810623284, homevisit=1, period=2),\n",
       " Row(userID='1568', page='Home', ts=1513749127284, homevisit=1, period=1),\n",
       " Row(userID='1569', page='Home', ts=1513771935284, homevisit=1, period=1),\n",
       " Row(userID='1573', page='Home', ts=1513775669284, homevisit=1, period=1),\n",
       " Row(userID='158', page='Home', ts=1513835590284, homevisit=1, period=1),\n",
       " Row(userID='158', page='Home', ts=1513763719284, homevisit=1, period=2),\n",
       " Row(userID='1580', page='Home', ts=1513773095284, homevisit=1, period=1),\n",
       " Row(userID='1583', page='Home', ts=1513730972284, homevisit=1, period=1),\n",
       " Row(userID='1583', page='Home', ts=1513729928284, homevisit=1, period=2),\n",
       " Row(userID='1584', page='Home', ts=1513827591284, homevisit=1, period=1),\n",
       " Row(userID='1584', page='Home', ts=1513784118284, homevisit=1, period=2),\n",
       " Row(userID='1586', page='Home', ts=1513806940284, homevisit=1, period=1),\n",
       " Row(userID='1588', page='Home', ts=1513756365284, homevisit=1, period=1),\n",
       " Row(userID='159', page='Home', ts=1513791843284, homevisit=1, period=1),\n",
       " Row(userID='159', page='Home', ts=1513790723284, homevisit=1, period=2),\n",
       " Row(userID='1595', page='Home', ts=1513784650284, homevisit=1, period=1),\n",
       " Row(userID='1595', page='Home', ts=1513784632284, homevisit=1, period=2),\n",
       " Row(userID='1595', page='Home', ts=1513782690284, homevisit=1, period=3),\n",
       " Row(userID='1598', page='Home', ts=1513789162284, homevisit=1, period=1),\n",
       " Row(userID='1598', page='Home', ts=1513784505284, homevisit=1, period=2),\n",
       " Row(userID='1604', page='Home', ts=1513785704284, homevisit=1, period=1),\n",
       " Row(userID='1608', page='Home', ts=1513782924284, homevisit=1, period=1),\n",
       " Row(userID='1611', page='Home', ts=1513795693284, homevisit=1, period=1),\n",
       " Row(userID='1611', page='Home', ts=1513795583284, homevisit=1, period=2),\n",
       " Row(userID='1611', page='Home', ts=1513790857284, homevisit=1, period=3),\n",
       " Row(userID='1611', page='Home', ts=1513785676284, homevisit=1, period=4),\n",
       " Row(userID='1625', page='Home', ts=1513751603284, homevisit=1, period=1),\n",
       " Row(userID='1629', page='Home', ts=1513740012284, homevisit=1, period=1),\n",
       " Row(userID='1642', page='Home', ts=1513837367284, homevisit=1, period=1),\n",
       " Row(userID='1644', page='Home', ts=1513804168284, homevisit=1, period=1),\n",
       " Row(userID='1644', page='Home', ts=1513787062284, homevisit=1, period=2),\n",
       " Row(userID='1645', page='Home', ts=1513795314284, homevisit=1, period=1),\n",
       " Row(userID='1647', page='Home', ts=1513821375284, homevisit=1, period=1),\n",
       " Row(userID='1647', page='Home', ts=1513819938284, homevisit=1, period=2),\n",
       " Row(userID='1647', page='Home', ts=1513797504284, homevisit=1, period=3),\n",
       " Row(userID='1647', page='Home', ts=1513789831284, homevisit=1, period=4),\n",
       " Row(userID='1647', page='Home', ts=1513782166284, homevisit=1, period=5),\n",
       " Row(userID='1647', page='Home', ts=1513780918284, homevisit=1, period=6),\n",
       " Row(userID='1647', page='Home', ts=1513779782284, homevisit=1, period=7),\n",
       " Row(userID='1647', page='Home', ts=1513752952284, homevisit=1, period=8),\n",
       " Row(userID='1647', page='Home', ts=1513751959284, homevisit=1, period=9),\n",
       " Row(userID='1647', page='Home', ts=1513751952284, homevisit=1, period=10),\n",
       " Row(userID='165', page='Home', ts=1513759197284, homevisit=1, period=1),\n",
       " Row(userID='1661', page='Home', ts=1513786615284, homevisit=1, period=1),\n",
       " Row(userID='1664', page='Home', ts=1513843849284, homevisit=1, period=1),\n",
       " Row(userID='1668', page='Home', ts=1513788091284, homevisit=1, period=1),\n",
       " Row(userID='1668', page='Home', ts=1513787955284, homevisit=1, period=2),\n",
       " Row(userID='1668', page='Home', ts=1513778384284, homevisit=1, period=3),\n",
       " Row(userID='1668', page='Home', ts=1513775695284, homevisit=1, period=4),\n",
       " Row(userID='1678', page='Home', ts=1513798959284, homevisit=1, period=1),\n",
       " Row(userID='1680', page='Home', ts=1513779916284, homevisit=1, period=1),\n",
       " Row(userID='1680', page='Home', ts=1513744496284, homevisit=1, period=2),\n",
       " Row(userID='1684', page='Home', ts=1513837283284, homevisit=1, period=1),\n",
       " Row(userID='1686', page='Home', ts=1513773140284, homevisit=1, period=1),\n",
       " Row(userID='1688', page='Home', ts=1513822703284, homevisit=1, period=1),\n",
       " Row(userID='1691', page='Home', ts=1513773547284, homevisit=1, period=1),\n",
       " Row(userID='1691', page='Home', ts=1513772324284, homevisit=1, period=2),\n",
       " Row(userID='1697', page='Home', ts=1513794235284, homevisit=1, period=1),\n",
       " Row(userID='1701', page='Home', ts=1513791529284, homevisit=1, period=1),\n",
       " Row(userID='1701', page='Home', ts=1513755252284, homevisit=1, period=2),\n",
       " Row(userID='1708', page='Home', ts=1513778917284, homevisit=1, period=1),\n",
       " Row(userID='1715', page='Home', ts=1513786865284, homevisit=1, period=1),\n",
       " Row(userID='1724', page='Home', ts=1513782810284, homevisit=1, period=1),\n",
       " Row(userID='1725', page='Home', ts=1513794456284, homevisit=1, period=1),\n",
       " Row(userID='1725', page='Home', ts=1513751912284, homevisit=1, period=2),\n",
       " Row(userID='174', page='Home', ts=1513838942284, homevisit=1, period=1),\n",
       " Row(userID='174', page='Home', ts=1513836034284, homevisit=1, period=2),\n",
       " Row(userID='174', page='Home', ts=1513834999284, homevisit=1, period=3),\n",
       " Row(userID='174', page='Home', ts=1513769153284, homevisit=1, period=4),\n",
       " Row(userID='1741', page='Home', ts=1513734125284, homevisit=1, period=1),\n",
       " Row(userID='1746', page='Home', ts=1513782389284, homevisit=1, period=1),\n",
       " Row(userID='1746', page='Home', ts=1513762923284, homevisit=1, period=2),\n",
       " Row(userID='1747', page='Home', ts=1513720913284, homevisit=1, period=1),\n",
       " Row(userID='1776', page='Home', ts=1513835757284, homevisit=1, period=1),\n",
       " Row(userID='1776', page='Home', ts=1513825296284, homevisit=1, period=2),\n",
       " Row(userID='1777', page='Home', ts=1513755018284, homevisit=1, period=1),\n",
       " Row(userID='1777', page='Home', ts=1513754780284, homevisit=1, period=2),\n",
       " Row(userID='1779', page='Home', ts=1513844947284, homevisit=1, period=1),\n",
       " Row(userID='1780', page='Home', ts=1513739665284, homevisit=1, period=1),\n",
       " Row(userID='1786', page='Home', ts=1513843754284, homevisit=1, period=1),\n",
       " Row(userID='1790', page='Home', ts=1513730153284, homevisit=1, period=1),\n",
       " Row(userID='1795', page='Home', ts=1513802040284, homevisit=1, period=1),\n",
       " Row(userID='1803', page='Home', ts=1513789884284, homevisit=1, period=1),\n",
       " Row(userID='1806', page='Home', ts=1513808776284, homevisit=1, period=1),\n",
       " Row(userID='1806', page='Home', ts=1513789995284, homevisit=1, period=2),\n",
       " Row(userID='1806', page='Home', ts=1513729775284, homevisit=1, period=3),\n",
       " Row(userID='1809', page='Home', ts=1513780239284, homevisit=1, period=1),\n",
       " Row(userID='1810', page='Home', ts=1513750904284, homevisit=1, period=1),\n",
       " Row(userID='1818', page='Home', ts=1513721648284, homevisit=1, period=1),\n",
       " Row(userID='1819', page='Home', ts=1513729408284, homevisit=1, period=1),\n",
       " Row(userID='1820', page='Home', ts=1513773289284, homevisit=1, period=1),\n",
       " Row(userID='1820', page='Home', ts=1513741823284, homevisit=1, period=2),\n",
       " Row(userID='1828', page='Home', ts=1513774299284, homevisit=1, period=1),\n",
       " Row(userID='1828', page='Home', ts=1513774006284, homevisit=1, period=2),\n",
       " Row(userID='1829', page='Home', ts=1513810310284, homevisit=1, period=1),\n",
       " Row(userID='1840', page='Home', ts=1513838889284, homevisit=1, period=1),\n",
       " Row(userID='1842', page='Home', ts=1513802865284, homevisit=1, period=1),\n",
       " Row(userID='1842', page='Home', ts=1513802289284, homevisit=1, period=2),\n",
       " Row(userID='1842', page='Home', ts=1513750270284, homevisit=1, period=3),\n",
       " Row(userID='1845', page='Home', ts=1513808067284, homevisit=1, period=1),\n",
       " Row(userID='1847', page='Home', ts=1513721646284, homevisit=1, period=1),\n",
       " Row(userID='1852', page='Home', ts=1513820466284, homevisit=1, period=1),\n",
       " Row(userID='1854', page='Home', ts=1513799736284, homevisit=1, period=1),\n",
       " Row(userID='1854', page='Home', ts=1513783360284, homevisit=1, period=2),\n",
       " Row(userID='1854', page='Home', ts=1513730410284, homevisit=1, period=3),\n",
       " Row(userID='1855', page='Home', ts=1513764572284, homevisit=1, period=1),\n",
       " Row(userID='186', page='Home', ts=1513792859284, homevisit=1, period=1),\n",
       " Row(userID='1860', page='Home', ts=1513838317284, homevisit=1, period=1),\n",
       " Row(userID='1865', page='Home', ts=1513821012284, homevisit=1, period=1),\n",
       " Row(userID='1865', page='Home', ts=1513818162284, homevisit=1, period=2),\n",
       " Row(userID='1865', page='Home', ts=1513814611284, homevisit=1, period=3),\n",
       " Row(userID='1865', page='Home', ts=1513776243284, homevisit=1, period=4),\n",
       " Row(userID='1865', page='Home', ts=1513760355284, homevisit=1, period=5),\n",
       " Row(userID='1865', page='Home', ts=1513759889284, homevisit=1, period=6),\n",
       " Row(userID='1869', page='Home', ts=1513790268284, homevisit=1, period=1),\n",
       " Row(userID='1869', page='Home', ts=1513781809284, homevisit=1, period=2),\n",
       " Row(userID='1869', page='Home', ts=1513780969284, homevisit=1, period=3),\n",
       " Row(userID='187', page='Home', ts=1513784413284, homevisit=1, period=1),\n",
       " Row(userID='1881', page='Home', ts=1513847178284, homevisit=1, period=1),\n",
       " Row(userID='1881', page='Home', ts=1513838666284, homevisit=1, period=2),\n",
       " Row(userID='1885', page='Home', ts=1513797290284, homevisit=1, period=1),\n",
       " Row(userID='1887', page='Home', ts=1513845601284, homevisit=1, period=1),\n",
       " Row(userID='1887', page='Home', ts=1513766350284, homevisit=1, period=2),\n",
       " Row(userID='1887', page='Home', ts=1513746568284, homevisit=1, period=3),\n",
       " Row(userID='1891', page='Home', ts=1513797130284, homevisit=1, period=1),\n",
       " Row(userID='1903', page='Home', ts=1513818484284, homevisit=1, period=1),\n",
       " Row(userID='1903', page='Home', ts=1513775555284, homevisit=1, period=2),\n",
       " Row(userID='1906', page='Home', ts=1513784521284, homevisit=1, period=1),\n",
       " Row(userID='1911', page='Home', ts=1513786056284, homevisit=1, period=1),\n",
       " Row(userID='1911', page='Home', ts=1513779818284, homevisit=1, period=2),\n",
       " Row(userID='1911', page='Home', ts=1513745601284, homevisit=1, period=3),\n",
       " Row(userID='1915', page='Home', ts=1513847478284, homevisit=1, period=1),\n",
       " Row(userID='1916', page='Home', ts=1513779662284, homevisit=1, period=1),\n",
       " Row(userID='1918', page='Home', ts=1513829879284, homevisit=1, period=1),\n",
       " Row(userID='1920', page='Home', ts=1513763234284, homevisit=1, period=1),\n",
       " Row(userID='1926', page='Home', ts=1513772849284, homevisit=1, period=1),\n",
       " Row(userID='1929', page='Home', ts=1513779690284, homevisit=1, period=1),\n",
       " Row(userID='1943', page='Home', ts=1513781241284, homevisit=1, period=1),\n",
       " Row(userID='1944', page='Home', ts=1513786055284, homevisit=1, period=1),\n",
       " Row(userID='1949', page='Home', ts=1513837394284, homevisit=1, period=1),\n",
       " Row(userID='1949', page='Home', ts=1513824319284, homevisit=1, period=2),\n",
       " Row(userID='1949', page='Home', ts=1513793892284, homevisit=1, period=3),\n",
       " Row(userID='1949', page='Home', ts=1513724585284, homevisit=1, period=4),\n",
       " Row(userID='1949', page='Home', ts=1513724572284, homevisit=1, period=5),\n",
       " Row(userID='1950', page='Home', ts=1513806013284, homevisit=1, period=1),\n",
       " Row(userID='1950', page='Home', ts=1513796024284, homevisit=1, period=2),\n",
       " Row(userID='1950', page='Home', ts=1513794942284, homevisit=1, period=3),\n",
       " Row(userID='1950', page='Home', ts=1513789973284, homevisit=1, period=4),\n",
       " Row(userID='1950', page='Home', ts=1513789840284, homevisit=1, period=5),\n",
       " Row(userID='1950', page='Home', ts=1513782423284, homevisit=1, period=6),\n",
       " Row(userID='1952', page='Home', ts=1513731289284, homevisit=1, period=1),\n",
       " Row(userID='1955', page='Home', ts=1513730213284, homevisit=1, period=1),\n",
       " Row(userID='1959', page='Home', ts=1513811696284, homevisit=1, period=1),\n",
       " Row(userID='1959', page='Home', ts=1513811503284, homevisit=1, period=2),\n",
       " Row(userID='1959', page='Home', ts=1513785955284, homevisit=1, period=3),\n",
       " Row(userID='1959', page='Home', ts=1513782298284, homevisit=1, period=4),\n",
       " Row(userID='1959', page='Home', ts=1513769608284, homevisit=1, period=5),\n",
       " Row(userID='1959', page='Home', ts=1513769510284, homevisit=1, period=6),\n",
       " Row(userID='1959', page='Home', ts=1513744184284, homevisit=1, period=7),\n",
       " Row(userID='196', page='Home', ts=1513760185284, homevisit=1, period=1),\n",
       " Row(userID='1961', page='Home', ts=1513796947284, homevisit=1, period=1),\n",
       " Row(userID='1961', page='Home', ts=1513794940284, homevisit=1, period=2),\n",
       " Row(userID='1961', page='Home', ts=1513789774284, homevisit=1, period=3),\n",
       " Row(userID='1964', page='Home', ts=1513781528284, homevisit=1, period=1),\n",
       " Row(userID='1964', page='Home', ts=1513766186284, homevisit=1, period=2),\n",
       " Row(userID='1967', page='Home', ts=1513773872284, homevisit=1, period=1),\n",
       " Row(userID='1968', page='Home', ts=1513760112284, homevisit=1, period=1),\n",
       " Row(userID='1969', page='Home', ts=1513799767284, homevisit=1, period=1),\n",
       " Row(userID='1970', page='Home', ts=1513781232284, homevisit=1, period=1),\n",
       " Row(userID='1975', page='Home', ts=1513785322284, homevisit=1, period=1),\n",
       " Row(userID='1980', page='Home', ts=1513781096284, homevisit=1, period=1),\n",
       " Row(userID='1986', page='Home', ts=1513745520284, homevisit=1, period=1),\n",
       " Row(userID='1986', page='Home', ts=1513741305284, homevisit=1, period=2),\n",
       " Row(userID='1990', page='Home', ts=1513819035284, homevisit=1, period=1),\n",
       " Row(userID='1991', page='Home', ts=1513787010284, homevisit=1, period=1),\n",
       " Row(userID='1998', page='Home', ts=1513790802284, homevisit=1, period=1),\n",
       " Row(userID='2004', page='Home', ts=1513769010284, homevisit=1, period=1),\n",
       " Row(userID='2004', page='Home', ts=1513764664284, homevisit=1, period=2),\n",
       " Row(userID='2017', page='Home', ts=1513780466284, homevisit=1, period=1),\n",
       " Row(userID='2018', page='Home', ts=1513723210284, homevisit=1, period=1),\n",
       " Row(userID='2020', page='Home', ts=1513841128284, homevisit=1, period=1),\n",
       " Row(userID='2021', page='Home', ts=1513785558284, homevisit=1, period=1),\n",
       " Row(userID='2022', page='Home', ts=1513781040284, homevisit=1, period=1),\n",
       " Row(userID='2028', page='Home', ts=1513736774284, homevisit=1, period=1),\n",
       " Row(userID='2033', page='Home', ts=1513834733284, homevisit=1, period=1),\n",
       " Row(userID='2033', page='Home', ts=1513800242284, homevisit=1, period=2),\n",
       " Row(userID='2035', page='Home', ts=1513758468284, homevisit=1, period=1),\n",
       " Row(userID='2038', page='Home', ts=1513845117284, homevisit=1, period=1),\n",
       " Row(userID='2038', page='Home', ts=1513750536284, homevisit=1, period=2),\n",
       " Row(userID='2047', page='Home', ts=1513755094284, homevisit=1, period=1),\n",
       " Row(userID='2048', page='Home', ts=1513797115284, homevisit=1, period=1),\n",
       " Row(userID='2049', page='Home', ts=1513815046284, homevisit=1, period=1),\n",
       " Row(userID='2051', page='Home', ts=1513824771284, homevisit=1, period=1),\n",
       " Row(userID='2053', page='Home', ts=1513831563284, homevisit=1, period=1),\n",
       " Row(userID='2065', page='Home', ts=1513776867284, homevisit=1, period=1),\n",
       " Row(userID='2073', page='Home', ts=1513824836284, homevisit=1, period=1),\n",
       " Row(userID='2074', page='Home', ts=1513778524284, homevisit=1, period=1),\n",
       " Row(userID='2076', page='Home', ts=1513751025284, homevisit=1, period=1),\n",
       " Row(userID='2079', page='Home', ts=1513817872284, homevisit=1, period=1),\n",
       " Row(userID='2081', page='Home', ts=1513783350284, homevisit=1, period=1),\n",
       " Row(userID='2081', page='Home', ts=1513783295284, homevisit=1, period=2),\n",
       " Row(userID='2085', page='Home', ts=1513721321284, homevisit=1, period=1),\n",
       " Row(userID='2088', page='Home', ts=1513805972284, homevisit=1, period=1),\n",
       " Row(userID='2089', page='Home', ts=1513748348284, homevisit=1, period=1),\n",
       " Row(userID='2095', page='Home', ts=1513801054284, homevisit=1, period=1),\n",
       " Row(userID='2096', page='Home', ts=1513735364284, homevisit=1, period=1),\n",
       " Row(userID='210', page='Home', ts=1513827109284, homevisit=1, period=1),\n",
       " Row(userID='2105', page='Home', ts=1513753016284, homevisit=1, period=1),\n",
       " Row(userID='2109', page='Home', ts=1513780179284, homevisit=1, period=1),\n",
       " Row(userID='2109', page='Home', ts=1513778724284, homevisit=1, period=2),\n",
       " Row(userID='211', page='Home', ts=1513799281284, homevisit=1, period=1),\n",
       " Row(userID='2111', page='Home', ts=1513779735284, homevisit=1, period=1),\n",
       " Row(userID='2113', page='Home', ts=1513764517284, homevisit=1, period=1),\n",
       " Row(userID='2115', page='Home', ts=1513843224284, homevisit=1, period=1),\n",
       " Row(userID='2115', page='Home', ts=1513782492284, homevisit=1, period=2),\n",
       " Row(userID='2117', page='Home', ts=1513844589284, homevisit=1, period=1),\n",
       " Row(userID='2117', page='Home', ts=1513797571284, homevisit=1, period=2),\n",
       " Row(userID='2117', page='Home', ts=1513796305284, homevisit=1, period=3),\n",
       " Row(userID='2122', page='Home', ts=1513744160284, homevisit=1, period=1),\n",
       " Row(userID='2125', page='Home', ts=1513813237284, homevisit=1, period=1),\n",
       " Row(userID='2132', page='Home', ts=1513806870284, homevisit=1, period=1),\n",
       " Row(userID='2143', page='Home', ts=1513758181284, homevisit=1, period=1),\n",
       " Row(userID='2147', page='Home', ts=1513832830284, homevisit=1, period=1),\n",
       " Row(userID='2160', page='Home', ts=1513798014284, homevisit=1, period=1),\n",
       " Row(userID='2160', page='Home', ts=1513783471284, homevisit=1, period=2),\n",
       " Row(userID='2162', page='Home', ts=1513776699284, homevisit=1, period=1),\n",
       " Row(userID='2162', page='Home', ts=1513776689284, homevisit=1, period=2),\n",
       " Row(userID='2164', page='Home', ts=1513734724284, homevisit=1, period=1),\n",
       " Row(userID='2164', page='Home', ts=1513734575284, homevisit=1, period=2),\n",
       " Row(userID='2164', page='Home', ts=1513729804284, homevisit=1, period=3),\n",
       " Row(userID='2168', page='Home', ts=1513801859284, homevisit=1, period=1),\n",
       " Row(userID='2168', page='Home', ts=1513800267284, homevisit=1, period=2),\n",
       " Row(userID='2168', page='Home', ts=1513788274284, homevisit=1, period=3),\n",
       " Row(userID='2176', page='Home', ts=1513783187284, homevisit=1, period=1),\n",
       " Row(userID='2176', page='Home', ts=1513725161284, homevisit=1, period=2),\n",
       " Row(userID='2181', page='Home', ts=1513768069284, homevisit=1, period=1),\n",
       " Row(userID='2186', page='Home', ts=1513829916284, homevisit=1, period=1),\n",
       " Row(userID='2186', page='Home', ts=1513829239284, homevisit=1, period=2),\n",
       " Row(userID='2187', page='Home', ts=1513789245284, homevisit=1, period=1),\n",
       " Row(userID='2190', page='Home', ts=1513782870284, homevisit=1, period=1),\n",
       " Row(userID='2190', page='Home', ts=1513778323284, homevisit=1, period=2),\n",
       " Row(userID='2190', page='Home', ts=1513772894284, homevisit=1, period=3),\n",
       " Row(userID='2190', page='Home', ts=1513768130284, homevisit=1, period=4),\n",
       " Row(userID='2200', page='Home', ts=1513794960284, homevisit=1, period=1),\n",
       " Row(userID='2202', page='Home', ts=1513763677284, homevisit=1, period=1),\n",
       " Row(userID='2202', page='Home', ts=1513763363284, homevisit=1, period=2),\n",
       " Row(userID='2204', page='Home', ts=1513734780284, homevisit=1, period=1),\n",
       " Row(userID='2213', page='Home', ts=1513779962284, homevisit=1, period=1),\n",
       " Row(userID='2217', page='Home', ts=1513750878284, homevisit=1, period=1),\n",
       " Row(userID='2219', page='Home', ts=1513762208284, homevisit=1, period=1),\n",
       " Row(userID='2231', page='Home', ts=1513742726284, homevisit=1, period=1),\n",
       " Row(userID='2233', page='Home', ts=1513726303284, homevisit=1, period=1),\n",
       " Row(userID='2234', page='Home', ts=1513826280284, homevisit=1, period=1),\n",
       " Row(userID='2239', page='Home', ts=1513801607284, homevisit=1, period=1),\n",
       " Row(userID='2239', page='Home', ts=1513799287284, homevisit=1, period=2),\n",
       " Row(userID='2239', page='Home', ts=1513797575284, homevisit=1, period=3),\n",
       " Row(userID='2243', page='Home', ts=1513766271284, homevisit=1, period=1),\n",
       " Row(userID='2244', page='Home', ts=1513829957284, homevisit=1, period=1),\n",
       " Row(userID='2244', page='Home', ts=1513788772284, homevisit=1, period=2),\n",
       " Row(userID='2247', page='Home', ts=1513746863284, homevisit=1, period=1),\n",
       " Row(userID='2251', page='Home', ts=1513792158284, homevisit=1, period=1),\n",
       " Row(userID='2259', page='Home', ts=1513732264284, homevisit=1, period=1),\n",
       " Row(userID='226', page='Home', ts=1513723394284, homevisit=1, period=1),\n",
       " Row(userID='2268', page='Home', ts=1513825843284, homevisit=1, period=1),\n",
       " Row(userID='2273', page='Home', ts=1513787230284, homevisit=1, period=1),\n",
       " Row(userID='2274', page='Home', ts=1513780851284, homevisit=1, period=1),\n",
       " Row(userID='2274', page='Home', ts=1513780309284, homevisit=1, period=2),\n",
       " Row(userID='2275', page='Home', ts=1513765360284, homevisit=1, period=1),\n",
       " Row(userID='229', page='Home', ts=1513786305284, homevisit=1, period=1),\n",
       " Row(userID='2290', page='Home', ts=1513774453284, homevisit=1, period=1),\n",
       " Row(userID='2293', page='Home', ts=1513783383284, homevisit=1, period=1),\n",
       " Row(userID='2294', page='Home', ts=1513786339284, homevisit=1, period=1),\n",
       " Row(userID='2294', page='Home', ts=1513781169284, homevisit=1, period=2),\n",
       " Row(userID='2294', page='Home', ts=1513780160284, homevisit=1, period=3),\n",
       " Row(userID='2294', page='Home', ts=1513776256284, homevisit=1, period=4),\n",
       " Row(userID='2294', page='Home', ts=1513775245284, homevisit=1, period=5),\n",
       " Row(userID='2297', page='Home', ts=1513784266284, homevisit=1, period=1),\n",
       " Row(userID='2304', page='Home', ts=1513754391284, homevisit=1, period=1),\n",
       " Row(userID='2305', page='Home', ts=1513751261284, homevisit=1, period=1),\n",
       " Row(userID='2311', page='Home', ts=1513787017284, homevisit=1, period=1),\n",
       " Row(userID='2313', page='Home', ts=1513750329284, homevisit=1, period=1),\n",
       " Row(userID='2313', page='Home', ts=1513749091284, homevisit=1, period=2),\n",
       " Row(userID='2313', page='Home', ts=1513747020284, homevisit=1, period=3),\n",
       " Row(userID='2319', page='Home', ts=1513781772284, homevisit=1, period=1),\n",
       " Row(userID='2322', page='Home', ts=1513821004284, homevisit=1, period=1),\n",
       " Row(userID='2333', page='Home', ts=1513725380284, homevisit=1, period=1),\n",
       " Row(userID='2346', page='Home', ts=1513743099284, homevisit=1, period=1),\n",
       " Row(userID='2349', page='Home', ts=1513764152284, homevisit=1, period=1),\n",
       " Row(userID='2349', page='Home', ts=1513731047284, homevisit=1, period=2),\n",
       " Row(userID='2354', page='Home', ts=1513797759284, homevisit=1, period=1),\n",
       " Row(userID='2359', page='Home', ts=1513826043284, homevisit=1, period=1),\n",
       " Row(userID='2359', page='Home', ts=1513825694284, homevisit=1, period=2),\n",
       " Row(userID='2367', page='Home', ts=1513814115284, homevisit=1, period=1),\n",
       " Row(userID='2372', page='Home', ts=1513779116284, homevisit=1, period=1),\n",
       " Row(userID='2372', page='Home', ts=1513777971284, homevisit=1, period=2),\n",
       " Row(userID='2373', page='Home', ts=1513769259284, homevisit=1, period=1),\n",
       " Row(userID='2376', page='Home', ts=1513776924284, homevisit=1, period=1),\n",
       " Row(userID='2383', page='Home', ts=1513781154284, homevisit=1, period=1),\n",
       " Row(userID='2383', page='Home', ts=1513780938284, homevisit=1, period=2),\n",
       " Row(userID='2387', page='Home', ts=1513845778284, homevisit=1, period=1),\n",
       " Row(userID='2388', page='Home', ts=1513744080284, homevisit=1, period=1),\n",
       " Row(userID='2391', page='Home', ts=1513832083284, homevisit=1, period=1),\n",
       " Row(userID='2391', page='Home', ts=1513831294284, homevisit=1, period=2),\n",
       " Row(userID='2402', page='Home', ts=1513728278284, homevisit=1, period=1),\n",
       " Row(userID='2404', page='Home', ts=1513807456284, homevisit=1, period=1),\n",
       " Row(userID='2411', page='Home', ts=1513773686284, homevisit=1, period=1),\n",
       " Row(userID='2412', page='Home', ts=1513787586284, homevisit=1, period=1),\n",
       " Row(userID='2412', page='Home', ts=1513765909284, homevisit=1, period=2),\n",
       " Row(userID='2412', page='Home', ts=1513729293284, homevisit=1, period=3),\n",
       " Row(userID='2416', page='Home', ts=1513723817284, homevisit=1, period=1),\n",
       " Row(userID='2417', page='Home', ts=1513776035284, homevisit=1, period=1),\n",
       " Row(userID='2418', page='Home', ts=1513780348284, homevisit=1, period=1),\n",
       " Row(userID='2418', page='Home', ts=1513761495284, homevisit=1, period=2),\n",
       " Row(userID='2425', page='Home', ts=1513824087284, homevisit=1, period=1),\n",
       " Row(userID='2426', page='Home', ts=1513807345284, homevisit=1, period=1),\n",
       " Row(userID='2426', page='Home', ts=1513790391284, homevisit=1, period=2),\n",
       " Row(userID='2426', page='Home', ts=1513784449284, homevisit=1, period=3),\n",
       " Row(userID='243', page='Home', ts=1513737291284, homevisit=1, period=1),\n",
       " Row(userID='2455', page='Home', ts=1513797973284, homevisit=1, period=1),\n",
       " Row(userID='2459', page='Home', ts=1513818413284, homevisit=1, period=1),\n",
       " Row(userID='2462', page='Home', ts=1513797147284, homevisit=1, period=1),\n",
       " Row(userID='2462', page='Home', ts=1513791191284, homevisit=1, period=2),\n",
       " Row(userID='2462', page='Home', ts=1513790787284, homevisit=1, period=3),\n",
       " Row(userID='2462', page='Home', ts=1513731954284, homevisit=1, period=4),\n",
       " Row(userID='2469', page='Home', ts=1513798154284, homevisit=1, period=1),\n",
       " Row(userID='2469', page='Home', ts=1513785372284, homevisit=1, period=2),\n",
       " Row(userID='247', page='Home', ts=1513833091284, homevisit=1, period=1),\n",
       " Row(userID='247', page='Home', ts=1513820655284, homevisit=1, period=2),\n",
       " Row(userID='2479', page='Home', ts=1513777789284, homevisit=1, period=1),\n",
       " Row(userID='2481', page='Home', ts=1513848222284, homevisit=1, period=1),\n",
       " Row(userID='2481', page='Home', ts=1513831489284, homevisit=1, period=2),\n",
       " Row(userID='2481', page='Home', ts=1513820901284, homevisit=1, period=3),\n",
       " Row(userID='2481', page='Home', ts=1513820620284, homevisit=1, period=4),\n",
       " Row(userID='2481', page='Home', ts=1513784821284, homevisit=1, period=5),\n",
       " Row(userID='2481', page='Home', ts=1513782499284, homevisit=1, period=6),\n",
       " Row(userID='2481', page='Home', ts=1513779230284, homevisit=1, period=7),\n",
       " Row(userID='2489', page='Home', ts=1513830134284, homevisit=1, period=1),\n",
       " Row(userID='249', page='Home', ts=1513816220284, homevisit=1, period=1),\n",
       " Row(userID='2515', page='Home', ts=1513777232284, homevisit=1, period=1),\n",
       " Row(userID='252', page='Home', ts=1513743070284, homevisit=1, period=1),\n",
       " Row(userID='2528', page='Home', ts=1513743844284, homevisit=1, period=1),\n",
       " Row(userID='2528', page='Home', ts=1513725695284, homevisit=1, period=2),\n",
       " Row(userID='2531', page='Home', ts=1513840057284, homevisit=1, period=1),\n",
       " Row(userID='2533', page='Home', ts=1513780244284, homevisit=1, period=1),\n",
       " Row(userID='2533', page='Home', ts=1513767727284, homevisit=1, period=2),\n",
       " Row(userID='2533', page='Home', ts=1513731400284, homevisit=1, period=3),\n",
       " Row(userID='2535', page='Home', ts=1513811311284, homevisit=1, period=1),\n",
       " Row(userID='2539', page='Home', ts=1513770510284, homevisit=1, period=1),\n",
       " Row(userID='254', page='Home', ts=1513783256284, homevisit=1, period=1),\n",
       " Row(userID='2549', page='Home', ts=1513831120284, homevisit=1, period=1),\n",
       " Row(userID='255', page='Home', ts=1513741899284, homevisit=1, period=1),\n",
       " Row(userID='2551', page='Home', ts=1513788631284, homevisit=1, period=1),\n",
       " Row(userID='2552', page='Home', ts=1513786834284, homevisit=1, period=1),\n",
       " Row(userID='2553', page='Home', ts=1513778273284, homevisit=1, period=1),\n",
       " Row(userID='2567', page='Home', ts=1513775250284, homevisit=1, period=1),\n",
       " Row(userID='2570', page='Home', ts=1513805282284, homevisit=1, period=1),\n",
       " Row(userID='2574', page='Home', ts=1513835966284, homevisit=1, period=1),\n",
       " Row(userID='2574', page='Home', ts=1513835877284, homevisit=1, period=2),\n",
       " Row(userID='2589', page='Home', ts=1513784547284, homevisit=1, period=1),\n",
       " Row(userID='2593', page='Home', ts=1513842394284, homevisit=1, period=1),\n",
       " Row(userID='2593', page='Home', ts=1513810456284, homevisit=1, period=2),\n",
       " Row(userID='2593', page='Home', ts=1513807453284, homevisit=1, period=3),\n",
       " Row(userID='2593', page='Home', ts=1513782221284, homevisit=1, period=4),\n",
       " Row(userID='2594', page='Home', ts=1513821375284, homevisit=1, period=1),\n",
       " Row(userID='2599', page='Home', ts=1513809557284, homevisit=1, period=1),\n",
       " Row(userID='2600', page='Home', ts=1513791813284, homevisit=1, period=1),\n",
       " Row(userID='2603', page='Home', ts=1513832535284, homevisit=1, period=1),\n",
       " Row(userID='2612', page='Home', ts=1513777318284, homevisit=1, period=1),\n",
       " Row(userID='2612', page='Home', ts=1513776195284, homevisit=1, period=2),\n",
       " Row(userID='2615', page='Home', ts=1513819539284, homevisit=1, period=1),\n",
       " Row(userID='2617', page='Home', ts=1513845940284, homevisit=1, period=1),\n",
       " Row(userID='2628', page='Home', ts=1513785245284, homevisit=1, period=1),\n",
       " Row(userID='2632', page='Home', ts=1513787445284, homevisit=1, period=1),\n",
       " Row(userID='2632', page='Home', ts=1513785746284, homevisit=1, period=2),\n",
       " Row(userID='2632', page='Home', ts=1513783137284, homevisit=1, period=3),\n",
       " Row(userID='2634', page='Home', ts=1513773201284, homevisit=1, period=1),\n",
       " Row(userID='2636', page='Home', ts=1513797221284, homevisit=1, period=1),\n",
       " Row(userID='2636', page='Home', ts=1513797068284, homevisit=1, period=2),\n",
       " Row(userID='2636', page='Home', ts=1513735038284, homevisit=1, period=3),\n",
       " Row(userID='2636', page='Home', ts=1513725172284, homevisit=1, period=4),\n",
       " Row(userID='2652', page='Home', ts=1513794287284, homevisit=1, period=1),\n",
       " Row(userID='2652', page='Home', ts=1513791588284, homevisit=1, period=2),\n",
       " Row(userID='2652', page='Home', ts=1513788620284, homevisit=1, period=3),\n",
       " Row(userID='266', page='Home', ts=1513755525284, homevisit=1, period=1),\n",
       " Row(userID='2664', page='Home', ts=1513759159284, homevisit=1, period=1),\n",
       " Row(userID='2665', page='Home', ts=1513809675284, homevisit=1, period=1),\n",
       " Row(userID='2675', page='Home', ts=1513755836284, homevisit=1, period=1),\n",
       " Row(userID='2675', page='Home', ts=1513755815284, homevisit=1, period=2),\n",
       " Row(userID='2685', page='Home', ts=1513754889284, homevisit=1, period=1),\n",
       " Row(userID='2685', page='Home', ts=1513745749284, homevisit=1, period=2),\n",
       " Row(userID='2692', page='Home', ts=1513811419284, homevisit=1, period=1),\n",
       " Row(userID='2694', page='Home', ts=1513844494284, homevisit=1, period=1),\n",
       " Row(userID='2694', page='Home', ts=1513842809284, homevisit=1, period=2),\n",
       " Row(userID='2696', page='Home', ts=1513775419284, homevisit=1, period=1),\n",
       " Row(userID='2703', page='Home', ts=1513807946284, homevisit=1, period=1),\n",
       " Row(userID='2703', page='Home', ts=1513807935284, homevisit=1, period=2),\n",
       " Row(userID='2708', page='Home', ts=1513780770284, homevisit=1, period=1),\n",
       " Row(userID='2713', page='Home', ts=1513814922284, homevisit=1, period=1),\n",
       " Row(userID='2713', page='Home', ts=1513814711284, homevisit=1, period=2),\n",
       " Row(userID='2715', page='Home', ts=1513819399284, homevisit=1, period=1),\n",
       " Row(userID='2715', page='Home', ts=1513787793284, homevisit=1, period=2),\n",
       " Row(userID='2715', page='Home', ts=1513731515284, homevisit=1, period=3),\n",
       " Row(userID='2721', page='Home', ts=1513724125284, homevisit=1, period=1),\n",
       " Row(userID='2731', page='Home', ts=1513835971284, homevisit=1, period=1),\n",
       " Row(userID='2731', page='Home', ts=1513784013284, homevisit=1, period=2),\n",
       " Row(userID='2732', page='Home', ts=1513793525284, homevisit=1, period=1),\n",
       " Row(userID='2732', page='Home', ts=1513791728284, homevisit=1, period=2),\n",
       " Row(userID='2732', page='Home', ts=1513774388284, homevisit=1, period=3),\n",
       " Row(userID='2734', page='Home', ts=1513794948284, homevisit=1, period=1),\n",
       " Row(userID='2734', page='Home', ts=1513793868284, homevisit=1, period=2),\n",
       " Row(userID='2734', page='Home', ts=1513789235284, homevisit=1, period=4),\n",
       " Row(userID='2734', page='Home', ts=1513789235284, homevisit=1, period=4),\n",
       " Row(userID='2737', page='Home', ts=1513786255284, homevisit=1, period=1),\n",
       " Row(userID='2743', page='Home', ts=1513801468284, homevisit=1, period=1),\n",
       " Row(userID='2743', page='Home', ts=1513780415284, homevisit=1, period=2),\n",
       " Row(userID='2743', page='Home', ts=1513736221284, homevisit=1, period=3),\n",
       " Row(userID='2748', page='Home', ts=1513829776284, homevisit=1, period=1),\n",
       " Row(userID='2749', page='Home', ts=1513787417284, homevisit=1, period=1),\n",
       " Row(userID='275', page='Home', ts=1513741989284, homevisit=1, period=1),\n",
       " Row(userID='2756', page='Home', ts=1513788285284, homevisit=1, period=1),\n",
       " Row(userID='2756', page='Home', ts=1513782264284, homevisit=1, period=2),\n",
       " Row(userID='2759', page='Home', ts=1513783340284, homevisit=1, period=1),\n",
       " Row(userID='2759', page='Home', ts=1513781769284, homevisit=1, period=2),\n",
       " Row(userID='2759', page='Home', ts=1513781704284, homevisit=1, period=3),\n",
       " Row(userID='2760', page='Home', ts=1513788306284, homevisit=1, period=1),\n",
       " Row(userID='2760', page='Home', ts=1513787697284, homevisit=1, period=2),\n",
       " Row(userID='2760', page='Home', ts=1513776896284, homevisit=1, period=3),\n",
       " Row(userID='2764', page='Home', ts=1513812211284, homevisit=1, period=1),\n",
       " Row(userID='2767', page='Home', ts=1513823788284, homevisit=1, period=1),\n",
       " Row(userID='2767', page='Home', ts=1513804889284, homevisit=1, period=2),\n",
       " Row(userID='2767', page='Home', ts=1513803987284, homevisit=1, period=3),\n",
       " Row(userID='2767', page='Home', ts=1513758474284, homevisit=1, period=4),\n",
       " Row(userID='2767', page='Home', ts=1513738665284, homevisit=1, period=5),\n",
       " Row(userID='2775', page='Home', ts=1513802686284, homevisit=1, period=1),\n",
       " Row(userID='2777', page='Home', ts=1513835628284, homevisit=1, period=1),\n",
       " Row(userID='2786', page='Home', ts=1513772471284, homevisit=1, period=1),\n",
       " Row(userID='2786', page='Home', ts=1513752345284, homevisit=1, period=2),\n",
       " Row(userID='2786', page='Home', ts=1513741502284, homevisit=1, period=3),\n",
       " Row(userID='2791', page='Home', ts=1513846239284, homevisit=1, period=1),\n",
       " Row(userID='2795', page='Home', ts=1513777534284, homevisit=1, period=1),\n",
       " Row(userID='2795', page='Home', ts=1513777486284, homevisit=1, period=2),\n",
       " Row(userID='2799', page='Home', ts=1513743064284, homevisit=1, period=1),\n",
       " Row(userID='28', page='Home', ts=1513757604284, homevisit=1, period=1),\n",
       " Row(userID='28', page='Home', ts=1513755311284, homevisit=1, period=2),\n",
       " Row(userID='2800', page='Home', ts=1513813544284, homevisit=1, period=1),\n",
       " Row(userID='2801', page='Home', ts=1513827917284, homevisit=1, period=1),\n",
       " Row(userID='2801', page='Home', ts=1513817762284, homevisit=1, period=2),\n",
       " Row(userID='2801', page='Home', ts=1513731936284, homevisit=1, period=3),\n",
       " Row(userID='2813', page='Home', ts=1513756685284, homevisit=1, period=1),\n",
       " Row(userID='2813', page='Home', ts=1513754919284, homevisit=1, period=2),\n",
       " Row(userID='2815', page='Home', ts=1513767961284, homevisit=1, period=1),\n",
       " Row(userID='2816', page='Home', ts=1513766998284, homevisit=1, period=1),\n",
       " Row(userID='282', page='Home', ts=1513846240284, homevisit=1, period=1),\n",
       " Row(userID='282', page='Home', ts=1513784856284, homevisit=1, period=2),\n",
       " Row(userID='282', page='Home', ts=1513770656284, homevisit=1, period=3),\n",
       " Row(userID='282', page='Home', ts=1513770531284, homevisit=1, period=4),\n",
       " Row(userID='2829', page='Home', ts=1513764192284, homevisit=1, period=1),\n",
       " Row(userID='2830', page='Home', ts=1513779831284, homevisit=1, period=1),\n",
       " Row(userID='2842', page='Home', ts=1513779541284, homevisit=1, period=1),\n",
       " Row(userID='2845', page='Home', ts=1513790998284, homevisit=1, period=1),\n",
       " Row(userID='2852', page='Home', ts=1513839752284, homevisit=1, period=1),\n",
       " Row(userID='2853', page='Home', ts=1513722832284, homevisit=1, period=1),\n",
       " Row(userID='2873', page='Home', ts=1513781615284, homevisit=1, period=1),\n",
       " Row(userID='2880', page='Home', ts=1513845407284, homevisit=1, period=1),\n",
       " Row(userID='2880', page='Home', ts=1513845341284, homevisit=1, period=2),\n",
       " Row(userID='2882', page='Home', ts=1513723027284, homevisit=1, period=1),\n",
       " Row(userID='2884', page='Home', ts=1513790704284, homevisit=1, period=1),\n",
       " Row(userID='2885', page='Home', ts=1513786559284, homevisit=1, period=1),\n",
       " Row(userID='2892', page='Home', ts=1513790281284, homevisit=1, period=1),\n",
       " Row(userID='2892', page='Home', ts=1513788562284, homevisit=1, period=2),\n",
       " Row(userID='2892', page='Home', ts=1513750821284, homevisit=1, period=3),\n",
       " Row(userID='2892', page='Home', ts=1513749117284, homevisit=1, period=4),\n",
       " Row(userID='2892', page='Home', ts=1513728233284, homevisit=1, period=5),\n",
       " Row(userID='2897', page='Home', ts=1513751453284, homevisit=1, period=1),\n",
       " Row(userID='2902', page='Home', ts=1513722170284, homevisit=1, period=1),\n",
       " Row(userID='2906', page='Home', ts=1513844054284, homevisit=1, period=1),\n",
       " Row(userID='2909', page='Home', ts=1513748627284, homevisit=1, period=1),\n",
       " Row(userID='2912', page='Home', ts=1513776355284, homevisit=1, period=1),\n",
       " Row(userID='2921', page='Home', ts=1513802660284, homevisit=1, period=1),\n",
       " Row(userID='2922', page='Home', ts=1513795596284, homevisit=1, period=1),\n",
       " Row(userID='2922', page='Home', ts=1513755067284, homevisit=1, period=2),\n",
       " Row(userID='2922', page='Home', ts=1513727427284, homevisit=1, period=3),\n",
       " Row(userID='2927', page='Home', ts=1513768493284, homevisit=1, period=1),\n",
       " Row(userID='2933', page='Home', ts=1513774403284, homevisit=1, period=1),\n",
       " Row(userID='2940', page='Home', ts=1513839484284, homevisit=1, period=1),\n",
       " Row(userID='2944', page='Home', ts=1513778351284, homevisit=1, period=1),\n",
       " Row(userID='2945', page='Home', ts=1513843688284, homevisit=1, period=1),\n",
       " Row(userID='2946', page='Home', ts=1513817464284, homevisit=1, period=1),\n",
       " Row(userID='2949', page='Home', ts=1513764798284, homevisit=1, period=1),\n",
       " Row(userID='2950', page='Home', ts=1513816725284, homevisit=1, period=1),\n",
       " Row(userID='2958', page='Home', ts=1513786275284, homevisit=1, period=1),\n",
       " Row(userID='2958', page='Home', ts=1513723853284, homevisit=1, period=2),\n",
       " Row(userID='2963', page='Home', ts=1513774307284, homevisit=1, period=1),\n",
       " Row(userID='2964', page='Home', ts=1513746366284, homevisit=1, period=1),\n",
       " Row(userID='2967', page='Home', ts=1513846174284, homevisit=1, period=1),\n",
       " Row(userID='297', page='Home', ts=1513734035284, homevisit=1, period=1),\n",
       " Row(userID='2975', page='Home', ts=1513791400284, homevisit=1, period=1),\n",
       " Row(userID='298', page='Home', ts=1513812814284, homevisit=1, period=1),\n",
       " Row(userID='2980', page='Home', ts=1513795660284, homevisit=1, period=1),\n",
       " Row(userID='2980', page='Home', ts=1513795232284, homevisit=1, period=2),\n",
       " Row(userID='2988', page='Home', ts=1513735369284, homevisit=1, period=1),\n",
       " Row(userID='2990', page='Home', ts=1513838024284, homevisit=1, period=1),\n",
       " Row(userID='2991', page='Home', ts=1513818245284, homevisit=1, period=1),\n",
       " Row(userID='2993', page='Home', ts=1513730693284, homevisit=1, period=1),\n",
       " Row(userID='2994', page='Home', ts=1513742477284, homevisit=1, period=1),\n",
       " Row(userID='2996', page='Home', ts=1513823715284, homevisit=1, period=1),\n",
       " Row(userID='2997', page='Home', ts=1513789011284, homevisit=1, period=1),\n",
       " Row(userID='302', page='Home', ts=1513742993284, homevisit=1, period=1),\n",
       " Row(userID='305', page='Home', ts=1513792704284, homevisit=1, period=1),\n",
       " Row(userID='308', page='Home', ts=1513841558284, homevisit=1, period=1),\n",
       " Row(userID='308', page='Home', ts=1513757746284, homevisit=1, period=2),\n",
       " Row(userID='308', page='Home', ts=1513756570284, homevisit=1, period=3),\n",
       " Row(userID='314', page='Home', ts=1513761702284, homevisit=1, period=1),\n",
       " Row(userID='316', page='Home', ts=1513845053284, homevisit=1, period=1),\n",
       " Row(userID='316', page='Home', ts=1513841841284, homevisit=1, period=2),\n",
       " Row(userID='32', page='Home', ts=1513725283284, homevisit=1, period=1),\n",
       " Row(userID='321', page='Home', ts=1513731097284, homevisit=1, period=1),\n",
       " Row(userID='323', page='Home', ts=1513809086284, homevisit=1, period=1),\n",
       " Row(userID='325', page='Home', ts=1513822476284, homevisit=1, period=1),\n",
       " Row(userID='331', page='Home', ts=1513806112284, homevisit=1, period=1),\n",
       " Row(userID='338', page='Home', ts=1513814676284, homevisit=1, period=1),\n",
       " Row(userID='343', page='Home', ts=1513778930284, homevisit=1, period=1),\n",
       " Row(userID='35', page='Home', ts=1513729601284, homevisit=1, period=1),\n",
       " Row(userID='354', page='Home', ts=1513826008284, homevisit=1, period=1),\n",
       " Row(userID='354', page='Home', ts=1513768943284, homevisit=1, period=2),\n",
       " Row(userID='361', page='Home', ts=1513848173284, homevisit=1, period=1),\n",
       " Row(userID='362', page='Home', ts=1513738427284, homevisit=1, period=1),\n",
       " Row(userID='364', page='Home', ts=1513819947284, homevisit=1, period=1),\n",
       " Row(userID='367', page='Home', ts=1513780399284, homevisit=1, period=1),\n",
       " Row(userID='374', page='Home', ts=1513734699284, homevisit=1, period=1),\n",
       " Row(userID='377', page='Home', ts=1513780524284, homevisit=1, period=1),\n",
       " Row(userID='377', page='Home', ts=1513780178284, homevisit=1, period=2),\n",
       " Row(userID='379', page='Home', ts=1513792066284, homevisit=1, period=1),\n",
       " Row(userID='387', page='Home', ts=1513844391284, homevisit=1, period=1),\n",
       " Row(userID='391', page='Home', ts=1513759518284, homevisit=1, period=1),\n",
       " Row(userID='392', page='Home', ts=1513725781284, homevisit=1, period=1),\n",
       " Row(userID='393', page='Home', ts=1513820172284, homevisit=1, period=1),\n",
       " Row(userID='395', page='Home', ts=1513772994284, homevisit=1, period=1),\n",
       " Row(userID='40', page='Home', ts=1513787995284, homevisit=1, period=1),\n",
       " Row(userID='40', page='Home', ts=1513787755284, homevisit=1, period=2),\n",
       " Row(userID='410', page='Home', ts=1513765700284, homevisit=1, period=1),\n",
       " Row(userID='420', page='Home', ts=1513732260284, homevisit=1, period=1),\n",
       " Row(userID='420', page='Home', ts=1513730990284, homevisit=1, period=2),\n",
       " Row(userID='422', page='Home', ts=1513741123284, homevisit=1, period=1),\n",
       " Row(userID='422', page='Home', ts=1513737371284, homevisit=1, period=2),\n",
       " Row(userID='429', page='Home', ts=1513799442284, homevisit=1, period=1),\n",
       " Row(userID='429', page='Home', ts=1513750624284, homevisit=1, period=2),\n",
       " Row(userID='429', page='Home', ts=1513750118284, homevisit=1, period=3),\n",
       " Row(userID='43', page='Home', ts=1513787088284, homevisit=1, period=1),\n",
       " Row(userID='438', page='Home', ts=1513785046284, homevisit=1, period=1),\n",
       " Row(userID='441', page='Home', ts=1513771406284, homevisit=1, period=1),\n",
       " Row(userID='442', page='Home', ts=1513805353284, homevisit=1, period=1),\n",
       " Row(userID='446', page='Home', ts=1513845566284, homevisit=1, period=1),\n",
       " Row(userID='446', page='Home', ts=1513740621284, homevisit=1, period=2),\n",
       " Row(userID='450', page='Home', ts=1513828465284, homevisit=1, period=1),\n",
       " Row(userID='451', page='Home', ts=1513845603284, homevisit=1, period=1),\n",
       " Row(userID='451', page='Home', ts=1513845550284, homevisit=1, period=2),\n",
       " Row(userID='462', page='Home', ts=1513780509284, homevisit=1, period=1),\n",
       " Row(userID='462', page='Home', ts=1513769077284, homevisit=1, period=2),\n",
       " Row(userID='462', page='Home', ts=1513767195284, homevisit=1, period=3),\n",
       " Row(userID='462', page='Home', ts=1513749954284, homevisit=1, period=4),\n",
       " Row(userID='465', page='Home', ts=1513841389284, homevisit=1, period=1),\n",
       " Row(userID='47', page='Home', ts=1513725723284, homevisit=1, period=1),\n",
       " Row(userID='471', page='Home', ts=1513775380284, homevisit=1, period=1),\n",
       " Row(userID='476', page='Home', ts=1513815680284, homevisit=1, period=1),\n",
       " Row(userID='480', page='Home', ts=1513745498284, homevisit=1, period=1),\n",
       " Row(userID='486', page='Home', ts=1513771584284, homevisit=1, period=1),\n",
       " Row(userID='496', page='Home', ts=1513789894284, homevisit=1, period=1),\n",
       " Row(userID='505', page='Home', ts=1513825927284, homevisit=1, period=1),\n",
       " Row(userID='512', page='Home', ts=1513788904284, homevisit=1, period=1),\n",
       " Row(userID='512', page='Home', ts=1513730258284, homevisit=1, period=2),\n",
       " Row(userID='512', page='Home', ts=1513730158284, homevisit=1, period=3),\n",
       " Row(userID='517', page='Home', ts=1513824472284, homevisit=1, period=1),\n",
       " Row(userID='52', page='Home', ts=1513780413284, homevisit=1, period=1),\n",
       " Row(userID='523', page='Home', ts=1513802445284, homevisit=1, period=1),\n",
       " Row(userID='523', page='Home', ts=1513794886284, homevisit=1, period=2),\n",
       " Row(userID='523', page='Home', ts=1513790745284, homevisit=1, period=3),\n",
       " Row(userID='523', page='Home', ts=1513775738284, homevisit=1, period=4),\n",
       " Row(userID='523', page='Home', ts=1513774079284, homevisit=1, period=5),\n",
       " Row(userID='523', page='Home', ts=1513740559284, homevisit=1, period=6),\n",
       " Row(userID='526', page='Home', ts=1513819303284, homevisit=1, period=1),\n",
       " Row(userID='526', page='Home', ts=1513804693284, homevisit=1, period=2),\n",
       " Row(userID='527', page='Home', ts=1513781719284, homevisit=1, period=1),\n",
       " Row(userID='527', page='Home', ts=1513767528284, homevisit=1, period=2),\n",
       " Row(userID='533', page='Home', ts=1513773022284, homevisit=1, period=1),\n",
       " Row(userID='534', page='Home', ts=1513785502284, homevisit=1, period=1),\n",
       " Row(userID='540', page='Home', ts=1513755008284, homevisit=1, period=1),\n",
       " Row(userID='540', page='Home', ts=1513754264284, homevisit=1, period=2),\n",
       " Row(userID='540', page='Home', ts=1513753827284, homevisit=1, period=3),\n",
       " Row(userID='541', page='Home', ts=1513787001284, homevisit=1, period=1),\n",
       " Row(userID='541', page='Home', ts=1513784017284, homevisit=1, period=2),\n",
       " Row(userID='541', page='Home', ts=1513780330284, homevisit=1, period=3),\n",
       " Row(userID='541', page='Home', ts=1513780195284, homevisit=1, period=4),\n",
       " Row(userID='55', page='Home', ts=1513841482284, homevisit=1, period=1),\n",
       " Row(userID='553', page='Home', ts=1513727935284, homevisit=1, period=1),\n",
       " Row(userID='568', page='Home', ts=1513843168284, homevisit=1, period=1),\n",
       " Row(userID='568', page='Home', ts=1513830027284, homevisit=1, period=2),\n",
       " Row(userID='571', page='Home', ts=1513847699284, homevisit=1, period=1),\n",
       " Row(userID='574', page='Home', ts=1513788202284, homevisit=1, period=1),\n",
       " Row(userID='574', page='Home', ts=1513786683284, homevisit=1, period=2),\n",
       " Row(userID='577', page='Home', ts=1513721247284, homevisit=1, period=1),\n",
       " Row(userID='578', page='Home', ts=1513741886284, homevisit=1, period=1),\n",
       " Row(userID='58', page='Home', ts=1513833432284, homevisit=1, period=1),\n",
       " Row(userID='58', page='Home', ts=1513828484284, homevisit=1, period=2),\n",
       " Row(userID='58', page='Home', ts=1513825673284, homevisit=1, period=3),\n",
       " Row(userID='58', page='Home', ts=1513814619284, homevisit=1, period=4),\n",
       " Row(userID='58', page='Home', ts=1513811277284, homevisit=1, period=5),\n",
       " Row(userID='58', page='Home', ts=1513810838284, homevisit=1, period=6),\n",
       " Row(userID='58', page='Home', ts=1513792836284, homevisit=1, period=7),\n",
       " Row(userID='58', page='Home', ts=1513739431284, homevisit=1, period=8),\n",
       " ...]"
      ]
     },
     "execution_count": 92,
     "metadata": {},
     "output_type": "execute_result"
    }
   ],
   "source": [
    "cusum.collect()"
   ]
  },
  {
   "cell_type": "code",
   "execution_count": 97,
   "id": "250fae1c",
   "metadata": {},
   "outputs": [
    {
     "name": "stdout",
     "output_type": "stream",
     "text": [
      "+------+----+---+---------+------+\n",
      "|userID|page| ts|homevisit|period|\n",
      "+------+----+---+---------+------+\n",
      "+------+----+---+---------+------+\n",
      "\n"
     ]
    }
   ],
   "source": [
    "cusum.filter((cusum.page == 'NextSong')).show()"
   ]
  },
  {
   "cell_type": "code",
   "execution_count": null,
   "id": "c01fb512",
   "metadata": {},
   "outputs": [],
   "source": []
  },
  {
   "cell_type": "code",
   "execution_count": null,
   "id": "fa428114",
   "metadata": {},
   "outputs": [],
   "source": []
  },
  {
   "cell_type": "code",
   "execution_count": null,
   "id": "db976218",
   "metadata": {},
   "outputs": [],
   "source": []
  },
  {
   "cell_type": "code",
   "execution_count": null,
   "id": "62d75ff8",
   "metadata": {},
   "outputs": [],
   "source": []
  },
  {
   "cell_type": "code",
   "execution_count": null,
   "id": "3021dd27",
   "metadata": {},
   "outputs": [],
   "source": []
  },
  {
   "cell_type": "code",
   "execution_count": null,
   "id": "98d348c8",
   "metadata": {},
   "outputs": [],
   "source": []
  },
  {
   "cell_type": "code",
   "execution_count": null,
   "id": "432161c6",
   "metadata": {},
   "outputs": [],
   "source": []
  },
  {
   "cell_type": "code",
   "execution_count": null,
   "id": "7e266ce7",
   "metadata": {},
   "outputs": [],
   "source": []
  },
  {
   "cell_type": "code",
   "execution_count": null,
   "id": "456e2ac3",
   "metadata": {},
   "outputs": [],
   "source": []
  },
  {
   "cell_type": "code",
   "execution_count": null,
   "id": "5fb1bfd2",
   "metadata": {},
   "outputs": [],
   "source": []
  },
  {
   "cell_type": "code",
   "execution_count": null,
   "id": "57a75104",
   "metadata": {},
   "outputs": [],
   "source": []
  },
  {
   "cell_type": "code",
   "execution_count": null,
   "id": "9b5faab6",
   "metadata": {},
   "outputs": [],
   "source": []
  },
  {
   "cell_type": "code",
   "execution_count": null,
   "id": "bde8cccf",
   "metadata": {},
   "outputs": [],
   "source": []
  },
  {
   "cell_type": "code",
   "execution_count": null,
   "id": "40122d0a",
   "metadata": {},
   "outputs": [],
   "source": []
  },
  {
   "cell_type": "code",
   "execution_count": null,
   "id": "cdca5504",
   "metadata": {},
   "outputs": [],
   "source": []
  },
  {
   "cell_type": "code",
   "execution_count": null,
   "id": "c3d9f0c1",
   "metadata": {},
   "outputs": [],
   "source": []
  },
  {
   "cell_type": "code",
   "execution_count": null,
   "id": "5b81813b",
   "metadata": {},
   "outputs": [],
   "source": []
  },
  {
   "cell_type": "code",
   "execution_count": null,
   "id": "29faaab8",
   "metadata": {},
   "outputs": [],
   "source": []
  },
  {
   "cell_type": "code",
   "execution_count": null,
   "id": "20937ddf",
   "metadata": {},
   "outputs": [],
   "source": []
  },
  {
   "cell_type": "code",
   "execution_count": null,
   "id": "3e3aa12c",
   "metadata": {},
   "outputs": [],
   "source": []
  },
  {
   "cell_type": "code",
   "execution_count": null,
   "id": "49ff3d70",
   "metadata": {},
   "outputs": [],
   "source": []
  },
  {
   "cell_type": "code",
   "execution_count": null,
   "id": "e30aa9af",
   "metadata": {},
   "outputs": [],
   "source": []
  },
  {
   "cell_type": "code",
   "execution_count": null,
   "id": "10dd0d3a",
   "metadata": {},
   "outputs": [],
   "source": []
  },
  {
   "cell_type": "code",
   "execution_count": null,
   "id": "87b233b6",
   "metadata": {},
   "outputs": [],
   "source": []
  },
  {
   "cell_type": "code",
   "execution_count": null,
   "id": "3eae3a34",
   "metadata": {},
   "outputs": [],
   "source": []
  },
  {
   "cell_type": "code",
   "execution_count": null,
   "id": "50f9b5f9",
   "metadata": {},
   "outputs": [],
   "source": []
  },
  {
   "cell_type": "code",
   "execution_count": null,
   "id": "d147f543",
   "metadata": {},
   "outputs": [],
   "source": []
  },
  {
   "cell_type": "code",
   "execution_count": null,
   "id": "22299eab",
   "metadata": {},
   "outputs": [],
   "source": []
  },
  {
   "cell_type": "code",
   "execution_count": null,
   "id": "88c4417a",
   "metadata": {},
   "outputs": [],
   "source": []
  },
  {
   "cell_type": "code",
   "execution_count": null,
   "id": "72ad308d",
   "metadata": {},
   "outputs": [],
   "source": []
  },
  {
   "cell_type": "code",
   "execution_count": null,
   "id": "521a09c7",
   "metadata": {},
   "outputs": [],
   "source": []
  },
  {
   "cell_type": "code",
   "execution_count": null,
   "id": "9732d76b",
   "metadata": {},
   "outputs": [],
   "source": []
  },
  {
   "cell_type": "code",
   "execution_count": null,
   "id": "ad669793",
   "metadata": {},
   "outputs": [],
   "source": []
  },
  {
   "cell_type": "code",
   "execution_count": null,
   "id": "8ca89fcd",
   "metadata": {},
   "outputs": [],
   "source": []
  },
  {
   "cell_type": "code",
   "execution_count": null,
   "id": "4111d426",
   "metadata": {},
   "outputs": [],
   "source": []
  }
 ],
 "metadata": {
  "kernelspec": {
   "display_name": "Python 3",
   "language": "python",
   "name": "python3"
  },
  "language_info": {
   "codemirror_mode": {
    "name": "ipython",
    "version": 3
   },
   "file_extension": ".py",
   "mimetype": "text/x-python",
   "name": "python",
   "nbconvert_exporter": "python",
   "pygments_lexer": "ipython3",
   "version": "3.8.8"
  }
 },
 "nbformat": 4,
 "nbformat_minor": 5
}
